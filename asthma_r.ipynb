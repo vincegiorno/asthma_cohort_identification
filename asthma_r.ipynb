{
 "cells": [
  {
   "cell_type": "code",
   "execution_count": 1,
   "metadata": {},
   "outputs": [
    {
     "name": "stderr",
     "output_type": "stream",
     "text": [
      "\n",
      "Attaching package: ‘dplyr’\n",
      "\n",
      "The following objects are masked from ‘package:stats’:\n",
      "\n",
      "    filter, lag\n",
      "\n",
      "The following objects are masked from ‘package:base’:\n",
      "\n",
      "    intersect, setdiff, setequal, union\n",
      "\n",
      "\n",
      "Attaching package: ‘data.table’\n",
      "\n",
      "The following objects are masked from ‘package:dplyr’:\n",
      "\n",
      "    between, first, last\n",
      "\n"
     ]
    }
   ],
   "source": [
    "library(dplyr)\n",
    "library(ggplot2)\n",
    "library(data.table)"
   ]
  },
  {
   "cell_type": "markdown",
   "metadata": {},
   "source": [
    "Due to problems reading the .csv data files into Postgres, I opted to use the data.table package for its fread() method, which is very capable of reading files passed to it with minimal or no special configuration. In light of this, the analysis uses data.table methods instead of the more readable dplyr syntax."
   ]
  },
  {
   "cell_type": "code",
   "execution_count": 2,
   "metadata": {},
   "outputs": [],
   "source": [
    "asthma_codes <- as.vector(fread('codesets/asthma_codeset.csv', select=c('concept_id'))$concept_id)"
   ]
  },
  {
   "cell_type": "code",
   "execution_count": 3,
   "metadata": {},
   "outputs": [
    {
     "data": {
      "text/html": [
       "<ol class=list-inline>\n",
       "\t<li>317009</li>\n",
       "\t<li>4155469</li>\n",
       "\t<li>44810117</li>\n",
       "\t<li>45769441</li>\n",
       "\t<li>46269784</li>\n",
       "</ol>\n"
      ],
      "text/latex": [
       "\\begin{enumerate*}\n",
       "\\item 317009\n",
       "\\item 4155469\n",
       "\\item 44810117\n",
       "\\item 45769441\n",
       "\\item 46269784\n",
       "\\end{enumerate*}\n"
      ],
      "text/markdown": [
       "1. 317009\n",
       "2. 4155469\n",
       "3. 44810117\n",
       "4. 45769441\n",
       "5. 46269784\n",
       "\n",
       "\n"
      ],
      "text/plain": [
       "[1]   317009  4155469 44810117 45769441 46269784"
      ]
     },
     "metadata": {},
     "output_type": "display_data"
    }
   ],
   "source": [
    "asthma_codes[1:5]"
   ]
  },
  {
   "cell_type": "code",
   "execution_count": 4,
   "metadata": {},
   "outputs": [],
   "source": [
    "albuterol <- fread('codesets/albuterol_codes.csv', select=c('concept_id', 'concept_name'))"
   ]
  },
  {
   "cell_type": "code",
   "execution_count": 5,
   "metadata": {},
   "outputs": [
    {
     "data": {
      "text/html": [
       "3025"
      ],
      "text/latex": [
       "3025"
      ],
      "text/markdown": [
       "3025"
      ],
      "text/plain": [
       "[1] 3025"
      ]
     },
     "metadata": {},
     "output_type": "display_data"
    }
   ],
   "source": [
    "nrow(albuterol)"
   ]
  },
  {
   "cell_type": "code",
   "execution_count": 6,
   "metadata": {},
   "outputs": [
    {
     "name": "stdout",
     "output_type": "stream",
     "text": [
      "Classes ‘data.table’ and 'data.frame':\t3025 obs. of  2 variables:\n",
      " $ concept_id  : int  42715193 41490071 40902723 35798286 43615525 21091536 36881999 21148258 41271003 43632161 ...\n",
      " $ concept_name: chr  \"Albuterol 0.598 MG/ML Inhalant Solution Box of 20\" \"30000 MG Albuterol 0.00000347 MG/MG Inhalant Solution Box of 300\" \"Albuterol 20 MG Dry Powder Inhaler [Salbuhexal] Box of 1\" \"60 ACTUAT Albuterol 0.2 MG/ACTUAT Inhalant Powder [Ventolin] by Sigma-Tau\" ...\n",
      " - attr(*, \".internal.selfref\")=<externalptr> \n"
     ]
    }
   ],
   "source": [
    "str(albuterol)"
   ]
  },
  {
   "cell_type": "code",
   "execution_count": 7,
   "metadata": {},
   "outputs": [],
   "source": [
    "albuterol <- albuterol[grepl(\"inhal\", albuterol$concept_name, ignore.case=TRUE)]"
   ]
  },
  {
   "cell_type": "code",
   "execution_count": 8,
   "metadata": {},
   "outputs": [
    {
     "data": {
      "text/html": [
       "3024"
      ],
      "text/latex": [
       "3024"
      ],
      "text/markdown": [
       "3024"
      ],
      "text/plain": [
       "[1] 3024"
      ]
     },
     "metadata": {},
     "output_type": "display_data"
    }
   ],
   "source": [
    "nrow(albuterol) # every code except the basic albuterol concept is for an in inhaled form of the drug"
   ]
  },
  {
   "cell_type": "code",
   "execution_count": 9,
   "metadata": {},
   "outputs": [],
   "source": [
    "inhaled <- as.vector(albuterol$concept_id)"
   ]
  },
  {
   "cell_type": "code",
   "execution_count": 10,
   "metadata": {},
   "outputs": [
    {
     "data": {
      "text/html": [
       "<ol class=list-inline>\n",
       "\t<li>42715193</li>\n",
       "\t<li>41490071</li>\n",
       "\t<li>40902723</li>\n",
       "\t<li>35798286</li>\n",
       "\t<li>43615525</li>\n",
       "</ol>\n"
      ],
      "text/latex": [
       "\\begin{enumerate*}\n",
       "\\item 42715193\n",
       "\\item 41490071\n",
       "\\item 40902723\n",
       "\\item 35798286\n",
       "\\item 43615525\n",
       "\\end{enumerate*}\n"
      ],
      "text/markdown": [
       "1. 42715193\n",
       "2. 41490071\n",
       "3. 40902723\n",
       "4. 35798286\n",
       "5. 43615525\n",
       "\n",
       "\n"
      ],
      "text/plain": [
       "[1] 42715193 41490071 40902723 35798286 43615525"
      ]
     },
     "metadata": {},
     "output_type": "display_data"
    }
   ],
   "source": [
    "inhaled[1:5]"
   ]
  },
  {
   "cell_type": "code",
   "execution_count": 11,
   "metadata": {},
   "outputs": [
    {
     "data": {
      "text/html": [
       "<ol class=list-inline>\n",
       "\t<li>'condition_occurrence.csv'</li>\n",
       "\t<li>'drug_exposure.csv'</li>\n",
       "\t<li>'measurement.csv'</li>\n",
       "\t<li>'person.csv'</li>\n",
       "\t<li>'visit_occurrence.csv'</li>\n",
       "</ol>\n"
      ],
      "text/latex": [
       "\\begin{enumerate*}\n",
       "\\item 'condition\\_occurrence.csv'\n",
       "\\item 'drug\\_exposure.csv'\n",
       "\\item 'measurement.csv'\n",
       "\\item 'person.csv'\n",
       "\\item 'visit\\_occurrence.csv'\n",
       "\\end{enumerate*}\n"
      ],
      "text/markdown": [
       "1. 'condition_occurrence.csv'\n",
       "2. 'drug_exposure.csv'\n",
       "3. 'measurement.csv'\n",
       "4. 'person.csv'\n",
       "5. 'visit_occurrence.csv'\n",
       "\n",
       "\n"
      ],
      "text/plain": [
       "[1] \"condition_occurrence.csv\" \"drug_exposure.csv\"       \n",
       "[3] \"measurement.csv\"          \"person.csv\"              \n",
       "[5] \"visit_occurrence.csv\"    "
      ]
     },
     "metadata": {},
     "output_type": "display_data"
    }
   ],
   "source": [
    "list.files(path='patient_data')"
   ]
  },
  {
   "cell_type": "code",
   "execution_count": 12,
   "metadata": {},
   "outputs": [
    {
     "name": "stderr",
     "output_type": "stream",
     "text": [
      "Warning message in fread(\"patient_data/drug_exposure.csv\"):\n",
      "“Discarded single-line footer: <<2371,1>>”"
     ]
    }
   ],
   "source": [
    "condition <- fread('patient_data/condition_occurrence.csv')\n",
    "drug <- fread('patient_data/drug_exposure.csv')\n",
    "drug$drug_exposure_start_date <- as.Date(drug$drug_exposure_start_date, '%Y-%m-%d')\n",
    "measurement <- fread('patient_data/measurement.csv')\n",
    "measurement$measurement_date <- as.Date(measurement$measurement_date, '%Y-%m-%d')\n",
    "person <- fread('patient_data/person.csv')\n",
    "person$birth_datetime <- as.Date(person$birth_datetime, '%Y-%m-%d')\n",
    "visit <- fread('patient_data/visit_occurrence.csv')\n",
    "visit$visit_start_date <- as.Date(visit$visit_start_date, '%Y-%m-%d')"
   ]
  },
  {
   "cell_type": "code",
   "execution_count": 13,
   "metadata": {},
   "outputs": [],
   "source": [
    "# Filter for visits with asthma diagnosis\n",
    "asthma_dx <- condition[condition_concept_id %in% asthma_codes, .(person_id, condition_start_date, visit_occurrence_id)]"
   ]
  },
  {
   "cell_type": "code",
   "execution_count": 14,
   "metadata": {},
   "outputs": [],
   "source": [
    "latest_date <- as.Date('2018-04-02', '%Y-%m-%d') # date of last modification on .csv data files"
   ]
  },
  {
   "cell_type": "code",
   "execution_count": 15,
   "metadata": {},
   "outputs": [],
   "source": [
    "# Filter for valid visit dates, keeping earliest and total count\n",
    "# Count unique visit IDs, because multiple asthma diagnoses for the same visit have separate occurrence table entries\n",
    "setkey(asthma_dx, visit_occurrence_id)\n",
    "setkey(visit, visit_occurrence_id)\n",
    "dx <- asthma_dx[visit, nomatch=0][\n",
    "    , .(person_id, visit_start_date, visit_occurrence_id)\n",
    "][\n",
    "    visit_start_date <= latest_date\n",
    "][\n",
    "    , .(first_dx = min(visit_start_date), num_visits = uniqueN(visit_occurrence_id)), by=person_id\n",
    "]"
   ]
  },
  {
   "cell_type": "code",
   "execution_count": 16,
   "metadata": {},
   "outputs": [],
   "source": [
    "# Candidates must have a minimum of 2 visits with asthma diagnoses\n",
    "possibles <- dx[num_visits > 1]"
   ]
  },
  {
   "cell_type": "code",
   "execution_count": 17,
   "metadata": {},
   "outputs": [
    {
     "name": "stdout",
     "output_type": "stream",
     "text": [
      "[1] 1774\n",
      "[1] 1461\n"
     ]
    }
   ],
   "source": [
    "print(nrow(dx))\n",
    "print(nrow(possibles))"
   ]
  },
  {
   "cell_type": "code",
   "execution_count": 18,
   "metadata": {},
   "outputs": [],
   "source": [
    "# Find patients with inhaled albuterol prescriptions; keep patient ID and first prescription date\n",
    "possibles_ids <- c(possibles$person_id)\n",
    "scripts <- drug[person_id %in% possibles_ids & drug_concept_id %in% inhaled][\n",
    "    , .(first_rx = min(drug_exposure_start_date)), by=person_id\n",
    "]"
   ]
  },
  {
   "cell_type": "code",
   "execution_count": 19,
   "metadata": {},
   "outputs": [
    {
     "data": {
      "text/html": [
       "<table>\n",
       "<thead><tr><th scope=col>person_id</th><th scope=col>first_rx</th></tr></thead>\n",
       "<tbody>\n",
       "\t<tr><td>1003      </td><td>2007-02-16</td></tr>\n",
       "</tbody>\n",
       "</table>\n"
      ],
      "text/latex": [
       "\\begin{tabular}{r|ll}\n",
       " person\\_id & first\\_rx\\\\\n",
       "\\hline\n",
       "\t 1003       & 2007-02-16\\\\\n",
       "\\end{tabular}\n"
      ],
      "text/markdown": [
       "\n",
       "person_id | first_rx | \n",
       "|---|\n",
       "| 1003       | 2007-02-16 | \n",
       "\n",
       "\n"
      ],
      "text/plain": [
       "  person_id first_rx  \n",
       "1 1003      2007-02-16"
      ]
     },
     "metadata": {},
     "output_type": "display_data"
    }
   ],
   "source": [
    "scripts[person_id == 1003]"
   ]
  },
  {
   "cell_type": "code",
   "execution_count": 20,
   "metadata": {},
   "outputs": [
    {
     "data": {
      "text/html": [
       "<table>\n",
       "<thead><tr><th scope=col>person_id</th><th scope=col>first_dx</th><th scope=col>num_visits</th><th scope=col>first_rx</th></tr></thead>\n",
       "<tbody>\n",
       "\t<tr><td>454       </td><td>2002-11-06</td><td>15        </td><td>2004-03-14</td></tr>\n",
       "\t<tr><td>455       </td><td>2003-02-03</td><td>11        </td><td>2005-12-26</td></tr>\n",
       "\t<tr><td>457       </td><td>2004-12-01</td><td>15        </td><td>2004-12-01</td></tr>\n",
       "\t<tr><td>460       </td><td>2002-12-22</td><td>23        </td><td>2002-12-22</td></tr>\n",
       "\t<tr><td>461       </td><td>2003-05-28</td><td>12        </td><td>2003-08-18</td></tr>\n",
       "\t<tr><td>462       </td><td>2003-03-11</td><td>12        </td><td>2003-03-11</td></tr>\n",
       "</tbody>\n",
       "</table>\n"
      ],
      "text/latex": [
       "\\begin{tabular}{r|llll}\n",
       " person\\_id & first\\_dx & num\\_visits & first\\_rx\\\\\n",
       "\\hline\n",
       "\t 454        & 2002-11-06 & 15         & 2004-03-14\\\\\n",
       "\t 455        & 2003-02-03 & 11         & 2005-12-26\\\\\n",
       "\t 457        & 2004-12-01 & 15         & 2004-12-01\\\\\n",
       "\t 460        & 2002-12-22 & 23         & 2002-12-22\\\\\n",
       "\t 461        & 2003-05-28 & 12         & 2003-08-18\\\\\n",
       "\t 462        & 2003-03-11 & 12         & 2003-03-11\\\\\n",
       "\\end{tabular}\n"
      ],
      "text/markdown": [
       "\n",
       "person_id | first_dx | num_visits | first_rx | \n",
       "|---|---|---|---|---|---|\n",
       "| 454        | 2002-11-06 | 15         | 2004-03-14 | \n",
       "| 455        | 2003-02-03 | 11         | 2005-12-26 | \n",
       "| 457        | 2004-12-01 | 15         | 2004-12-01 | \n",
       "| 460        | 2002-12-22 | 23         | 2002-12-22 | \n",
       "| 461        | 2003-05-28 | 12         | 2003-08-18 | \n",
       "| 462        | 2003-03-11 | 12         | 2003-03-11 | \n",
       "\n",
       "\n"
      ],
      "text/plain": [
       "  person_id first_dx   num_visits first_rx  \n",
       "1 454       2002-11-06 15         2004-03-14\n",
       "2 455       2003-02-03 11         2005-12-26\n",
       "3 457       2004-12-01 15         2004-12-01\n",
       "4 460       2002-12-22 23         2002-12-22\n",
       "5 461       2003-05-28 12         2003-08-18\n",
       "6 462       2003-03-11 12         2003-03-11"
      ]
     },
     "metadata": {},
     "output_type": "display_data"
    }
   ],
   "source": [
    "# Filter for selected patients whose first prescription is dated after their first asthma diagnosis \n",
    "setkey(possibles, person_id)\n",
    "setkey(scripts, person_id)\n",
    "asthma_patients <- possibles[scripts, nomatch=0][\n",
    "    first_rx >= first_dx\n",
    "]\n",
    "head(asthma_patients)"
   ]
  },
  {
   "cell_type": "code",
   "execution_count": 21,
   "metadata": {},
   "outputs": [
    {
     "data": {
      "text/html": [
       "918"
      ],
      "text/latex": [
       "918"
      ],
      "text/markdown": [
       "918"
      ],
      "text/plain": [
       "[1] 918"
      ]
     },
     "metadata": {},
     "output_type": "display_data"
    }
   ],
   "source": [
    "nrow(asthma_patients)"
   ]
  },
  {
   "cell_type": "code",
   "execution_count": 22,
   "metadata": {},
   "outputs": [
    {
     "data": {
      "text/html": [
       "<table>\n",
       "<thead><tr><th scope=col>person_id</th><th scope=col>first_obese</th><th scope=col>BMI_z</th></tr></thead>\n",
       "<tbody>\n",
       "\t<tr><td> 560      </td><td>2005-10-02</td><td>1.711458  </td></tr>\n",
       "\t<tr><td> 716      </td><td>2010-01-05</td><td>1.803962  </td></tr>\n",
       "\t<tr><td> 590      </td><td>2009-06-16</td><td>1.905821  </td></tr>\n",
       "\t<tr><td>1192      </td><td>2016-04-07</td><td>2.645530  </td></tr>\n",
       "\t<tr><td>2139      </td><td>2004-04-28</td><td>1.714965  </td></tr>\n",
       "\t<tr><td> 905      </td><td>2012-04-28</td><td>2.236804  </td></tr>\n",
       "</tbody>\n",
       "</table>\n"
      ],
      "text/latex": [
       "\\begin{tabular}{r|lll}\n",
       " person\\_id & first\\_obese & BMI\\_z\\\\\n",
       "\\hline\n",
       "\t  560       & 2005-10-02 & 1.711458  \\\\\n",
       "\t  716       & 2010-01-05 & 1.803962  \\\\\n",
       "\t  590       & 2009-06-16 & 1.905821  \\\\\n",
       "\t 1192       & 2016-04-07 & 2.645530  \\\\\n",
       "\t 2139       & 2004-04-28 & 1.714965  \\\\\n",
       "\t  905       & 2012-04-28 & 2.236804  \\\\\n",
       "\\end{tabular}\n"
      ],
      "text/markdown": [
       "\n",
       "person_id | first_obese | BMI_z | \n",
       "|---|---|---|---|---|---|\n",
       "|  560       | 2005-10-02 | 1.711458   | \n",
       "|  716       | 2010-01-05 | 1.803962   | \n",
       "|  590       | 2009-06-16 | 1.905821   | \n",
       "| 1192       | 2016-04-07 | 2.645530   | \n",
       "| 2139       | 2004-04-28 | 1.714965   | \n",
       "|  905       | 2012-04-28 | 2.236804   | \n",
       "\n",
       "\n"
      ],
      "text/plain": [
       "  person_id first_obese BMI_z   \n",
       "1  560      2005-10-02  1.711458\n",
       "2  716      2010-01-05  1.803962\n",
       "3  590      2009-06-16  1.905821\n",
       "4 1192      2016-04-07  2.645530\n",
       "5 2139      2004-04-28  1.714965\n",
       "6  905      2012-04-28  2.236804"
      ]
     },
     "metadata": {},
     "output_type": "display_data"
    }
   ],
   "source": [
    "# Identify selected patients with BMI z-scores >= 1.645; keep measurement values and dates\n",
    "# Multiple measurements for same patient & date are averaged\n",
    "# Column is labeled 'first_obese' to avoid renaming after selecting the earliest date\n",
    "asthma_patient_ids <- c(asthma_patients$person_id)\n",
    "obese <- measurement[measurement_concept_id == '2000000043' & value_as_number >= 1.645 & measurement_date <= latest_date][\n",
    "    person_id %in% asthma_patient_ids\n",
    "][\n",
    "    , .(BMI_z = mean(value_as_number)), by=c('person_id', 'measurement_date')\n",
    "][\n",
    "    , .(person_id, first_obese=measurement_date, BMI_z)\n",
    "]\n",
    "head(obese)"
   ]
  },
  {
   "cell_type": "code",
   "execution_count": 23,
   "metadata": {},
   "outputs": [],
   "source": [
    "# Get IDs for selected patients with obese measurements after first asthma diagnosis\n",
    "setkey(obese, person_id)\n",
    "obese_ids <- asthma_patients[obese, nomatch=0][\n",
    "    first_obese >= first_dx\n",
    "][\n",
    "    , person_id\n",
    "] %>% unique()"
   ]
  },
  {
   "cell_type": "code",
   "execution_count": 24,
   "metadata": {},
   "outputs": [
    {
     "name": "stdout",
     "output_type": "stream",
     "text": [
      " int [1:379] 454 455 460 468 469 470 472 477 483 494 ...\n"
     ]
    }
   ],
   "source": [
    "str(obese_ids)"
   ]
  },
  {
   "cell_type": "code",
   "execution_count": 25,
   "metadata": {},
   "outputs": [],
   "source": [
    "# Final identification of cohort; keep record with first obesity measurement; round BMI to 3 decimal places\n",
    "cohort <- asthma_patients[obese, nomatch=0][\n",
    "    person_id %in% obese_ids\n",
    "][\n",
    "    , .SD[which.min(first_obese)], by=person_id\n",
    "]\n",
    "cohort$BMI_z <- round(cohort$BMI_z, 3)"
   ]
  },
  {
   "cell_type": "code",
   "execution_count": 26,
   "metadata": {},
   "outputs": [
    {
     "data": {
      "text/html": [
       "<table>\n",
       "<thead><tr><th scope=col>person_id</th><th scope=col>first_dx</th><th scope=col>num_visits</th><th scope=col>first_rx</th><th scope=col>first_obese</th><th scope=col>BMI_z</th></tr></thead>\n",
       "<tbody>\n",
       "\t<tr><td>1024      </td><td>2004-01-03</td><td>19        </td><td>2004-07-18</td><td>2002-07-04</td><td>1.938     </td></tr>\n",
       "</tbody>\n",
       "</table>\n"
      ],
      "text/latex": [
       "\\begin{tabular}{r|llllll}\n",
       " person\\_id & first\\_dx & num\\_visits & first\\_rx & first\\_obese & BMI\\_z\\\\\n",
       "\\hline\n",
       "\t 1024       & 2004-01-03 & 19         & 2004-07-18 & 2002-07-04 & 1.938     \\\\\n",
       "\\end{tabular}\n"
      ],
      "text/markdown": [
       "\n",
       "person_id | first_dx | num_visits | first_rx | first_obese | BMI_z | \n",
       "|---|\n",
       "| 1024       | 2004-01-03 | 19         | 2004-07-18 | 2002-07-04 | 1.938      | \n",
       "\n",
       "\n"
      ],
      "text/plain": [
       "  person_id first_dx   num_visits first_rx   first_obese BMI_z\n",
       "1 1024      2004-01-03 19         2004-07-18 2002-07-04  1.938"
      ]
     },
     "metadata": {},
     "output_type": "display_data"
    }
   ],
   "source": [
    "cohort[person_id == 1024]"
   ]
  },
  {
   "cell_type": "code",
   "execution_count": 27,
   "metadata": {},
   "outputs": [
    {
     "data": {},
     "metadata": {},
     "output_type": "display_data"
    }
   ],
   "source": [
    "cohort[, time_between := first_rx - first_dx]"
   ]
  },
  {
   "cell_type": "code",
   "execution_count": 28,
   "metadata": {},
   "outputs": [],
   "source": [
    "# Num records in obese df is num obese measurements, since multiple measurments on same day were kept as 1 average\n",
    "total_obese <- obese[\n",
    "    person_id %in% asthma_patient_ids\n",
    "][\n",
    "    , .(num_obese = .N), by=person_id\n",
    "]"
   ]
  },
  {
   "cell_type": "code",
   "execution_count": 29,
   "metadata": {},
   "outputs": [],
   "source": [
    "# Start assembling required cohort table\n",
    "demog <- person[\n",
    "    person_id %in% asthma_patient_ids\n",
    "][\n",
    "    , .(person_id, age_yrs = birth_datetime, gender = gender_concept_id, ethnicity = ethnicity_concept_id,\n",
    "        race = race_concept_id)\n",
    "]"
   ]
  },
  {
   "cell_type": "code",
   "execution_count": 30,
   "metadata": {},
   "outputs": [],
   "source": [
    "setkey(total_obese, person_id)\n",
    "setkey(demog, person_id)\n",
    "cohort <- demog[cohort, nomatch=0][\n",
    "    total_obese, nomatch=0\n",
    "]"
   ]
  },
  {
   "cell_type": "code",
   "execution_count": 31,
   "metadata": {},
   "outputs": [
    {
     "data": {},
     "metadata": {},
     "output_type": "display_data"
    },
    {
     "data": {},
     "metadata": {},
     "output_type": "display_data"
    }
   ],
   "source": [
    "# Calulate for birth, first dx; add column for whether asthma or obesity came first as quick reference\n",
    "cohort[, age_first_dx:= round(as.double(difftime(cohort$first_dx, cohort$age_yrs))/365, digits=1)]\n",
    "cohort$age_yrs <- round(as.double(difftime(latest_date, cohort$age_yrs))/365, digits=1)\n",
    "cohort[, which_1st:= ifelse(first_obese < first_dx, 'obese', 'asthma')]"
   ]
  },
  {
   "cell_type": "code",
   "execution_count": 32,
   "metadata": {},
   "outputs": [],
   "source": [
    "# Replace codes with descriptions for gender, race and ethnicity columns\n",
    "keys <- list('8532', '8507', '8515', '8516', '8527', '8557', '8657', '44814649', '44814650', '44814653', '44814659', \n",
    "            '44814660', '38003563', '38003564')\n",
    "values <- list('F', 'M', 'Asian', 'Bl/AfrAm', 'White', 'Hawaii/PacIsl', 'AmInd/Alaska', 'Other', 'No info', \n",
    "              'Unknown', 'Multiple', 'Declined', 'Hisp/Lat', 'Not Hisp/Lat')\n",
    "decoder <- list()\n",
    "counter = 1\n",
    "for (key in keys) {\n",
    "    decoder[key] = values[counter]\n",
    "    counter = counter + 1\n",
    "}\n",
    "\n",
    "decode <- function(x) return(decoder[[toString(x)]])"
   ]
  },
  {
   "cell_type": "code",
   "execution_count": 33,
   "metadata": {},
   "outputs": [],
   "source": [
    "cohort$gender <- factor(unlist(lapply(cohort$gender, decode)))\n",
    "cohort$race <- factor(unlist(lapply(cohort$race, decode)))\n",
    "cohort$ethnicity <- factor(unlist(lapply(cohort$ethnicity, decode)))"
   ]
  },
  {
   "cell_type": "code",
   "execution_count": 34,
   "metadata": {},
   "outputs": [
    {
     "data": {
      "text/html": [
       "<table>\n",
       "<thead><tr><th scope=col>person_id</th><th scope=col>age_yrs</th><th scope=col>gender</th><th scope=col>ethnicity</th><th scope=col>race</th><th scope=col>first_dx</th><th scope=col>num_visits</th><th scope=col>first_rx</th><th scope=col>first_obese</th><th scope=col>BMI_z</th><th scope=col>time_between</th><th scope=col>num_obese</th><th scope=col>age_first_dx</th><th scope=col>which_1st</th></tr></thead>\n",
       "<tbody>\n",
       "\t<tr><td>454         </td><td>15.8        </td><td>M           </td><td>No info     </td><td>White       </td><td>2002-11-06  </td><td>15          </td><td>2004-03-14  </td><td>2018-03-22  </td><td>1.889       </td><td> 494 days   </td><td> 1          </td><td>0.4         </td><td>asthma      </td></tr>\n",
       "\t<tr><td>455         </td><td>16.6        </td><td>M           </td><td>Not Hisp/Lat</td><td>White       </td><td>2003-02-03  </td><td>11          </td><td>2005-12-26  </td><td>2005-07-17  </td><td>2.489       </td><td>1057 days   </td><td>27          </td><td>1.5         </td><td>asthma      </td></tr>\n",
       "\t<tr><td>460         </td><td>15.6        </td><td>F           </td><td>Not Hisp/Lat</td><td>White       </td><td>2002-12-22  </td><td>23          </td><td>2002-12-22  </td><td>2002-12-22  </td><td>1.979       </td><td>   0 days   </td><td>22          </td><td>0.3         </td><td>asthma      </td></tr>\n",
       "\t<tr><td>468         </td><td>13.9        </td><td>F           </td><td>Hisp/Lat    </td><td>White       </td><td>2005-03-23  </td><td>12          </td><td>2006-07-22  </td><td>2007-07-12  </td><td>1.774       </td><td> 486 days   </td><td> 3          </td><td>0.9         </td><td>asthma      </td></tr>\n",
       "\t<tr><td>469         </td><td>18.3        </td><td>M           </td><td>Not Hisp/Lat</td><td>White       </td><td>2001-02-17  </td><td>22          </td><td>2002-10-22  </td><td>2006-08-09  </td><td>1.778       </td><td> 612 days   </td><td> 4          </td><td>1.2         </td><td>asthma      </td></tr>\n",
       "\t<tr><td>470         </td><td>17.5        </td><td>F           </td><td>Hisp/Lat    </td><td>Unknown     </td><td>2001-05-27  </td><td>17          </td><td>2001-06-15  </td><td>2001-05-20  </td><td>1.975       </td><td>  19 days   </td><td>24          </td><td>0.6         </td><td>obese       </td></tr>\n",
       "</tbody>\n",
       "</table>\n"
      ],
      "text/latex": [
       "\\begin{tabular}{r|llllllllllllll}\n",
       " person\\_id & age\\_yrs & gender & ethnicity & race & first\\_dx & num\\_visits & first\\_rx & first\\_obese & BMI\\_z & time\\_between & num\\_obese & age\\_first\\_dx & which\\_1st\\\\\n",
       "\\hline\n",
       "\t 454          & 15.8         & M            & No info      & White        & 2002-11-06   & 15           & 2004-03-14   & 2018-03-22   & 1.889        &  494 days    &  1           & 0.4          & asthma      \\\\\n",
       "\t 455          & 16.6         & M            & Not Hisp/Lat & White        & 2003-02-03   & 11           & 2005-12-26   & 2005-07-17   & 2.489        & 1057 days    & 27           & 1.5          & asthma      \\\\\n",
       "\t 460          & 15.6         & F            & Not Hisp/Lat & White        & 2002-12-22   & 23           & 2002-12-22   & 2002-12-22   & 1.979        &    0 days    & 22           & 0.3          & asthma      \\\\\n",
       "\t 468          & 13.9         & F            & Hisp/Lat     & White        & 2005-03-23   & 12           & 2006-07-22   & 2007-07-12   & 1.774        &  486 days    &  3           & 0.9          & asthma      \\\\\n",
       "\t 469          & 18.3         & M            & Not Hisp/Lat & White        & 2001-02-17   & 22           & 2002-10-22   & 2006-08-09   & 1.778        &  612 days    &  4           & 1.2          & asthma      \\\\\n",
       "\t 470          & 17.5         & F            & Hisp/Lat     & Unknown      & 2001-05-27   & 17           & 2001-06-15   & 2001-05-20   & 1.975        &   19 days    & 24           & 0.6          & obese       \\\\\n",
       "\\end{tabular}\n"
      ],
      "text/markdown": [
       "\n",
       "person_id | age_yrs | gender | ethnicity | race | first_dx | num_visits | first_rx | first_obese | BMI_z | time_between | num_obese | age_first_dx | which_1st | \n",
       "|---|---|---|---|---|---|\n",
       "| 454          | 15.8         | M            | No info      | White        | 2002-11-06   | 15           | 2004-03-14   | 2018-03-22   | 1.889        |  494 days    |  1           | 0.4          | asthma       | \n",
       "| 455          | 16.6         | M            | Not Hisp/Lat | White        | 2003-02-03   | 11           | 2005-12-26   | 2005-07-17   | 2.489        | 1057 days    | 27           | 1.5          | asthma       | \n",
       "| 460          | 15.6         | F            | Not Hisp/Lat | White        | 2002-12-22   | 23           | 2002-12-22   | 2002-12-22   | 1.979        |    0 days    | 22           | 0.3          | asthma       | \n",
       "| 468          | 13.9         | F            | Hisp/Lat     | White        | 2005-03-23   | 12           | 2006-07-22   | 2007-07-12   | 1.774        |  486 days    |  3           | 0.9          | asthma       | \n",
       "| 469          | 18.3         | M            | Not Hisp/Lat | White        | 2001-02-17   | 22           | 2002-10-22   | 2006-08-09   | 1.778        |  612 days    |  4           | 1.2          | asthma       | \n",
       "| 470          | 17.5         | F            | Hisp/Lat     | Unknown      | 2001-05-27   | 17           | 2001-06-15   | 2001-05-20   | 1.975        |   19 days    | 24           | 0.6          | obese        | \n",
       "\n",
       "\n"
      ],
      "text/plain": [
       "  person_id age_yrs gender ethnicity    race    first_dx   num_visits\n",
       "1 454       15.8    M      No info      White   2002-11-06 15        \n",
       "2 455       16.6    M      Not Hisp/Lat White   2003-02-03 11        \n",
       "3 460       15.6    F      Not Hisp/Lat White   2002-12-22 23        \n",
       "4 468       13.9    F      Hisp/Lat     White   2005-03-23 12        \n",
       "5 469       18.3    M      Not Hisp/Lat White   2001-02-17 22        \n",
       "6 470       17.5    F      Hisp/Lat     Unknown 2001-05-27 17        \n",
       "  first_rx   first_obese BMI_z time_between num_obese age_first_dx which_1st\n",
       "1 2004-03-14 2018-03-22  1.889  494 days     1        0.4          asthma   \n",
       "2 2005-12-26 2005-07-17  2.489 1057 days    27        1.5          asthma   \n",
       "3 2002-12-22 2002-12-22  1.979    0 days    22        0.3          asthma   \n",
       "4 2006-07-22 2007-07-12  1.774  486 days     3        0.9          asthma   \n",
       "5 2002-10-22 2006-08-09  1.778  612 days     4        1.2          asthma   \n",
       "6 2001-06-15 2001-05-20  1.975   19 days    24        0.6          obese    "
      ]
     },
     "metadata": {},
     "output_type": "display_data"
    }
   ],
   "source": [
    "head(cohort)"
   ]
  },
  {
   "cell_type": "code",
   "execution_count": 35,
   "metadata": {},
   "outputs": [
    {
     "data": {
      "text/html": [
       "<table>\n",
       "<thead><tr><th scope=col>person_id</th><th scope=col>age_yrs</th><th scope=col>gender</th><th scope=col>ethnicity</th><th scope=col>race</th><th scope=col>first_dx</th><th scope=col>first_rx</th><th scope=col>time_between</th><th scope=col>age_first_dx</th><th scope=col>num_visits</th><th scope=col>first_obese</th><th scope=col>BMI_z</th><th scope=col>num_obese</th><th scope=col>which_1st</th></tr></thead>\n",
       "<tbody>\n",
       "\t<tr><td>454         </td><td>15.8        </td><td>M           </td><td>No info     </td><td>White       </td><td>2002-11-06  </td><td>2004-03-14  </td><td> 494 days   </td><td>0.4         </td><td>15          </td><td>2018-03-22  </td><td>1.889       </td><td> 1          </td><td>asthma      </td></tr>\n",
       "\t<tr><td>455         </td><td>16.6        </td><td>M           </td><td>Not Hisp/Lat</td><td>White       </td><td>2003-02-03  </td><td>2005-12-26  </td><td>1057 days   </td><td>1.5         </td><td>11          </td><td>2005-07-17  </td><td>2.489       </td><td>27          </td><td>asthma      </td></tr>\n",
       "\t<tr><td>460         </td><td>15.6        </td><td>F           </td><td>Not Hisp/Lat</td><td>White       </td><td>2002-12-22  </td><td>2002-12-22  </td><td>   0 days   </td><td>0.3         </td><td>23          </td><td>2002-12-22  </td><td>1.979       </td><td>22          </td><td>asthma      </td></tr>\n",
       "\t<tr><td>468         </td><td>13.9        </td><td>F           </td><td>Hisp/Lat    </td><td>White       </td><td>2005-03-23  </td><td>2006-07-22  </td><td> 486 days   </td><td>0.9         </td><td>12          </td><td>2007-07-12  </td><td>1.774       </td><td> 3          </td><td>asthma      </td></tr>\n",
       "\t<tr><td>469         </td><td>18.3        </td><td>M           </td><td>Not Hisp/Lat</td><td>White       </td><td>2001-02-17  </td><td>2002-10-22  </td><td> 612 days   </td><td>1.2         </td><td>22          </td><td>2006-08-09  </td><td>1.778       </td><td> 4          </td><td>asthma      </td></tr>\n",
       "\t<tr><td>470         </td><td>17.5        </td><td>F           </td><td>Hisp/Lat    </td><td>Unknown     </td><td>2001-05-27  </td><td>2001-06-15  </td><td>  19 days   </td><td>0.6         </td><td>17          </td><td>2001-05-20  </td><td>1.975       </td><td>24          </td><td>obese       </td></tr>\n",
       "</tbody>\n",
       "</table>\n"
      ],
      "text/latex": [
       "\\begin{tabular}{r|llllllllllllll}\n",
       " person\\_id & age\\_yrs & gender & ethnicity & race & first\\_dx & first\\_rx & time\\_between & age\\_first\\_dx & num\\_visits & first\\_obese & BMI\\_z & num\\_obese & which\\_1st\\\\\n",
       "\\hline\n",
       "\t 454          & 15.8         & M            & No info      & White        & 2002-11-06   & 2004-03-14   &  494 days    & 0.4          & 15           & 2018-03-22   & 1.889        &  1           & asthma      \\\\\n",
       "\t 455          & 16.6         & M            & Not Hisp/Lat & White        & 2003-02-03   & 2005-12-26   & 1057 days    & 1.5          & 11           & 2005-07-17   & 2.489        & 27           & asthma      \\\\\n",
       "\t 460          & 15.6         & F            & Not Hisp/Lat & White        & 2002-12-22   & 2002-12-22   &    0 days    & 0.3          & 23           & 2002-12-22   & 1.979        & 22           & asthma      \\\\\n",
       "\t 468          & 13.9         & F            & Hisp/Lat     & White        & 2005-03-23   & 2006-07-22   &  486 days    & 0.9          & 12           & 2007-07-12   & 1.774        &  3           & asthma      \\\\\n",
       "\t 469          & 18.3         & M            & Not Hisp/Lat & White        & 2001-02-17   & 2002-10-22   &  612 days    & 1.2          & 22           & 2006-08-09   & 1.778        &  4           & asthma      \\\\\n",
       "\t 470          & 17.5         & F            & Hisp/Lat     & Unknown      & 2001-05-27   & 2001-06-15   &   19 days    & 0.6          & 17           & 2001-05-20   & 1.975        & 24           & obese       \\\\\n",
       "\\end{tabular}\n"
      ],
      "text/markdown": [
       "\n",
       "person_id | age_yrs | gender | ethnicity | race | first_dx | first_rx | time_between | age_first_dx | num_visits | first_obese | BMI_z | num_obese | which_1st | \n",
       "|---|---|---|---|---|---|\n",
       "| 454          | 15.8         | M            | No info      | White        | 2002-11-06   | 2004-03-14   |  494 days    | 0.4          | 15           | 2018-03-22   | 1.889        |  1           | asthma       | \n",
       "| 455          | 16.6         | M            | Not Hisp/Lat | White        | 2003-02-03   | 2005-12-26   | 1057 days    | 1.5          | 11           | 2005-07-17   | 2.489        | 27           | asthma       | \n",
       "| 460          | 15.6         | F            | Not Hisp/Lat | White        | 2002-12-22   | 2002-12-22   |    0 days    | 0.3          | 23           | 2002-12-22   | 1.979        | 22           | asthma       | \n",
       "| 468          | 13.9         | F            | Hisp/Lat     | White        | 2005-03-23   | 2006-07-22   |  486 days    | 0.9          | 12           | 2007-07-12   | 1.774        |  3           | asthma       | \n",
       "| 469          | 18.3         | M            | Not Hisp/Lat | White        | 2001-02-17   | 2002-10-22   |  612 days    | 1.2          | 22           | 2006-08-09   | 1.778        |  4           | asthma       | \n",
       "| 470          | 17.5         | F            | Hisp/Lat     | Unknown      | 2001-05-27   | 2001-06-15   |   19 days    | 0.6          | 17           | 2001-05-20   | 1.975        | 24           | obese        | \n",
       "\n",
       "\n"
      ],
      "text/plain": [
       "  person_id age_yrs gender ethnicity    race    first_dx   first_rx  \n",
       "1 454       15.8    M      No info      White   2002-11-06 2004-03-14\n",
       "2 455       16.6    M      Not Hisp/Lat White   2003-02-03 2005-12-26\n",
       "3 460       15.6    F      Not Hisp/Lat White   2002-12-22 2002-12-22\n",
       "4 468       13.9    F      Hisp/Lat     White   2005-03-23 2006-07-22\n",
       "5 469       18.3    M      Not Hisp/Lat White   2001-02-17 2002-10-22\n",
       "6 470       17.5    F      Hisp/Lat     Unknown 2001-05-27 2001-06-15\n",
       "  time_between age_first_dx num_visits first_obese BMI_z num_obese which_1st\n",
       "1  494 days    0.4          15         2018-03-22  1.889  1        asthma   \n",
       "2 1057 days    1.5          11         2005-07-17  2.489 27        asthma   \n",
       "3    0 days    0.3          23         2002-12-22  1.979 22        asthma   \n",
       "4  486 days    0.9          12         2007-07-12  1.774  3        asthma   \n",
       "5  612 days    1.2          22         2006-08-09  1.778  4        asthma   \n",
       "6   19 days    0.6          17         2001-05-20  1.975 24        obese    "
      ]
     },
     "metadata": {},
     "output_type": "display_data"
    }
   ],
   "source": [
    "# Rearrange columns for more logical ordering\n",
    "cohort <- cohort[, c(1,2,3,4,5,6,8,11,13,7,9,10,12,14)]\n",
    "head(cohort)"
   ]
  },
  {
   "cell_type": "code",
   "execution_count": 43,
   "metadata": {},
   "outputs": [
    {
     "data": {
      "text/html": [
       "379"
      ],
      "text/latex": [
       "379"
      ],
      "text/markdown": [
       "379"
      ],
      "text/plain": [
       "[1] 379"
      ]
     },
     "metadata": {},
     "output_type": "display_data"
    }
   ],
   "source": [
    "nrow(cohort)"
   ]
  },
  {
   "cell_type": "code",
   "execution_count": 44,
   "metadata": {},
   "outputs": [
    {
     "data": {},
     "metadata": {},
     "output_type": "display_data"
    },
    {
     "data": {
      "image/png": "[encoded data removed]",
      "text/plain": [
       "plot without title"
      ]
     },
     "metadata": {},
     "output_type": "display_data"
    }
   ],
   "source": [
    "# Plot histograms for age distributions disaggregated by race and gender\n",
    "p <- ggplot(data = cohort, aes(x = age_yrs, color=gender)) + geom_histogram(position='identity', alpha=.5, binwidth = 1)\n",
    "p + facet_wrap(~race, scales='free_y', ncol=4) + labs(title='Age distribution (in years) by race and gender')"
   ]
  },
  {
   "cell_type": "markdown",
   "metadata": {},
   "source": [
    "The cohort size is 379, which is one less than the 380 obtained in the python/pandas notebook. See if the difference is due to one patient."
   ]
  },
  {
   "cell_type": "code",
   "execution_count": 37,
   "metadata": {},
   "outputs": [],
   "source": [
    "py = fread('cohort.csv')"
   ]
  },
  {
   "cell_type": "code",
   "execution_count": 38,
   "metadata": {},
   "outputs": [],
   "source": [
    "py_ids <- c(py[, person_id])"
   ]
  },
  {
   "cell_type": "code",
   "execution_count": 39,
   "metadata": {},
   "outputs": [
    {
     "name": "stdout",
     "output_type": "stream",
     "text": [
      "[1] 2235\n"
     ]
    }
   ],
   "source": [
    "for (id in py_ids){\n",
    "    if (id %in% c(cohort[, person_id])) NULL\n",
    "    else print(id)\n",
    "}"
   ]
  },
  {
   "cell_type": "code",
   "execution_count": 40,
   "metadata": {},
   "outputs": [
    {
     "data": {
      "text/html": [
       "<table>\n",
       "<thead><tr><th scope=col>V1</th><th scope=col>person_id</th><th scope=col>age_(yrs)</th><th scope=col>gender</th><th scope=col>ethnicity</th><th scope=col>race</th><th scope=col>first_diagnosis</th><th scope=col>albut_start</th><th scope=col>days_between</th><th scope=col>age_first_d</th><th scope=col>asthma_visits</th><th scope=col>first_obese</th><th scope=col>BMI_Z</th><th scope=col>num_obese</th></tr></thead>\n",
       "<tbody>\n",
       "\t<tr><td>220       </td><td>2235      </td><td>15.1      </td><td>M         </td><td>Hisp/Lat  </td><td>White     </td><td>2005-05-21</td><td>2006-04-28</td><td>342       </td><td>2.2       </td><td>12        </td><td>2003-10-04</td><td>1.686596  </td><td>1         </td></tr>\n",
       "</tbody>\n",
       "</table>\n"
      ],
      "text/latex": [
       "\\begin{tabular}{r|llllllllllllll}\n",
       " V1 & person\\_id & age\\_(yrs) & gender & ethnicity & race & first\\_diagnosis & albut\\_start & days\\_between & age\\_first\\_d & asthma\\_visits & first\\_obese & BMI\\_Z & num\\_obese\\\\\n",
       "\\hline\n",
       "\t 220        & 2235       & 15.1       & M          & Hisp/Lat   & White      & 2005-05-21 & 2006-04-28 & 342        & 2.2        & 12         & 2003-10-04 & 1.686596   & 1         \\\\\n",
       "\\end{tabular}\n"
      ],
      "text/markdown": [
       "\n",
       "V1 | person_id | age_(yrs) | gender | ethnicity | race | first_diagnosis | albut_start | days_between | age_first_d | asthma_visits | first_obese | BMI_Z | num_obese | \n",
       "|---|\n",
       "| 220        | 2235       | 15.1       | M          | Hisp/Lat   | White      | 2005-05-21 | 2006-04-28 | 342        | 2.2        | 12         | 2003-10-04 | 1.686596   | 1          | \n",
       "\n",
       "\n"
      ],
      "text/plain": [
       "  V1  person_id age_(yrs) gender ethnicity race  first_diagnosis albut_start\n",
       "1 220 2235      15.1      M      Hisp/Lat  White 2005-05-21      2006-04-28 \n",
       "  days_between age_first_d asthma_visits first_obese BMI_Z    num_obese\n",
       "1 342          2.2         12            2003-10-04  1.686596 1        "
      ]
     },
     "metadata": {},
     "output_type": "display_data"
    }
   ],
   "source": [
    "# The cohorts differ by 1 person\n",
    "py[person_id == 2235]"
   ]
  },
  {
   "cell_type": "code",
   "execution_count": 42,
   "metadata": {
    "scrolled": true
   },
   "outputs": [
    {
     "data": {
      "text/html": [
       "<table>\n",
       "<thead><tr><th scope=col>person_id</th><th scope=col>visit_occurrence_id</th><th scope=col>measurement_date</th><th scope=col>measurement_concept_id</th><th scope=col>measurement_id</th><th scope=col>measurement_type_concept_id</th><th scope=col>operator_concept_id</th><th scope=col>priority_concept_id</th><th scope=col>provider_id</th><th scope=col>range_high</th><th scope=col>range_high_operator_concept_id</th><th scope=col>range_low</th><th scope=col>range_low_operator_concept_id</th><th scope=col>unit_concept_id</th><th scope=col>value_as_concept_id</th><th scope=col>value_as_number</th></tr></thead>\n",
       "<tbody>\n",
       "\t<tr><td>2235      </td><td>26549     </td><td>2003-10-04</td><td>2000000043</td><td>356345    </td><td>45754907  </td><td>4172703   </td><td>NA        </td><td>  2831    </td><td>NA        </td><td> 0        </td><td>NA        </td><td> 0        </td><td>9531      </td><td>NA        </td><td>1.6865962 </td></tr>\n",
       "\t<tr><td>2235      </td><td>20816     </td><td>2005-10-15</td><td>2000000043</td><td>355945    </td><td>45754907  </td><td>4172703   </td><td>NA        </td><td>  5676    </td><td>NA        </td><td> 0        </td><td>NA        </td><td> 0        </td><td>9531      </td><td>NA        </td><td>1.2778249 </td></tr>\n",
       "\t<tr><td>2235      </td><td>20816     </td><td>2005-10-15</td><td>2000000043</td><td>355909    </td><td>45754907  </td><td>4172703   </td><td>NA        </td><td>316255    </td><td>NA        </td><td>NA        </td><td>NA        </td><td>NA        </td><td>   0      </td><td>NA        </td><td>1.2778249 </td></tr>\n",
       "\t<tr><td>2235      </td><td>48758     </td><td>2006-04-28</td><td>2000000043</td><td>329391    </td><td>45754907  </td><td>4172703   </td><td>NA        </td><td>309867    </td><td>NA        </td><td>NA        </td><td>NA        </td><td>NA        </td><td>   0      </td><td>NA        </td><td>1.3909375 </td></tr>\n",
       "\t<tr><td>2235      </td><td>27134     </td><td>2007-04-18</td><td>2000000043</td><td>329240    </td><td>45754907  </td><td>4172703   </td><td>NA        </td><td>310059    </td><td>NA        </td><td>NA        </td><td>NA        </td><td>NA        </td><td>   0      </td><td>NA        </td><td>1.5033650 </td></tr>\n",
       "\t<tr><td>2235      </td><td>20603     </td><td>2007-05-09</td><td>2000000043</td><td>328970    </td><td>45754907  </td><td>4172703   </td><td>NA        </td><td>  3125    </td><td>NA        </td><td> 0        </td><td>NA        </td><td> 0        </td><td>9531      </td><td>NA        </td><td>1.3175068 </td></tr>\n",
       "\t<tr><td>2235      </td><td>20603     </td><td>2007-05-09</td><td>2000000043</td><td>329075    </td><td>45754907  </td><td>4172703   </td><td>NA        </td><td>    NA    </td><td>NA        </td><td>NA        </td><td>NA        </td><td>NA        </td><td>   0      </td><td>NA        </td><td>1.3175068 </td></tr>\n",
       "\t<tr><td>2235      </td><td>66597     </td><td>2008-09-17</td><td>2000000043</td><td>356216    </td><td>45754907  </td><td>4172703   </td><td>NA        </td><td>  2904    </td><td>NA        </td><td> 0        </td><td>NA        </td><td> 0        </td><td>9531      </td><td>NA        </td><td>1.5244094 </td></tr>\n",
       "\t<tr><td>2235      </td><td>66597     </td><td>2008-09-17</td><td>2000000043</td><td>355886    </td><td>45754907  </td><td>4172703   </td><td>NA        </td><td>    NA    </td><td>NA        </td><td>NA        </td><td>NA        </td><td>NA        </td><td>   0      </td><td>NA        </td><td>1.5244094 </td></tr>\n",
       "\t<tr><td>2235      </td><td>80578     </td><td>2008-12-15</td><td>2000000043</td><td>328963    </td><td>45754907  </td><td>4172703   </td><td>NA        </td><td>317505    </td><td>NA        </td><td>NA        </td><td>NA        </td><td>NA        </td><td>   0      </td><td>NA        </td><td>1.1433705 </td></tr>\n",
       "\t<tr><td>2235      </td><td>20861     </td><td>2011-07-29</td><td>2000000043</td><td>328436    </td><td>45754907  </td><td>4172703   </td><td>NA        </td><td>  3776    </td><td>NA        </td><td> 0        </td><td>NA        </td><td> 0        </td><td>9531      </td><td>NA        </td><td>1.1602047 </td></tr>\n",
       "\t<tr><td>2235      </td><td>20861     </td><td>2011-07-29</td><td>2000000043</td><td>329012    </td><td>45754907  </td><td>4172703   </td><td>NA        </td><td>318304    </td><td>NA        </td><td>NA        </td><td>NA        </td><td>NA        </td><td>   0      </td><td>NA        </td><td>1.1602047 </td></tr>\n",
       "\t<tr><td>2235      </td><td>70003     </td><td>2011-08-10</td><td>2000000043</td><td>329321    </td><td>45754907  </td><td>4172703   </td><td>NA        </td><td>308646    </td><td>NA        </td><td>NA        </td><td>NA        </td><td>NA        </td><td>   0      </td><td>NA        </td><td>1.1139768 </td></tr>\n",
       "\t<tr><td>2235      </td><td>54841     </td><td>2012-05-14</td><td>2000000043</td><td>329204    </td><td>45754907  </td><td>4172703   </td><td>NA        </td><td>309867    </td><td>NA        </td><td>NA        </td><td>NA        </td><td>NA        </td><td>   0      </td><td>NA        </td><td>1.4291861 </td></tr>\n",
       "\t<tr><td>2235      </td><td>75955     </td><td>2012-08-29</td><td>2000000043</td><td>329322    </td><td>45754907  </td><td>4172703   </td><td>NA        </td><td>317451    </td><td>NA        </td><td>NA        </td><td>NA        </td><td>NA        </td><td>   0      </td><td>NA        </td><td>1.2740674 </td></tr>\n",
       "\t<tr><td>2235      </td><td>86311     </td><td>2013-01-04</td><td>2000000043</td><td>329072    </td><td>45754907  </td><td>4172703   </td><td>NA        </td><td>  8776    </td><td>NA        </td><td>NA        </td><td>NA        </td><td>NA        </td><td>   0      </td><td>NA        </td><td>1.5509860 </td></tr>\n",
       "\t<tr><td>2235      </td><td>87531     </td><td>2013-03-16</td><td>2000000043</td><td>328595    </td><td>45754907  </td><td>4172703   </td><td>NA        </td><td>258813    </td><td>NA        </td><td>NA        </td><td>NA        </td><td>NA        </td><td>   0      </td><td>NA        </td><td>1.2122906 </td></tr>\n",
       "\t<tr><td>2235      </td><td>87531     </td><td>2013-03-16</td><td>2000000043</td><td>328545    </td><td>45754907  </td><td>4172703   </td><td>NA        </td><td>258813    </td><td>NA        </td><td>NA        </td><td>NA        </td><td>NA        </td><td>   0      </td><td>NA        </td><td>1.2122906 </td></tr>\n",
       "\t<tr><td>2235      </td><td>52197     </td><td>2014-01-25</td><td>2000000043</td><td>356333    </td><td>45754907  </td><td>4172703   </td><td>NA        </td><td>  5746    </td><td>NA        </td><td> 0        </td><td>NA        </td><td> 0        </td><td>9531      </td><td>NA        </td><td>1.2044011 </td></tr>\n",
       "\t<tr><td>2235      </td><td>52197     </td><td>2014-01-25</td><td>2000000043</td><td>355889    </td><td>45754907  </td><td>4172703   </td><td>NA        </td><td>    NA    </td><td>NA        </td><td>NA        </td><td>NA        </td><td>NA        </td><td>   0      </td><td>NA        </td><td>1.2044011 </td></tr>\n",
       "\t<tr><td>2235      </td><td>21005     </td><td>2014-03-29</td><td>2000000043</td><td>329373    </td><td>45754907  </td><td>4172703   </td><td>NA        </td><td>328973    </td><td>NA        </td><td>NA        </td><td>NA        </td><td>NA        </td><td>   0      </td><td>NA        </td><td>1.2681013 </td></tr>\n",
       "\t<tr><td>2235      </td><td>20645     </td><td>2014-11-17</td><td>2000000043</td><td>329317    </td><td>45754907  </td><td>4172703   </td><td>NA        </td><td>308412    </td><td>NA        </td><td>NA        </td><td>NA        </td><td>NA        </td><td>   0      </td><td>NA        </td><td>1.4498492 </td></tr>\n",
       "\t<tr><td>2235      </td><td>21119     </td><td>2015-04-30</td><td>2000000043</td><td>355898    </td><td>45754907  </td><td>4172703   </td><td>NA        </td><td>    NA    </td><td>NA        </td><td> 0        </td><td>NA        </td><td> 0        </td><td>9531      </td><td>NA        </td><td>0.9812144 </td></tr>\n",
       "\t<tr><td>2235      </td><td>21119     </td><td>2015-04-30</td><td>2000000043</td><td>356240    </td><td>45754907  </td><td>4172703   </td><td>NA        </td><td>310656    </td><td>NA        </td><td>NA        </td><td>NA        </td><td>NA        </td><td>   0      </td><td>NA        </td><td>0.9812144 </td></tr>\n",
       "\t<tr><td>2235      </td><td>20440     </td><td>2016-02-01</td><td>2000000043</td><td>355824    </td><td>45754907  </td><td>4172703   </td><td>NA        </td><td> 20718    </td><td>NA        </td><td>NA        </td><td>NA        </td><td>NA        </td><td>   0      </td><td>NA        </td><td>1.5109743 </td></tr>\n",
       "\t<tr><td>2235      </td><td>20855     </td><td>2017-12-01</td><td>2000000043</td><td>329361    </td><td>45754907  </td><td>4172703   </td><td>NA        </td><td>309999    </td><td>NA        </td><td>NA        </td><td>NA        </td><td>NA        </td><td>   0      </td><td>NA        </td><td>1.5982649 </td></tr>\n",
       "\t<tr><td>2235      </td><td>20594     </td><td>2019-11-07</td><td>2000000043</td><td>356069    </td><td>45754907  </td><td>4172703   </td><td>NA        </td><td>  4034    </td><td>NA        </td><td> 0        </td><td>NA        </td><td> 0        </td><td>9531      </td><td>NA        </td><td>1.3921956 </td></tr>\n",
       "\t<tr><td>2235      </td><td>20594     </td><td>2019-11-07</td><td>2000000043</td><td>356353    </td><td>45754907  </td><td>4172703   </td><td>NA        </td><td>    NA    </td><td>NA        </td><td>NA        </td><td>NA        </td><td>NA        </td><td>   0      </td><td>NA        </td><td>1.3921956 </td></tr>\n",
       "\t<tr><td>2235      </td><td>34666     </td><td>2020-02-13</td><td>2000000043</td><td>328949    </td><td>45754907  </td><td>4172703   </td><td>NA        </td><td>328895    </td><td>NA        </td><td>NA        </td><td>NA        </td><td>NA        </td><td>   0      </td><td>NA        </td><td>1.6590846 </td></tr>\n",
       "\t<tr><td>2235      </td><td>84084     </td><td>2020-05-04</td><td>2000000043</td><td>355954    </td><td>45754907  </td><td>4172703   </td><td>NA        </td><td> 12743    </td><td>NA        </td><td>NA        </td><td>NA        </td><td>NA        </td><td>   0      </td><td>NA        </td><td>1.1571570 </td></tr>\n",
       "\t<tr><td>2235      </td><td>20768     </td><td>2020-11-26</td><td>2000000043</td><td>356249    </td><td>45754907  </td><td>4172703   </td><td>NA        </td><td>  4095    </td><td>NA        </td><td>NA        </td><td>NA        </td><td>NA        </td><td>   0      </td><td>NA        </td><td>1.6604373 </td></tr>\n",
       "\t<tr><td>2235      </td><td>21019     </td><td>2022-01-12</td><td>2000000043</td><td>328819    </td><td>45754907  </td><td>4172703   </td><td>NA        </td><td>  5430    </td><td>NA        </td><td>NA        </td><td>NA        </td><td>NA        </td><td>   0      </td><td>NA        </td><td>1.0752039 </td></tr>\n",
       "</tbody>\n",
       "</table>\n"
      ],
      "text/latex": [
       "\\begin{tabular}{r|llllllllllllllll}\n",
       " person\\_id & visit\\_occurrence\\_id & measurement\\_date & measurement\\_concept\\_id & measurement\\_id & measurement\\_type\\_concept\\_id & operator\\_concept\\_id & priority\\_concept\\_id & provider\\_id & range\\_high & range\\_high\\_operator\\_concept\\_id & range\\_low & range\\_low\\_operator\\_concept\\_id & unit\\_concept\\_id & value\\_as\\_concept\\_id & value\\_as\\_number\\\\\n",
       "\\hline\n",
       "\t 2235       & 26549      & 2003-10-04 & 2000000043 & 356345     & 45754907   & 4172703    & NA         &   2831     & NA         &  0         & NA         &  0         & 9531       & NA         & 1.6865962 \\\\\n",
       "\t 2235       & 20816      & 2005-10-15 & 2000000043 & 355945     & 45754907   & 4172703    & NA         &   5676     & NA         &  0         & NA         &  0         & 9531       & NA         & 1.2778249 \\\\\n",
       "\t 2235       & 20816      & 2005-10-15 & 2000000043 & 355909     & 45754907   & 4172703    & NA         & 316255     & NA         & NA         & NA         & NA         &    0       & NA         & 1.2778249 \\\\\n",
       "\t 2235       & 48758      & 2006-04-28 & 2000000043 & 329391     & 45754907   & 4172703    & NA         & 309867     & NA         & NA         & NA         & NA         &    0       & NA         & 1.3909375 \\\\\n",
       "\t 2235       & 27134      & 2007-04-18 & 2000000043 & 329240     & 45754907   & 4172703    & NA         & 310059     & NA         & NA         & NA         & NA         &    0       & NA         & 1.5033650 \\\\\n",
       "\t 2235       & 20603      & 2007-05-09 & 2000000043 & 328970     & 45754907   & 4172703    & NA         &   3125     & NA         &  0         & NA         &  0         & 9531       & NA         & 1.3175068 \\\\\n",
       "\t 2235       & 20603      & 2007-05-09 & 2000000043 & 329075     & 45754907   & 4172703    & NA         &     NA     & NA         & NA         & NA         & NA         &    0       & NA         & 1.3175068 \\\\\n",
       "\t 2235       & 66597      & 2008-09-17 & 2000000043 & 356216     & 45754907   & 4172703    & NA         &   2904     & NA         &  0         & NA         &  0         & 9531       & NA         & 1.5244094 \\\\\n",
       "\t 2235       & 66597      & 2008-09-17 & 2000000043 & 355886     & 45754907   & 4172703    & NA         &     NA     & NA         & NA         & NA         & NA         &    0       & NA         & 1.5244094 \\\\\n",
       "\t 2235       & 80578      & 2008-12-15 & 2000000043 & 328963     & 45754907   & 4172703    & NA         & 317505     & NA         & NA         & NA         & NA         &    0       & NA         & 1.1433705 \\\\\n",
       "\t 2235       & 20861      & 2011-07-29 & 2000000043 & 328436     & 45754907   & 4172703    & NA         &   3776     & NA         &  0         & NA         &  0         & 9531       & NA         & 1.1602047 \\\\\n",
       "\t 2235       & 20861      & 2011-07-29 & 2000000043 & 329012     & 45754907   & 4172703    & NA         & 318304     & NA         & NA         & NA         & NA         &    0       & NA         & 1.1602047 \\\\\n",
       "\t 2235       & 70003      & 2011-08-10 & 2000000043 & 329321     & 45754907   & 4172703    & NA         & 308646     & NA         & NA         & NA         & NA         &    0       & NA         & 1.1139768 \\\\\n",
       "\t 2235       & 54841      & 2012-05-14 & 2000000043 & 329204     & 45754907   & 4172703    & NA         & 309867     & NA         & NA         & NA         & NA         &    0       & NA         & 1.4291861 \\\\\n",
       "\t 2235       & 75955      & 2012-08-29 & 2000000043 & 329322     & 45754907   & 4172703    & NA         & 317451     & NA         & NA         & NA         & NA         &    0       & NA         & 1.2740674 \\\\\n",
       "\t 2235       & 86311      & 2013-01-04 & 2000000043 & 329072     & 45754907   & 4172703    & NA         &   8776     & NA         & NA         & NA         & NA         &    0       & NA         & 1.5509860 \\\\\n",
       "\t 2235       & 87531      & 2013-03-16 & 2000000043 & 328595     & 45754907   & 4172703    & NA         & 258813     & NA         & NA         & NA         & NA         &    0       & NA         & 1.2122906 \\\\\n",
       "\t 2235       & 87531      & 2013-03-16 & 2000000043 & 328545     & 45754907   & 4172703    & NA         & 258813     & NA         & NA         & NA         & NA         &    0       & NA         & 1.2122906 \\\\\n",
       "\t 2235       & 52197      & 2014-01-25 & 2000000043 & 356333     & 45754907   & 4172703    & NA         &   5746     & NA         &  0         & NA         &  0         & 9531       & NA         & 1.2044011 \\\\\n",
       "\t 2235       & 52197      & 2014-01-25 & 2000000043 & 355889     & 45754907   & 4172703    & NA         &     NA     & NA         & NA         & NA         & NA         &    0       & NA         & 1.2044011 \\\\\n",
       "\t 2235       & 21005      & 2014-03-29 & 2000000043 & 329373     & 45754907   & 4172703    & NA         & 328973     & NA         & NA         & NA         & NA         &    0       & NA         & 1.2681013 \\\\\n",
       "\t 2235       & 20645      & 2014-11-17 & 2000000043 & 329317     & 45754907   & 4172703    & NA         & 308412     & NA         & NA         & NA         & NA         &    0       & NA         & 1.4498492 \\\\\n",
       "\t 2235       & 21119      & 2015-04-30 & 2000000043 & 355898     & 45754907   & 4172703    & NA         &     NA     & NA         &  0         & NA         &  0         & 9531       & NA         & 0.9812144 \\\\\n",
       "\t 2235       & 21119      & 2015-04-30 & 2000000043 & 356240     & 45754907   & 4172703    & NA         & 310656     & NA         & NA         & NA         & NA         &    0       & NA         & 0.9812144 \\\\\n",
       "\t 2235       & 20440      & 2016-02-01 & 2000000043 & 355824     & 45754907   & 4172703    & NA         &  20718     & NA         & NA         & NA         & NA         &    0       & NA         & 1.5109743 \\\\\n",
       "\t 2235       & 20855      & 2017-12-01 & 2000000043 & 329361     & 45754907   & 4172703    & NA         & 309999     & NA         & NA         & NA         & NA         &    0       & NA         & 1.5982649 \\\\\n",
       "\t 2235       & 20594      & 2019-11-07 & 2000000043 & 356069     & 45754907   & 4172703    & NA         &   4034     & NA         &  0         & NA         &  0         & 9531       & NA         & 1.3921956 \\\\\n",
       "\t 2235       & 20594      & 2019-11-07 & 2000000043 & 356353     & 45754907   & 4172703    & NA         &     NA     & NA         & NA         & NA         & NA         &    0       & NA         & 1.3921956 \\\\\n",
       "\t 2235       & 34666      & 2020-02-13 & 2000000043 & 328949     & 45754907   & 4172703    & NA         & 328895     & NA         & NA         & NA         & NA         &    0       & NA         & 1.6590846 \\\\\n",
       "\t 2235       & 84084      & 2020-05-04 & 2000000043 & 355954     & 45754907   & 4172703    & NA         &  12743     & NA         & NA         & NA         & NA         &    0       & NA         & 1.1571570 \\\\\n",
       "\t 2235       & 20768      & 2020-11-26 & 2000000043 & 356249     & 45754907   & 4172703    & NA         &   4095     & NA         & NA         & NA         & NA         &    0       & NA         & 1.6604373 \\\\\n",
       "\t 2235       & 21019      & 2022-01-12 & 2000000043 & 328819     & 45754907   & 4172703    & NA         &   5430     & NA         & NA         & NA         & NA         &    0       & NA         & 1.0752039 \\\\\n",
       "\\end{tabular}\n"
      ],
      "text/markdown": [
       "\n",
       "person_id | visit_occurrence_id | measurement_date | measurement_concept_id | measurement_id | measurement_type_concept_id | operator_concept_id | priority_concept_id | provider_id | range_high | range_high_operator_concept_id | range_low | range_low_operator_concept_id | unit_concept_id | value_as_concept_id | value_as_number | \n",
       "|---|---|---|---|---|---|---|---|---|---|---|---|---|---|---|---|---|---|---|---|---|---|---|---|---|---|---|---|---|---|---|---|\n",
       "| 2235       | 26549      | 2003-10-04 | 2000000043 | 356345     | 45754907   | 4172703    | NA         |   2831     | NA         |  0         | NA         |  0         | 9531       | NA         | 1.6865962  | \n",
       "| 2235       | 20816      | 2005-10-15 | 2000000043 | 355945     | 45754907   | 4172703    | NA         |   5676     | NA         |  0         | NA         |  0         | 9531       | NA         | 1.2778249  | \n",
       "| 2235       | 20816      | 2005-10-15 | 2000000043 | 355909     | 45754907   | 4172703    | NA         | 316255     | NA         | NA         | NA         | NA         |    0       | NA         | 1.2778249  | \n",
       "| 2235       | 48758      | 2006-04-28 | 2000000043 | 329391     | 45754907   | 4172703    | NA         | 309867     | NA         | NA         | NA         | NA         |    0       | NA         | 1.3909375  | \n",
       "| 2235       | 27134      | 2007-04-18 | 2000000043 | 329240     | 45754907   | 4172703    | NA         | 310059     | NA         | NA         | NA         | NA         |    0       | NA         | 1.5033650  | \n",
       "| 2235       | 20603      | 2007-05-09 | 2000000043 | 328970     | 45754907   | 4172703    | NA         |   3125     | NA         |  0         | NA         |  0         | 9531       | NA         | 1.3175068  | \n",
       "| 2235       | 20603      | 2007-05-09 | 2000000043 | 329075     | 45754907   | 4172703    | NA         |     NA     | NA         | NA         | NA         | NA         |    0       | NA         | 1.3175068  | \n",
       "| 2235       | 66597      | 2008-09-17 | 2000000043 | 356216     | 45754907   | 4172703    | NA         |   2904     | NA         |  0         | NA         |  0         | 9531       | NA         | 1.5244094  | \n",
       "| 2235       | 66597      | 2008-09-17 | 2000000043 | 355886     | 45754907   | 4172703    | NA         |     NA     | NA         | NA         | NA         | NA         |    0       | NA         | 1.5244094  | \n",
       "| 2235       | 80578      | 2008-12-15 | 2000000043 | 328963     | 45754907   | 4172703    | NA         | 317505     | NA         | NA         | NA         | NA         |    0       | NA         | 1.1433705  | \n",
       "| 2235       | 20861      | 2011-07-29 | 2000000043 | 328436     | 45754907   | 4172703    | NA         |   3776     | NA         |  0         | NA         |  0         | 9531       | NA         | 1.1602047  | \n",
       "| 2235       | 20861      | 2011-07-29 | 2000000043 | 329012     | 45754907   | 4172703    | NA         | 318304     | NA         | NA         | NA         | NA         |    0       | NA         | 1.1602047  | \n",
       "| 2235       | 70003      | 2011-08-10 | 2000000043 | 329321     | 45754907   | 4172703    | NA         | 308646     | NA         | NA         | NA         | NA         |    0       | NA         | 1.1139768  | \n",
       "| 2235       | 54841      | 2012-05-14 | 2000000043 | 329204     | 45754907   | 4172703    | NA         | 309867     | NA         | NA         | NA         | NA         |    0       | NA         | 1.4291861  | \n",
       "| 2235       | 75955      | 2012-08-29 | 2000000043 | 329322     | 45754907   | 4172703    | NA         | 317451     | NA         | NA         | NA         | NA         |    0       | NA         | 1.2740674  | \n",
       "| 2235       | 86311      | 2013-01-04 | 2000000043 | 329072     | 45754907   | 4172703    | NA         |   8776     | NA         | NA         | NA         | NA         |    0       | NA         | 1.5509860  | \n",
       "| 2235       | 87531      | 2013-03-16 | 2000000043 | 328595     | 45754907   | 4172703    | NA         | 258813     | NA         | NA         | NA         | NA         |    0       | NA         | 1.2122906  | \n",
       "| 2235       | 87531      | 2013-03-16 | 2000000043 | 328545     | 45754907   | 4172703    | NA         | 258813     | NA         | NA         | NA         | NA         |    0       | NA         | 1.2122906  | \n",
       "| 2235       | 52197      | 2014-01-25 | 2000000043 | 356333     | 45754907   | 4172703    | NA         |   5746     | NA         |  0         | NA         |  0         | 9531       | NA         | 1.2044011  | \n",
       "| 2235       | 52197      | 2014-01-25 | 2000000043 | 355889     | 45754907   | 4172703    | NA         |     NA     | NA         | NA         | NA         | NA         |    0       | NA         | 1.2044011  | \n",
       "| 2235       | 21005      | 2014-03-29 | 2000000043 | 329373     | 45754907   | 4172703    | NA         | 328973     | NA         | NA         | NA         | NA         |    0       | NA         | 1.2681013  | \n",
       "| 2235       | 20645      | 2014-11-17 | 2000000043 | 329317     | 45754907   | 4172703    | NA         | 308412     | NA         | NA         | NA         | NA         |    0       | NA         | 1.4498492  | \n",
       "| 2235       | 21119      | 2015-04-30 | 2000000043 | 355898     | 45754907   | 4172703    | NA         |     NA     | NA         |  0         | NA         |  0         | 9531       | NA         | 0.9812144  | \n",
       "| 2235       | 21119      | 2015-04-30 | 2000000043 | 356240     | 45754907   | 4172703    | NA         | 310656     | NA         | NA         | NA         | NA         |    0       | NA         | 0.9812144  | \n",
       "| 2235       | 20440      | 2016-02-01 | 2000000043 | 355824     | 45754907   | 4172703    | NA         |  20718     | NA         | NA         | NA         | NA         |    0       | NA         | 1.5109743  | \n",
       "| 2235       | 20855      | 2017-12-01 | 2000000043 | 329361     | 45754907   | 4172703    | NA         | 309999     | NA         | NA         | NA         | NA         |    0       | NA         | 1.5982649  | \n",
       "| 2235       | 20594      | 2019-11-07 | 2000000043 | 356069     | 45754907   | 4172703    | NA         |   4034     | NA         |  0         | NA         |  0         | 9531       | NA         | 1.3921956  | \n",
       "| 2235       | 20594      | 2019-11-07 | 2000000043 | 356353     | 45754907   | 4172703    | NA         |     NA     | NA         | NA         | NA         | NA         |    0       | NA         | 1.3921956  | \n",
       "| 2235       | 34666      | 2020-02-13 | 2000000043 | 328949     | 45754907   | 4172703    | NA         | 328895     | NA         | NA         | NA         | NA         |    0       | NA         | 1.6590846  | \n",
       "| 2235       | 84084      | 2020-05-04 | 2000000043 | 355954     | 45754907   | 4172703    | NA         |  12743     | NA         | NA         | NA         | NA         |    0       | NA         | 1.1571570  | \n",
       "| 2235       | 20768      | 2020-11-26 | 2000000043 | 356249     | 45754907   | 4172703    | NA         |   4095     | NA         | NA         | NA         | NA         |    0       | NA         | 1.6604373  | \n",
       "| 2235       | 21019      | 2022-01-12 | 2000000043 | 328819     | 45754907   | 4172703    | NA         |   5430     | NA         | NA         | NA         | NA         |    0       | NA         | 1.0752039  | \n",
       "\n",
       "\n"
      ],
      "text/plain": [
       "   person_id visit_occurrence_id measurement_date measurement_concept_id\n",
       "1  2235      26549               2003-10-04       2000000043            \n",
       "2  2235      20816               2005-10-15       2000000043            \n",
       "3  2235      20816               2005-10-15       2000000043            \n",
       "4  2235      48758               2006-04-28       2000000043            \n",
       "5  2235      27134               2007-04-18       2000000043            \n",
       "6  2235      20603               2007-05-09       2000000043            \n",
       "7  2235      20603               2007-05-09       2000000043            \n",
       "8  2235      66597               2008-09-17       2000000043            \n",
       "9  2235      66597               2008-09-17       2000000043            \n",
       "10 2235      80578               2008-12-15       2000000043            \n",
       "11 2235      20861               2011-07-29       2000000043            \n",
       "12 2235      20861               2011-07-29       2000000043            \n",
       "13 2235      70003               2011-08-10       2000000043            \n",
       "14 2235      54841               2012-05-14       2000000043            \n",
       "15 2235      75955               2012-08-29       2000000043            \n",
       "16 2235      86311               2013-01-04       2000000043            \n",
       "17 2235      87531               2013-03-16       2000000043            \n",
       "18 2235      87531               2013-03-16       2000000043            \n",
       "19 2235      52197               2014-01-25       2000000043            \n",
       "20 2235      52197               2014-01-25       2000000043            \n",
       "21 2235      21005               2014-03-29       2000000043            \n",
       "22 2235      20645               2014-11-17       2000000043            \n",
       "23 2235      21119               2015-04-30       2000000043            \n",
       "24 2235      21119               2015-04-30       2000000043            \n",
       "25 2235      20440               2016-02-01       2000000043            \n",
       "26 2235      20855               2017-12-01       2000000043            \n",
       "27 2235      20594               2019-11-07       2000000043            \n",
       "28 2235      20594               2019-11-07       2000000043            \n",
       "29 2235      34666               2020-02-13       2000000043            \n",
       "30 2235      84084               2020-05-04       2000000043            \n",
       "31 2235      20768               2020-11-26       2000000043            \n",
       "32 2235      21019               2022-01-12       2000000043            \n",
       "   measurement_id measurement_type_concept_id operator_concept_id\n",
       "1  356345         45754907                    4172703            \n",
       "2  355945         45754907                    4172703            \n",
       "3  355909         45754907                    4172703            \n",
       "4  329391         45754907                    4172703            \n",
       "5  329240         45754907                    4172703            \n",
       "6  328970         45754907                    4172703            \n",
       "7  329075         45754907                    4172703            \n",
       "8  356216         45754907                    4172703            \n",
       "9  355886         45754907                    4172703            \n",
       "10 328963         45754907                    4172703            \n",
       "11 328436         45754907                    4172703            \n",
       "12 329012         45754907                    4172703            \n",
       "13 329321         45754907                    4172703            \n",
       "14 329204         45754907                    4172703            \n",
       "15 329322         45754907                    4172703            \n",
       "16 329072         45754907                    4172703            \n",
       "17 328595         45754907                    4172703            \n",
       "18 328545         45754907                    4172703            \n",
       "19 356333         45754907                    4172703            \n",
       "20 355889         45754907                    4172703            \n",
       "21 329373         45754907                    4172703            \n",
       "22 329317         45754907                    4172703            \n",
       "23 355898         45754907                    4172703            \n",
       "24 356240         45754907                    4172703            \n",
       "25 355824         45754907                    4172703            \n",
       "26 329361         45754907                    4172703            \n",
       "27 356069         45754907                    4172703            \n",
       "28 356353         45754907                    4172703            \n",
       "29 328949         45754907                    4172703            \n",
       "30 355954         45754907                    4172703            \n",
       "31 356249         45754907                    4172703            \n",
       "32 328819         45754907                    4172703            \n",
       "   priority_concept_id provider_id range_high range_high_operator_concept_id\n",
       "1  NA                    2831      NA          0                            \n",
       "2  NA                    5676      NA          0                            \n",
       "3  NA                  316255      NA         NA                            \n",
       "4  NA                  309867      NA         NA                            \n",
       "5  NA                  310059      NA         NA                            \n",
       "6  NA                    3125      NA          0                            \n",
       "7  NA                      NA      NA         NA                            \n",
       "8  NA                    2904      NA          0                            \n",
       "9  NA                      NA      NA         NA                            \n",
       "10 NA                  317505      NA         NA                            \n",
       "11 NA                    3776      NA          0                            \n",
       "12 NA                  318304      NA         NA                            \n",
       "13 NA                  308646      NA         NA                            \n",
       "14 NA                  309867      NA         NA                            \n",
       "15 NA                  317451      NA         NA                            \n",
       "16 NA                    8776      NA         NA                            \n",
       "17 NA                  258813      NA         NA                            \n",
       "18 NA                  258813      NA         NA                            \n",
       "19 NA                    5746      NA          0                            \n",
       "20 NA                      NA      NA         NA                            \n",
       "21 NA                  328973      NA         NA                            \n",
       "22 NA                  308412      NA         NA                            \n",
       "23 NA                      NA      NA          0                            \n",
       "24 NA                  310656      NA         NA                            \n",
       "25 NA                   20718      NA         NA                            \n",
       "26 NA                  309999      NA         NA                            \n",
       "27 NA                    4034      NA          0                            \n",
       "28 NA                      NA      NA         NA                            \n",
       "29 NA                  328895      NA         NA                            \n",
       "30 NA                   12743      NA         NA                            \n",
       "31 NA                    4095      NA         NA                            \n",
       "32 NA                    5430      NA         NA                            \n",
       "   range_low range_low_operator_concept_id unit_concept_id value_as_concept_id\n",
       "1  NA         0                            9531            NA                 \n",
       "2  NA         0                            9531            NA                 \n",
       "3  NA        NA                               0            NA                 \n",
       "4  NA        NA                               0            NA                 \n",
       "5  NA        NA                               0            NA                 \n",
       "6  NA         0                            9531            NA                 \n",
       "7  NA        NA                               0            NA                 \n",
       "8  NA         0                            9531            NA                 \n",
       "9  NA        NA                               0            NA                 \n",
       "10 NA        NA                               0            NA                 \n",
       "11 NA         0                            9531            NA                 \n",
       "12 NA        NA                               0            NA                 \n",
       "13 NA        NA                               0            NA                 \n",
       "14 NA        NA                               0            NA                 \n",
       "15 NA        NA                               0            NA                 \n",
       "16 NA        NA                               0            NA                 \n",
       "17 NA        NA                               0            NA                 \n",
       "18 NA        NA                               0            NA                 \n",
       "19 NA         0                            9531            NA                 \n",
       "20 NA        NA                               0            NA                 \n",
       "21 NA        NA                               0            NA                 \n",
       "22 NA        NA                               0            NA                 \n",
       "23 NA         0                            9531            NA                 \n",
       "24 NA        NA                               0            NA                 \n",
       "25 NA        NA                               0            NA                 \n",
       "26 NA        NA                               0            NA                 \n",
       "27 NA         0                            9531            NA                 \n",
       "28 NA        NA                               0            NA                 \n",
       "29 NA        NA                               0            NA                 \n",
       "30 NA        NA                               0            NA                 \n",
       "31 NA        NA                               0            NA                 \n",
       "32 NA        NA                               0            NA                 \n",
       "   value_as_number\n",
       "1  1.6865962      \n",
       "2  1.2778249      \n",
       "3  1.2778249      \n",
       "4  1.3909375      \n",
       "5  1.5033650      \n",
       "6  1.3175068      \n",
       "7  1.3175068      \n",
       "8  1.5244094      \n",
       "9  1.5244094      \n",
       "10 1.1433705      \n",
       "11 1.1602047      \n",
       "12 1.1602047      \n",
       "13 1.1139768      \n",
       "14 1.4291861      \n",
       "15 1.2740674      \n",
       "16 1.5509860      \n",
       "17 1.2122906      \n",
       "18 1.2122906      \n",
       "19 1.2044011      \n",
       "20 1.2044011      \n",
       "21 1.2681013      \n",
       "22 1.4498492      \n",
       "23 0.9812144      \n",
       "24 0.9812144      \n",
       "25 1.5109743      \n",
       "26 1.5982649      \n",
       "27 1.3921956      \n",
       "28 1.3921956      \n",
       "29 1.6590846      \n",
       "30 1.1571570      \n",
       "31 1.6604373      \n",
       "32 1.0752039      "
      ]
     },
     "metadata": {},
     "output_type": "display_data"
    }
   ],
   "source": [
    "# The first obesity measurement came before the first asthma dx; see if any came after\n",
    "measurement[person_id == 2235 & measurement_concept_id == '2000000043'] %>%\n",
    "    arrange(measurement_date)"
   ]
  },
  {
   "cell_type": "markdown",
   "metadata": {},
   "source": [
    "The only obese measurement for this person came before the first asthma dx, so they should not be included in the cohort. As determined in this notebook, the cohort numbers 379 individuals."
   ]
  }
 ],
 "metadata": {
  "kernelspec": {
   "display_name": "R",
   "language": "R",
   "name": "ir"
  },
  "language_info": {
   "codemirror_mode": "r",
   "file_extension": ".r",
   "mimetype": "text/x-r-source",
   "name": "R",
   "pygments_lexer": "r",
   "version": "3.5.1"
  }
 },
 "nbformat": 4,
 "nbformat_minor": 2
}
