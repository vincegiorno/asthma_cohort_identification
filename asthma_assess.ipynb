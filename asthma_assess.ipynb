{
 "cells": [
  {
   "cell_type": "code",
   "execution_count": 1,
   "metadata": {
    "collapsed": true
   },
   "outputs": [],
   "source": [
    "import pandas as pd\n",
    "import numpy as np\n",
    "import sqlite3\n",
    "import matplotlib.pyplot as plt\n",
    "import seaborn as sns\n",
    "\n",
    "%matplotlib inline"
   ]
  },
  {
   "cell_type": "code",
   "execution_count": 2,
   "metadata": {
    "collapsed": true
   },
   "outputs": [],
   "source": [
    "asthma = pd.read_csv('codesets/asthma_codeset.csv')\n",
    "asthma_ids = tuple(asthma['concept_id'])"
   ]
  },
  {
   "cell_type": "code",
   "execution_count": 3,
   "metadata": {
    "collapsed": true
   },
   "outputs": [],
   "source": [
    "albuterol = pd.read_csv('codesets/albuterol_codes.csv')\n",
    "inhaled = albuterol[albuterol['concept_name'].str.contains('inhal', case=False)]"
   ]
  },
  {
   "cell_type": "code",
   "execution_count": 4,
   "metadata": {
    "collapsed": true
   },
   "outputs": [],
   "source": [
    "conn = sqlite3.connect(\"CHOP.db\")"
   ]
  },
  {
   "cell_type": "code",
   "execution_count": 5,
   "metadata": {
    "collapsed": true
   },
   "outputs": [],
   "source": [
    "# find all people with asthma diagnoses\n",
    "diagnoses = pd.read_sql_query(\"SELECT person_id, MIN(visit_start_date) first_diagnosis, \\\n",
    "                                    COUNT(visit_start_date) asthma_visits \\\n",
    "                                FROM (SELECT DISTINCT c.person_id, v.visit_start_date \\\n",
    "                                      FROM condition c INNER JOIN visit v \\\n",
    "                                      ON c.visit_occurrence_id = v.visit_occurrence_id \\\n",
    "                                      WHERE c.condition_concept_id IN {}\".format(asthma_ids) + \" \\\n",
    "                                          AND v.visit_start_date < '2018-04-02 17:44:00') \\\n",
    "                                GROUP BY person_id\", conn)"
   ]
  },
  {
   "cell_type": "code",
   "execution_count": 6,
   "metadata": {},
   "outputs": [
    {
     "data": {
      "text/html": [
       "<div>\n",
       "<style>\n",
       "    .dataframe thead tr:only-child th {\n",
       "        text-align: right;\n",
       "    }\n",
       "\n",
       "    .dataframe thead th {\n",
       "        text-align: left;\n",
       "    }\n",
       "\n",
       "    .dataframe tbody tr th {\n",
       "        vertical-align: top;\n",
       "    }\n",
       "</style>\n",
       "<table border=\"1\" class=\"dataframe\">\n",
       "  <thead>\n",
       "    <tr style=\"text-align: right;\">\n",
       "      <th></th>\n",
       "      <th>person_id</th>\n",
       "      <th>first_diagnosis</th>\n",
       "      <th>asthma_visits</th>\n",
       "    </tr>\n",
       "  </thead>\n",
       "  <tbody>\n",
       "    <tr>\n",
       "      <th>1526</th>\n",
       "      <td>721</td>\n",
       "      <td>1999-01-12 00:00:00</td>\n",
       "      <td>12</td>\n",
       "    </tr>\n",
       "    <tr>\n",
       "      <th>1085</th>\n",
       "      <td>2288</td>\n",
       "      <td>1999-04-28 00:00:00</td>\n",
       "      <td>21</td>\n",
       "    </tr>\n",
       "    <tr>\n",
       "      <th>1685</th>\n",
       "      <td>903</td>\n",
       "      <td>1999-06-11 00:00:00</td>\n",
       "      <td>21</td>\n",
       "    </tr>\n",
       "    <tr>\n",
       "      <th>1013</th>\n",
       "      <td>2203</td>\n",
       "      <td>1999-08-14 00:00:00</td>\n",
       "      <td>16</td>\n",
       "    </tr>\n",
       "    <tr>\n",
       "      <th>1719</th>\n",
       "      <td>939</td>\n",
       "      <td>1999-08-24 00:00:00</td>\n",
       "      <td>9</td>\n",
       "    </tr>\n",
       "  </tbody>\n",
       "</table>\n",
       "</div>"
      ],
      "text/plain": [
       "     person_id      first_diagnosis  asthma_visits\n",
       "1526       721  1999-01-12 00:00:00             12\n",
       "1085      2288  1999-04-28 00:00:00             21\n",
       "1685       903  1999-06-11 00:00:00             21\n",
       "1013      2203  1999-08-14 00:00:00             16\n",
       "1719       939  1999-08-24 00:00:00              9"
      ]
     },
     "execution_count": 6,
     "metadata": {},
     "output_type": "execute_result"
    }
   ],
   "source": [
    "diagnoses.sort_values('first_diagnosis').head()"
   ]
  },
  {
   "cell_type": "markdown",
   "metadata": {},
   "source": [
    "Earliest date is after earliest birth date. Check to see that number of visits is correct, with duplicate entries resolved for a patient with multiple asthma diagnoses on the same visit."
   ]
  },
  {
   "cell_type": "code",
   "execution_count": 7,
   "metadata": {
    "collapsed": true
   },
   "outputs": [],
   "source": [
    "diagnoses2 = pd.read_sql_query(\"SELECT c.person_id, c.visit_occurrence_id, v.visit_start_date first_diagnosis\\\n",
    "                                FROM condition c INNER JOIN visit v \\\n",
    "                                ON c.visit_occurrence_id = v.visit_occurrence_id \\\n",
    "                                WHERE c.condition_concept_id IN {}\".format(asthma_ids), conn)"
   ]
  },
  {
   "cell_type": "code",
   "execution_count": 8,
   "metadata": {},
   "outputs": [
    {
     "data": {
      "text/html": [
       "<div>\n",
       "<style>\n",
       "    .dataframe thead tr:only-child th {\n",
       "        text-align: right;\n",
       "    }\n",
       "\n",
       "    .dataframe thead th {\n",
       "        text-align: left;\n",
       "    }\n",
       "\n",
       "    .dataframe tbody tr th {\n",
       "        vertical-align: top;\n",
       "    }\n",
       "</style>\n",
       "<table border=\"1\" class=\"dataframe\">\n",
       "  <thead>\n",
       "    <tr style=\"text-align: right;\">\n",
       "      <th></th>\n",
       "      <th>person_id</th>\n",
       "      <th>visit_occurrence_id</th>\n",
       "      <th>first_diagnosis</th>\n",
       "    </tr>\n",
       "  </thead>\n",
       "  <tbody>\n",
       "    <tr>\n",
       "      <th>20574</th>\n",
       "      <td>2203</td>\n",
       "      <td>30402</td>\n",
       "      <td>2004-12-29 00:00:00</td>\n",
       "    </tr>\n",
       "    <tr>\n",
       "      <th>16320</th>\n",
       "      <td>2203</td>\n",
       "      <td>45634</td>\n",
       "      <td>2008-01-23 00:00:00</td>\n",
       "    </tr>\n",
       "    <tr>\n",
       "      <th>5634</th>\n",
       "      <td>2203</td>\n",
       "      <td>52328</td>\n",
       "      <td>2016-01-23 00:00:00</td>\n",
       "    </tr>\n",
       "    <tr>\n",
       "      <th>19337</th>\n",
       "      <td>2203</td>\n",
       "      <td>52328</td>\n",
       "      <td>2016-01-23 00:00:00</td>\n",
       "    </tr>\n",
       "    <tr>\n",
       "      <th>13476</th>\n",
       "      <td>2203</td>\n",
       "      <td>52519</td>\n",
       "      <td>2011-05-12 00:00:00</td>\n",
       "    </tr>\n",
       "    <tr>\n",
       "      <th>8699</th>\n",
       "      <td>2203</td>\n",
       "      <td>54721</td>\n",
       "      <td>2001-07-24 00:00:00</td>\n",
       "    </tr>\n",
       "    <tr>\n",
       "      <th>9424</th>\n",
       "      <td>2203</td>\n",
       "      <td>54721</td>\n",
       "      <td>2001-07-24 00:00:00</td>\n",
       "    </tr>\n",
       "    <tr>\n",
       "      <th>17107</th>\n",
       "      <td>2203</td>\n",
       "      <td>54748</td>\n",
       "      <td>2010-01-22 00:00:00</td>\n",
       "    </tr>\n",
       "    <tr>\n",
       "      <th>7748</th>\n",
       "      <td>2203</td>\n",
       "      <td>54776</td>\n",
       "      <td>2007-01-03 00:00:00</td>\n",
       "    </tr>\n",
       "    <tr>\n",
       "      <th>11480</th>\n",
       "      <td>2203</td>\n",
       "      <td>59100</td>\n",
       "      <td>2004-07-12 00:00:00</td>\n",
       "    </tr>\n",
       "    <tr>\n",
       "      <th>11971</th>\n",
       "      <td>2203</td>\n",
       "      <td>59498</td>\n",
       "      <td>2004-05-21 00:00:00</td>\n",
       "    </tr>\n",
       "    <tr>\n",
       "      <th>6379</th>\n",
       "      <td>2203</td>\n",
       "      <td>62970</td>\n",
       "      <td>2006-01-16 00:00:00</td>\n",
       "    </tr>\n",
       "    <tr>\n",
       "      <th>6378</th>\n",
       "      <td>2203</td>\n",
       "      <td>62970</td>\n",
       "      <td>2006-01-16 00:00:00</td>\n",
       "    </tr>\n",
       "    <tr>\n",
       "      <th>5686</th>\n",
       "      <td>2203</td>\n",
       "      <td>63560</td>\n",
       "      <td>2002-09-25 00:00:00</td>\n",
       "    </tr>\n",
       "    <tr>\n",
       "      <th>7050</th>\n",
       "      <td>2203</td>\n",
       "      <td>66030</td>\n",
       "      <td>2002-09-23 00:00:00</td>\n",
       "    </tr>\n",
       "    <tr>\n",
       "      <th>9011</th>\n",
       "      <td>2203</td>\n",
       "      <td>69843</td>\n",
       "      <td>1999-08-14 00:00:00</td>\n",
       "    </tr>\n",
       "    <tr>\n",
       "      <th>10651</th>\n",
       "      <td>2203</td>\n",
       "      <td>69843</td>\n",
       "      <td>1999-08-14 00:00:00</td>\n",
       "    </tr>\n",
       "    <tr>\n",
       "      <th>3697</th>\n",
       "      <td>2203</td>\n",
       "      <td>76671</td>\n",
       "      <td>2007-04-23 00:00:00</td>\n",
       "    </tr>\n",
       "    <tr>\n",
       "      <th>14103</th>\n",
       "      <td>2203</td>\n",
       "      <td>80958</td>\n",
       "      <td>2009-11-17 00:00:00</td>\n",
       "    </tr>\n",
       "    <tr>\n",
       "      <th>14104</th>\n",
       "      <td>2203</td>\n",
       "      <td>80958</td>\n",
       "      <td>2009-11-17 00:00:00</td>\n",
       "    </tr>\n",
       "    <tr>\n",
       "      <th>8143</th>\n",
       "      <td>2203</td>\n",
       "      <td>88591</td>\n",
       "      <td>2017-09-15 00:00:00</td>\n",
       "    </tr>\n",
       "  </tbody>\n",
       "</table>\n",
       "</div>"
      ],
      "text/plain": [
       "      person_id visit_occurrence_id      first_diagnosis\n",
       "20574      2203               30402  2004-12-29 00:00:00\n",
       "16320      2203               45634  2008-01-23 00:00:00\n",
       "5634       2203               52328  2016-01-23 00:00:00\n",
       "19337      2203               52328  2016-01-23 00:00:00\n",
       "13476      2203               52519  2011-05-12 00:00:00\n",
       "8699       2203               54721  2001-07-24 00:00:00\n",
       "9424       2203               54721  2001-07-24 00:00:00\n",
       "17107      2203               54748  2010-01-22 00:00:00\n",
       "7748       2203               54776  2007-01-03 00:00:00\n",
       "11480      2203               59100  2004-07-12 00:00:00\n",
       "11971      2203               59498  2004-05-21 00:00:00\n",
       "6379       2203               62970  2006-01-16 00:00:00\n",
       "6378       2203               62970  2006-01-16 00:00:00\n",
       "5686       2203               63560  2002-09-25 00:00:00\n",
       "7050       2203               66030  2002-09-23 00:00:00\n",
       "9011       2203               69843  1999-08-14 00:00:00\n",
       "10651      2203               69843  1999-08-14 00:00:00\n",
       "3697       2203               76671  2007-04-23 00:00:00\n",
       "14103      2203               80958  2009-11-17 00:00:00\n",
       "14104      2203               80958  2009-11-17 00:00:00\n",
       "8143       2203               88591  2017-09-15 00:00:00"
      ]
     },
     "execution_count": 8,
     "metadata": {},
     "output_type": "execute_result"
    }
   ],
   "source": [
    "diagnoses2[diagnoses2['person_id'] == '2203'].sort_values('visit_occurrence_id')"
   ]
  },
  {
   "cell_type": "code",
   "execution_count": null,
   "metadata": {
    "collapsed": true
   },
   "outputs": [],
   "source": []
  },
  {
   "cell_type": "code",
   "execution_count": 9,
   "metadata": {
    "collapsed": true
   },
   "outputs": [],
   "source": [
    "possibles = diagnoses.loc[diagnoses['asthma_visits'] > 1]"
   ]
  },
  {
   "cell_type": "code",
   "execution_count": 10,
   "metadata": {
    "collapsed": true
   },
   "outputs": [],
   "source": [
    "possible_ids = tuple(possibles['person_id'])"
   ]
  },
  {
   "cell_type": "code",
   "execution_count": 11,
   "metadata": {
    "collapsed": true
   },
   "outputs": [],
   "source": [
    "albut_scripts = tuple(inhaled['concept_id'])"
   ]
  },
  {
   "cell_type": "code",
   "execution_count": 12,
   "metadata": {
    "collapsed": true
   },
   "outputs": [],
   "source": [
    "# Find earliest albuterol prescription for people identified with asthma\n",
    "scripts = pd.read_sql_query(\"SELECT person_id, MIN(drug_exposure_start_date) albut_start \\\n",
    "                             FROM drug d \\\n",
    "                             WHERE person_id IN {}\".format(possible_ids) + \"\\\n",
    "                             AND drug_concept_id IN {}\".format(albut_scripts) + \"\\\n",
    "                             GROUP BY person_id\", conn)"
   ]
  },
  {
   "cell_type": "code",
   "execution_count": 13,
   "metadata": {},
   "outputs": [
    {
     "data": {
      "text/html": [
       "<div>\n",
       "<style>\n",
       "    .dataframe thead tr:only-child th {\n",
       "        text-align: right;\n",
       "    }\n",
       "\n",
       "    .dataframe thead th {\n",
       "        text-align: left;\n",
       "    }\n",
       "\n",
       "    .dataframe tbody tr th {\n",
       "        vertical-align: top;\n",
       "    }\n",
       "</style>\n",
       "<table border=\"1\" class=\"dataframe\">\n",
       "  <thead>\n",
       "    <tr style=\"text-align: right;\">\n",
       "      <th></th>\n",
       "      <th>person_id</th>\n",
       "      <th>albut_start</th>\n",
       "    </tr>\n",
       "  </thead>\n",
       "  <tbody>\n",
       "    <tr>\n",
       "      <th>0</th>\n",
       "      <td>1000</td>\n",
       "      <td>1899-12-12 00:00:00</td>\n",
       "    </tr>\n",
       "    <tr>\n",
       "      <th>1</th>\n",
       "      <td>1001</td>\n",
       "      <td>2009-10-04 00:00:00</td>\n",
       "    </tr>\n",
       "    <tr>\n",
       "      <th>2</th>\n",
       "      <td>1003</td>\n",
       "      <td>2007-02-16 00:00:00</td>\n",
       "    </tr>\n",
       "    <tr>\n",
       "      <th>3</th>\n",
       "      <td>1006</td>\n",
       "      <td>2003-02-17 00:00:00</td>\n",
       "    </tr>\n",
       "    <tr>\n",
       "      <th>4</th>\n",
       "      <td>1007</td>\n",
       "      <td>2002-05-02 00:00:00</td>\n",
       "    </tr>\n",
       "  </tbody>\n",
       "</table>\n",
       "</div>"
      ],
      "text/plain": [
       "  person_id          albut_start\n",
       "0      1000  1899-12-12 00:00:00\n",
       "1      1001  2009-10-04 00:00:00\n",
       "2      1003  2007-02-16 00:00:00\n",
       "3      1006  2003-02-17 00:00:00\n",
       "4      1007  2002-05-02 00:00:00"
      ]
     },
     "execution_count": 13,
     "metadata": {},
     "output_type": "execute_result"
    }
   ],
   "source": [
    "scripts.head()"
   ]
  },
  {
   "cell_type": "code",
   "execution_count": 14,
   "metadata": {
    "collapsed": true
   },
   "outputs": [],
   "source": [
    "asthma_patients_all = diagnoses.set_index('person_id').join(scripts.set_index('person_id'), how='inner')"
   ]
  },
  {
   "cell_type": "code",
   "execution_count": 15,
   "metadata": {
    "collapsed": true
   },
   "outputs": [],
   "source": [
    "# Filter out records that have albuterol start dates earlier than first asthma diagnosis\n",
    "asthma_patients = asthma_patients_all[asthma_patients_all['albut_start'] >= asthma_patients_all['first_diagnosis']]"
   ]
  },
  {
   "cell_type": "code",
   "execution_count": 16,
   "metadata": {},
   "outputs": [
    {
     "data": {
      "text/plain": [
       "918"
      ]
     },
     "execution_count": 16,
     "metadata": {},
     "output_type": "execute_result"
    }
   ],
   "source": [
    "len(asthma_patients)"
   ]
  },
  {
   "cell_type": "code",
   "execution_count": 17,
   "metadata": {},
   "outputs": [
    {
     "data": {
      "text/html": [
       "<div>\n",
       "<style>\n",
       "    .dataframe thead tr:only-child th {\n",
       "        text-align: right;\n",
       "    }\n",
       "\n",
       "    .dataframe thead th {\n",
       "        text-align: left;\n",
       "    }\n",
       "\n",
       "    .dataframe tbody tr th {\n",
       "        vertical-align: top;\n",
       "    }\n",
       "</style>\n",
       "<table border=\"1\" class=\"dataframe\">\n",
       "  <thead>\n",
       "    <tr style=\"text-align: right;\">\n",
       "      <th></th>\n",
       "      <th>first_diagnosis</th>\n",
       "      <th>asthma_visits</th>\n",
       "      <th>albut_start</th>\n",
       "    </tr>\n",
       "    <tr>\n",
       "      <th>person_id</th>\n",
       "      <th></th>\n",
       "      <th></th>\n",
       "      <th></th>\n",
       "    </tr>\n",
       "  </thead>\n",
       "  <tbody>\n",
       "    <tr>\n",
       "      <th>1001</th>\n",
       "      <td>2001-08-10 00:00:00</td>\n",
       "      <td>5</td>\n",
       "      <td>2009-10-04 00:00:00</td>\n",
       "    </tr>\n",
       "    <tr>\n",
       "      <th>1003</th>\n",
       "      <td>2003-05-13 00:00:00</td>\n",
       "      <td>8</td>\n",
       "      <td>2007-02-16 00:00:00</td>\n",
       "    </tr>\n",
       "    <tr>\n",
       "      <th>1006</th>\n",
       "      <td>2003-02-17 00:00:00</td>\n",
       "      <td>12</td>\n",
       "      <td>2003-02-17 00:00:00</td>\n",
       "    </tr>\n",
       "    <tr>\n",
       "      <th>1007</th>\n",
       "      <td>2000-11-20 00:00:00</td>\n",
       "      <td>8</td>\n",
       "      <td>2002-05-02 00:00:00</td>\n",
       "    </tr>\n",
       "    <tr>\n",
       "      <th>1011</th>\n",
       "      <td>2002-03-22 00:00:00</td>\n",
       "      <td>7</td>\n",
       "      <td>2006-07-01 00:00:00</td>\n",
       "    </tr>\n",
       "  </tbody>\n",
       "</table>\n",
       "</div>"
      ],
      "text/plain": [
       "               first_diagnosis  asthma_visits          albut_start\n",
       "person_id                                                         \n",
       "1001       2001-08-10 00:00:00              5  2009-10-04 00:00:00\n",
       "1003       2003-05-13 00:00:00              8  2007-02-16 00:00:00\n",
       "1006       2003-02-17 00:00:00             12  2003-02-17 00:00:00\n",
       "1007       2000-11-20 00:00:00              8  2002-05-02 00:00:00\n",
       "1011       2002-03-22 00:00:00              7  2006-07-01 00:00:00"
      ]
     },
     "execution_count": 17,
     "metadata": {},
     "output_type": "execute_result"
    }
   ],
   "source": [
    "asthma_patients.head()"
   ]
  },
  {
   "cell_type": "code",
   "execution_count": 18,
   "metadata": {
    "collapsed": true
   },
   "outputs": [],
   "source": [
    "# Save as database table to use in subsequent queries\n",
    "asthma_patients.reset_index().to_sql(\"asthma\", conn, if_exists=\"replace\")"
   ]
  },
  {
   "cell_type": "code",
   "execution_count": 19,
   "metadata": {},
   "outputs": [
    {
     "data": {
      "text/html": [
       "<div>\n",
       "<style>\n",
       "    .dataframe thead tr:only-child th {\n",
       "        text-align: right;\n",
       "    }\n",
       "\n",
       "    .dataframe thead th {\n",
       "        text-align: left;\n",
       "    }\n",
       "\n",
       "    .dataframe tbody tr th {\n",
       "        vertical-align: top;\n",
       "    }\n",
       "</style>\n",
       "<table border=\"1\" class=\"dataframe\">\n",
       "  <thead>\n",
       "    <tr style=\"text-align: right;\">\n",
       "      <th></th>\n",
       "      <th>age_first_d</th>\n",
       "    </tr>\n",
       "    <tr>\n",
       "      <th>person_id</th>\n",
       "      <th></th>\n",
       "    </tr>\n",
       "  </thead>\n",
       "  <tbody>\n",
       "    <tr>\n",
       "      <th>1001</th>\n",
       "      <td>2.8</td>\n",
       "    </tr>\n",
       "    <tr>\n",
       "      <th>1003</th>\n",
       "      <td>1.1</td>\n",
       "    </tr>\n",
       "    <tr>\n",
       "      <th>1006</th>\n",
       "      <td>0.5</td>\n",
       "    </tr>\n",
       "    <tr>\n",
       "      <th>1007</th>\n",
       "      <td>0.8</td>\n",
       "    </tr>\n",
       "    <tr>\n",
       "      <th>1011</th>\n",
       "      <td>2.8</td>\n",
       "    </tr>\n",
       "  </tbody>\n",
       "</table>\n",
       "</div>"
      ],
      "text/plain": [
       "           age_first_d\n",
       "person_id             \n",
       "1001               2.8\n",
       "1003               1.1\n",
       "1006               0.5\n",
       "1007               0.8\n",
       "1011               2.8"
      ]
     },
     "execution_count": 19,
     "metadata": {},
     "output_type": "execute_result"
    }
   ],
   "source": [
    "# Find age of first asthma diagnosis\n",
    "age_first = pd.read_sql_query(\"SELECT a.person_id, julianday(a.first_diagnosis) first, \\\n",
    "                                    julianday(substr(p.birth_datetime, 1, 10)) birth\\\n",
    "                                 FROM asthma a \\\n",
    "                                 LEFT JOIN person p \\\n",
    "                                 ON a.person_id = p.person_id\", conn)\n",
    "age_first['age_first_d'] = age_first['first'] - age_first['birth']\n",
    "age_first['age_first_d'] = age_first['age_first_d'].apply(lambda x: round(x/365.25, 1))\n",
    "age_first = age_first.drop(['first', 'birth'], axis=1).set_index('person_id')\n",
    "age_first.head()"
   ]
  },
  {
   "cell_type": "code",
   "execution_count": 20,
   "metadata": {
    "collapsed": true
   },
   "outputs": [],
   "source": [
    "# Filter for people with at least one BMI Z-score >= 1.645; get date of first, count all.\n",
    "# Average multiple measurements from same date; a couple are different, most are duplicates.\n",
    "\n",
    "asthma_obese = pd.read_sql_query(\"SELECT oo.person_id, first_obese, AVG(mmm.value_as_number) BMI_Z, num_obese \\\n",
    "                                  FROM (SELECT o.person_id, num_obese, first_obese \\\n",
    "                                      FROM (SELECT a.person_id, a.first_diagnosis, COUNT(*) num_obese, \\\n",
    "                                              MIN(measurement_date) first_obese \\\n",
    "                                          FROM (SELECT DISTINCT person_id, measurement_date, value_as_number \\\n",
    "                                              FROM measurement \\\n",
    "                                              WHERE measurement_concept_id = '2000000043' \\\n",
    "                                                  AND value_as_number >= 1.645 \\\n",
    "                                                  AND measurement_date < '2018-04-02 17:46:00') AS m \\\n",
    "                                          INNER JOIN asthma a \\\n",
    "                                          ON m.person_id = a.person_id \\\n",
    "                                          GROUP BY a.person_id) AS o\\\n",
    "                                      INNER JOIN measurement mm \\\n",
    "                                      ON o.person_id = mm.person_id\\\n",
    "                                      WHERE mm.measurement_date >= o.first_diagnosis \\\n",
    "                                          AND mm.measurement_concept_id = '2000000043' \\\n",
    "                                          AND value_as_number >= 1.645\\\n",
    "                                      GROUP BY o.person_id) AS oo \\\n",
    "                                  INNER JOIN measurement mmm\\\n",
    "                                  ON oo.person_id = mmm.person_id \\\n",
    "                                  WHERE first_obese = mmm.measurement_date \\\n",
    "                                      AND mmm.measurement_concept_id = '2000000043' \\\n",
    "                                  GROUP BY oo.person_id, first_obese\", conn)"
   ]
  },
  {
   "cell_type": "code",
   "execution_count": 21,
   "metadata": {},
   "outputs": [
    {
     "data": {
      "text/html": [
       "<div>\n",
       "<style>\n",
       "    .dataframe thead tr:only-child th {\n",
       "        text-align: right;\n",
       "    }\n",
       "\n",
       "    .dataframe thead th {\n",
       "        text-align: left;\n",
       "    }\n",
       "\n",
       "    .dataframe tbody tr th {\n",
       "        vertical-align: top;\n",
       "    }\n",
       "</style>\n",
       "<table border=\"1\" class=\"dataframe\">\n",
       "  <thead>\n",
       "    <tr style=\"text-align: right;\">\n",
       "      <th></th>\n",
       "      <th>person_id</th>\n",
       "      <th>first_obese</th>\n",
       "      <th>BMI_Z</th>\n",
       "      <th>num_obese</th>\n",
       "    </tr>\n",
       "  </thead>\n",
       "  <tbody>\n",
       "    <tr>\n",
       "      <th>0</th>\n",
       "      <td>1001</td>\n",
       "      <td>2017-07-25 00:00:00</td>\n",
       "      <td>1.694385</td>\n",
       "      <td>1</td>\n",
       "    </tr>\n",
       "    <tr>\n",
       "      <th>1</th>\n",
       "      <td>1024</td>\n",
       "      <td>2002-07-04 00:00:00</td>\n",
       "      <td>1.937813</td>\n",
       "      <td>10</td>\n",
       "    </tr>\n",
       "    <tr>\n",
       "      <th>2</th>\n",
       "      <td>1033</td>\n",
       "      <td>2002-02-26 00:00:00</td>\n",
       "      <td>1.706950</td>\n",
       "      <td>18</td>\n",
       "    </tr>\n",
       "    <tr>\n",
       "      <th>3</th>\n",
       "      <td>1034</td>\n",
       "      <td>2005-10-05 00:00:00</td>\n",
       "      <td>2.139937</td>\n",
       "      <td>10</td>\n",
       "    </tr>\n",
       "    <tr>\n",
       "      <th>4</th>\n",
       "      <td>1037</td>\n",
       "      <td>2003-06-30 00:00:00</td>\n",
       "      <td>2.308346</td>\n",
       "      <td>14</td>\n",
       "    </tr>\n",
       "  </tbody>\n",
       "</table>\n",
       "</div>"
      ],
      "text/plain": [
       "  person_id          first_obese     BMI_Z  num_obese\n",
       "0      1001  2017-07-25 00:00:00  1.694385          1\n",
       "1      1024  2002-07-04 00:00:00  1.937813         10\n",
       "2      1033  2002-02-26 00:00:00  1.706950         18\n",
       "3      1034  2005-10-05 00:00:00  2.139937         10\n",
       "4      1037  2003-06-30 00:00:00  2.308346         14"
      ]
     },
     "execution_count": 21,
     "metadata": {},
     "output_type": "execute_result"
    }
   ],
   "source": [
    "asthma_obese.head()"
   ]
  },
  {
   "cell_type": "code",
   "execution_count": 22,
   "metadata": {},
   "outputs": [
    {
     "data": {
      "text/html": [
       "<div>\n",
       "<style>\n",
       "    .dataframe thead tr:only-child th {\n",
       "        text-align: right;\n",
       "    }\n",
       "\n",
       "    .dataframe thead th {\n",
       "        text-align: left;\n",
       "    }\n",
       "\n",
       "    .dataframe tbody tr th {\n",
       "        vertical-align: top;\n",
       "    }\n",
       "</style>\n",
       "<table border=\"1\" class=\"dataframe\">\n",
       "  <thead>\n",
       "    <tr style=\"text-align: right;\">\n",
       "      <th></th>\n",
       "      <th>BMI_Z</th>\n",
       "      <th>num_obese</th>\n",
       "    </tr>\n",
       "  </thead>\n",
       "  <tbody>\n",
       "    <tr>\n",
       "      <th>count</th>\n",
       "      <td>380.000000</td>\n",
       "      <td>380.000000</td>\n",
       "    </tr>\n",
       "    <tr>\n",
       "      <th>mean</th>\n",
       "      <td>1.957259</td>\n",
       "      <td>9.189474</td>\n",
       "    </tr>\n",
       "    <tr>\n",
       "      <th>std</th>\n",
       "      <td>0.266723</td>\n",
       "      <td>6.876283</td>\n",
       "    </tr>\n",
       "    <tr>\n",
       "      <th>min</th>\n",
       "      <td>1.645027</td>\n",
       "      <td>1.000000</td>\n",
       "    </tr>\n",
       "    <tr>\n",
       "      <th>25%</th>\n",
       "      <td>1.731416</td>\n",
       "      <td>3.000000</td>\n",
       "    </tr>\n",
       "    <tr>\n",
       "      <th>50%</th>\n",
       "      <td>1.889878</td>\n",
       "      <td>8.000000</td>\n",
       "    </tr>\n",
       "    <tr>\n",
       "      <th>75%</th>\n",
       "      <td>2.130171</td>\n",
       "      <td>13.000000</td>\n",
       "    </tr>\n",
       "    <tr>\n",
       "      <th>max</th>\n",
       "      <td>2.843094</td>\n",
       "      <td>30.000000</td>\n",
       "    </tr>\n",
       "  </tbody>\n",
       "</table>\n",
       "</div>"
      ],
      "text/plain": [
       "            BMI_Z   num_obese\n",
       "count  380.000000  380.000000\n",
       "mean     1.957259    9.189474\n",
       "std      0.266723    6.876283\n",
       "min      1.645027    1.000000\n",
       "25%      1.731416    3.000000\n",
       "50%      1.889878    8.000000\n",
       "75%      2.130171   13.000000\n",
       "max      2.843094   30.000000"
      ]
     },
     "execution_count": 22,
     "metadata": {},
     "output_type": "execute_result"
    }
   ],
   "source": [
    "asthma_obese.describe()"
   ]
  },
  {
   "cell_type": "code",
   "execution_count": 23,
   "metadata": {},
   "outputs": [
    {
     "data": {
      "text/plain": [
       "380"
      ]
     },
     "execution_count": 23,
     "metadata": {},
     "output_type": "execute_result"
    }
   ],
   "source": [
    "# Check to make sure no person appears more than once\n",
    "len(np.unique(list(asthma_obese['person_id'])))"
   ]
  },
  {
   "cell_type": "code",
   "execution_count": 24,
   "metadata": {
    "collapsed": true
   },
   "outputs": [],
   "source": [
    "# Find difference between \n",
    "days = pd.read_sql_query(\"SELECT person_id, julianday(first_diagnosis) d, julianday(albut_start) a FROM asthma\", conn)"
   ]
  },
  {
   "cell_type": "code",
   "execution_count": 25,
   "metadata": {},
   "outputs": [
    {
     "data": {
      "text/html": [
       "<div>\n",
       "<style>\n",
       "    .dataframe thead tr:only-child th {\n",
       "        text-align: right;\n",
       "    }\n",
       "\n",
       "    .dataframe thead th {\n",
       "        text-align: left;\n",
       "    }\n",
       "\n",
       "    .dataframe tbody tr th {\n",
       "        vertical-align: top;\n",
       "    }\n",
       "</style>\n",
       "<table border=\"1\" class=\"dataframe\">\n",
       "  <thead>\n",
       "    <tr style=\"text-align: right;\">\n",
       "      <th></th>\n",
       "      <th>person_id</th>\n",
       "      <th>d</th>\n",
       "      <th>a</th>\n",
       "    </tr>\n",
       "  </thead>\n",
       "  <tbody>\n",
       "    <tr>\n",
       "      <th>0</th>\n",
       "      <td>1001</td>\n",
       "      <td>2452131.5</td>\n",
       "      <td>2455108.5</td>\n",
       "    </tr>\n",
       "    <tr>\n",
       "      <th>1</th>\n",
       "      <td>1003</td>\n",
       "      <td>2452772.5</td>\n",
       "      <td>2454147.5</td>\n",
       "    </tr>\n",
       "    <tr>\n",
       "      <th>2</th>\n",
       "      <td>1006</td>\n",
       "      <td>2452687.5</td>\n",
       "      <td>2452687.5</td>\n",
       "    </tr>\n",
       "    <tr>\n",
       "      <th>3</th>\n",
       "      <td>1007</td>\n",
       "      <td>2451868.5</td>\n",
       "      <td>2452396.5</td>\n",
       "    </tr>\n",
       "    <tr>\n",
       "      <th>4</th>\n",
       "      <td>1011</td>\n",
       "      <td>2452355.5</td>\n",
       "      <td>2453917.5</td>\n",
       "    </tr>\n",
       "  </tbody>\n",
       "</table>\n",
       "</div>"
      ],
      "text/plain": [
       "  person_id          d          a\n",
       "0      1001  2452131.5  2455108.5\n",
       "1      1003  2452772.5  2454147.5\n",
       "2      1006  2452687.5  2452687.5\n",
       "3      1007  2451868.5  2452396.5\n",
       "4      1011  2452355.5  2453917.5"
      ]
     },
     "execution_count": 25,
     "metadata": {},
     "output_type": "execute_result"
    }
   ],
   "source": [
    "days.head()"
   ]
  },
  {
   "cell_type": "code",
   "execution_count": 26,
   "metadata": {
    "collapsed": true
   },
   "outputs": [],
   "source": [
    "days['days_between'] = days['a'] - days['d']\n",
    "days['days_between'] = days['days_between'].astype('int16')"
   ]
  },
  {
   "cell_type": "code",
   "execution_count": 27,
   "metadata": {},
   "outputs": [
    {
     "data": {
      "text/html": [
       "<div>\n",
       "<style>\n",
       "    .dataframe thead tr:only-child th {\n",
       "        text-align: right;\n",
       "    }\n",
       "\n",
       "    .dataframe thead th {\n",
       "        text-align: left;\n",
       "    }\n",
       "\n",
       "    .dataframe tbody tr th {\n",
       "        vertical-align: top;\n",
       "    }\n",
       "</style>\n",
       "<table border=\"1\" class=\"dataframe\">\n",
       "  <thead>\n",
       "    <tr style=\"text-align: right;\">\n",
       "      <th></th>\n",
       "      <th>person_id</th>\n",
       "      <th>d</th>\n",
       "      <th>a</th>\n",
       "      <th>days_between</th>\n",
       "    </tr>\n",
       "  </thead>\n",
       "  <tbody>\n",
       "    <tr>\n",
       "      <th>0</th>\n",
       "      <td>1001</td>\n",
       "      <td>2452131.5</td>\n",
       "      <td>2455108.5</td>\n",
       "      <td>2977</td>\n",
       "    </tr>\n",
       "    <tr>\n",
       "      <th>1</th>\n",
       "      <td>1003</td>\n",
       "      <td>2452772.5</td>\n",
       "      <td>2454147.5</td>\n",
       "      <td>1375</td>\n",
       "    </tr>\n",
       "    <tr>\n",
       "      <th>2</th>\n",
       "      <td>1006</td>\n",
       "      <td>2452687.5</td>\n",
       "      <td>2452687.5</td>\n",
       "      <td>0</td>\n",
       "    </tr>\n",
       "    <tr>\n",
       "      <th>3</th>\n",
       "      <td>1007</td>\n",
       "      <td>2451868.5</td>\n",
       "      <td>2452396.5</td>\n",
       "      <td>528</td>\n",
       "    </tr>\n",
       "    <tr>\n",
       "      <th>4</th>\n",
       "      <td>1011</td>\n",
       "      <td>2452355.5</td>\n",
       "      <td>2453917.5</td>\n",
       "      <td>1562</td>\n",
       "    </tr>\n",
       "  </tbody>\n",
       "</table>\n",
       "</div>"
      ],
      "text/plain": [
       "  person_id          d          a  days_between\n",
       "0      1001  2452131.5  2455108.5          2977\n",
       "1      1003  2452772.5  2454147.5          1375\n",
       "2      1006  2452687.5  2452687.5             0\n",
       "3      1007  2451868.5  2452396.5           528\n",
       "4      1011  2452355.5  2453917.5          1562"
      ]
     },
     "execution_count": 27,
     "metadata": {},
     "output_type": "execute_result"
    }
   ],
   "source": [
    "days.head()"
   ]
  },
  {
   "cell_type": "code",
   "execution_count": 28,
   "metadata": {
    "collapsed": true
   },
   "outputs": [],
   "source": [
    "days = days.drop(['d', 'a'], axis=1)"
   ]
  },
  {
   "cell_type": "code",
   "execution_count": 29,
   "metadata": {
    "collapsed": true
   },
   "outputs": [],
   "source": [
    "# Combine dataframes generated so far\n",
    "combined = asthma_patients.join([days.set_index('person_id'), age_first, asthma_obese.set_index('person_id')], how='inner')"
   ]
  },
  {
   "cell_type": "code",
   "execution_count": 30,
   "metadata": {
    "collapsed": true
   },
   "outputs": [],
   "source": [
    "for col in ['first_diagnosis', 'albut_start', 'first_obese']:\n",
    "    combined[col] = combined[col].apply(lambda x: x[:10])"
   ]
  },
  {
   "cell_type": "code",
   "execution_count": 31,
   "metadata": {},
   "outputs": [
    {
     "data": {
      "text/html": [
       "<div>\n",
       "<style>\n",
       "    .dataframe thead tr:only-child th {\n",
       "        text-align: right;\n",
       "    }\n",
       "\n",
       "    .dataframe thead th {\n",
       "        text-align: left;\n",
       "    }\n",
       "\n",
       "    .dataframe tbody tr th {\n",
       "        vertical-align: top;\n",
       "    }\n",
       "</style>\n",
       "<table border=\"1\" class=\"dataframe\">\n",
       "  <thead>\n",
       "    <tr style=\"text-align: right;\">\n",
       "      <th></th>\n",
       "      <th>first_diagnosis</th>\n",
       "      <th>asthma_visits</th>\n",
       "      <th>albut_start</th>\n",
       "      <th>days_between</th>\n",
       "      <th>age_first_d</th>\n",
       "      <th>first_obese</th>\n",
       "      <th>BMI_Z</th>\n",
       "      <th>num_obese</th>\n",
       "    </tr>\n",
       "    <tr>\n",
       "      <th>person_id</th>\n",
       "      <th></th>\n",
       "      <th></th>\n",
       "      <th></th>\n",
       "      <th></th>\n",
       "      <th></th>\n",
       "      <th></th>\n",
       "      <th></th>\n",
       "      <th></th>\n",
       "    </tr>\n",
       "  </thead>\n",
       "  <tbody>\n",
       "    <tr>\n",
       "      <th>1001</th>\n",
       "      <td>2001-08-10</td>\n",
       "      <td>5</td>\n",
       "      <td>2009-10-04</td>\n",
       "      <td>2977</td>\n",
       "      <td>2.8</td>\n",
       "      <td>2017-07-25</td>\n",
       "      <td>1.694385</td>\n",
       "      <td>1</td>\n",
       "    </tr>\n",
       "    <tr>\n",
       "      <th>1024</th>\n",
       "      <td>2004-01-03</td>\n",
       "      <td>19</td>\n",
       "      <td>2004-07-18</td>\n",
       "      <td>197</td>\n",
       "      <td>1.7</td>\n",
       "      <td>2002-07-04</td>\n",
       "      <td>1.937813</td>\n",
       "      <td>10</td>\n",
       "    </tr>\n",
       "    <tr>\n",
       "      <th>1033</th>\n",
       "      <td>2003-11-07</td>\n",
       "      <td>14</td>\n",
       "      <td>2003-11-07</td>\n",
       "      <td>0</td>\n",
       "      <td>1.9</td>\n",
       "      <td>2002-02-26</td>\n",
       "      <td>1.706950</td>\n",
       "      <td>18</td>\n",
       "    </tr>\n",
       "    <tr>\n",
       "      <th>1034</th>\n",
       "      <td>2005-07-07</td>\n",
       "      <td>3</td>\n",
       "      <td>2005-12-23</td>\n",
       "      <td>169</td>\n",
       "      <td>2.2</td>\n",
       "      <td>2005-10-05</td>\n",
       "      <td>2.139937</td>\n",
       "      <td>10</td>\n",
       "    </tr>\n",
       "    <tr>\n",
       "      <th>1037</th>\n",
       "      <td>2002-01-03</td>\n",
       "      <td>10</td>\n",
       "      <td>2007-09-21</td>\n",
       "      <td>2087</td>\n",
       "      <td>1.6</td>\n",
       "      <td>2003-06-30</td>\n",
       "      <td>2.308346</td>\n",
       "      <td>14</td>\n",
       "    </tr>\n",
       "  </tbody>\n",
       "</table>\n",
       "</div>"
      ],
      "text/plain": [
       "          first_diagnosis  asthma_visits albut_start  days_between  \\\n",
       "person_id                                                            \n",
       "1001           2001-08-10              5  2009-10-04          2977   \n",
       "1024           2004-01-03             19  2004-07-18           197   \n",
       "1033           2003-11-07             14  2003-11-07             0   \n",
       "1034           2005-07-07              3  2005-12-23           169   \n",
       "1037           2002-01-03             10  2007-09-21          2087   \n",
       "\n",
       "           age_first_d first_obese     BMI_Z  num_obese  \n",
       "person_id                                                \n",
       "1001               2.8  2017-07-25  1.694385          1  \n",
       "1024               1.7  2002-07-04  1.937813         10  \n",
       "1033               1.9  2002-02-26  1.706950         18  \n",
       "1034               2.2  2005-10-05  2.139937         10  \n",
       "1037               1.6  2003-06-30  2.308346         14  "
      ]
     },
     "execution_count": 31,
     "metadata": {},
     "output_type": "execute_result"
    }
   ],
   "source": [
    "combined.head()"
   ]
  },
  {
   "cell_type": "code",
   "execution_count": 32,
   "metadata": {},
   "outputs": [
    {
     "data": {
      "text/plain": [
       "380"
      ]
     },
     "execution_count": 32,
     "metadata": {},
     "output_type": "execute_result"
    }
   ],
   "source": [
    "len(combined)"
   ]
  },
  {
   "cell_type": "code",
   "execution_count": 33,
   "metadata": {
    "collapsed": true
   },
   "outputs": [],
   "source": [
    "cohort_ids = tuple(combined.index)"
   ]
  },
  {
   "cell_type": "code",
   "execution_count": 34,
   "metadata": {
    "collapsed": true
   },
   "outputs": [],
   "source": [
    "# Pull in demographic data for identified cohort\n",
    "cohort_demog = pd.read_sql_query(\"SELECT person_id, birth_datetime [age_(yrs)], gender_concept_id gender, \\\n",
    "                                    ethnicity_concept_id ethnicity, race_concept_id race \\\n",
    "                                  FROM person WHERE person_id IN {}\".format(cohort_ids) + \"\\\n",
    "                                  ORDER BY person_id\", conn)"
   ]
  },
  {
   "cell_type": "code",
   "execution_count": 35,
   "metadata": {},
   "outputs": [
    {
     "data": {
      "text/html": [
       "<div>\n",
       "<style>\n",
       "    .dataframe thead tr:only-child th {\n",
       "        text-align: right;\n",
       "    }\n",
       "\n",
       "    .dataframe thead th {\n",
       "        text-align: left;\n",
       "    }\n",
       "\n",
       "    .dataframe tbody tr th {\n",
       "        vertical-align: top;\n",
       "    }\n",
       "</style>\n",
       "<table border=\"1\" class=\"dataframe\">\n",
       "  <thead>\n",
       "    <tr style=\"text-align: right;\">\n",
       "      <th></th>\n",
       "      <th>person_id</th>\n",
       "      <th>age_(yrs)</th>\n",
       "      <th>gender</th>\n",
       "      <th>ethnicity</th>\n",
       "      <th>race</th>\n",
       "    </tr>\n",
       "  </thead>\n",
       "  <tbody>\n",
       "    <tr>\n",
       "      <th>0</th>\n",
       "      <td>1001</td>\n",
       "      <td>1998-11-08 14:51:52-05</td>\n",
       "      <td>8532</td>\n",
       "      <td>38003564</td>\n",
       "      <td>44814660</td>\n",
       "    </tr>\n",
       "    <tr>\n",
       "      <th>1</th>\n",
       "      <td>1024</td>\n",
       "      <td>2002-04-25 01:09:28-04</td>\n",
       "      <td>8507</td>\n",
       "      <td>38003564</td>\n",
       "      <td>8527</td>\n",
       "    </tr>\n",
       "    <tr>\n",
       "      <th>2</th>\n",
       "      <td>1033</td>\n",
       "      <td>2001-12-18 00:08:24-05</td>\n",
       "      <td>8532</td>\n",
       "      <td>38003564</td>\n",
       "      <td>8527</td>\n",
       "    </tr>\n",
       "    <tr>\n",
       "      <th>3</th>\n",
       "      <td>1034</td>\n",
       "      <td>2003-04-10 05:07:41-04</td>\n",
       "      <td>8507</td>\n",
       "      <td>44814653</td>\n",
       "      <td>8557</td>\n",
       "    </tr>\n",
       "    <tr>\n",
       "      <th>4</th>\n",
       "      <td>1037</td>\n",
       "      <td>2000-05-24 00:12:43-04</td>\n",
       "      <td>8507</td>\n",
       "      <td>38003564</td>\n",
       "      <td>8516</td>\n",
       "    </tr>\n",
       "  </tbody>\n",
       "</table>\n",
       "</div>"
      ],
      "text/plain": [
       "  person_id               age_(yrs) gender ethnicity      race\n",
       "0      1001  1998-11-08 14:51:52-05   8532  38003564  44814660\n",
       "1      1024  2002-04-25 01:09:28-04   8507  38003564      8527\n",
       "2      1033  2001-12-18 00:08:24-05   8532  38003564      8527\n",
       "3      1034  2003-04-10 05:07:41-04   8507  44814653      8557\n",
       "4      1037  2000-05-24 00:12:43-04   8507  38003564      8516"
      ]
     },
     "execution_count": 35,
     "metadata": {},
     "output_type": "execute_result"
    }
   ],
   "source": [
    "cohort_demog.head()"
   ]
  },
  {
   "cell_type": "code",
   "execution_count": 36,
   "metadata": {
    "collapsed": true
   },
   "outputs": [],
   "source": [
    "# Calculate age as of date the data .csv files were last modified\n",
    "ref_date = '2018-04-02'\n",
    "year = float(ref_date[:4])\n",
    "month = float(ref_date[5:7])\n",
    "day = float(ref_date[8:10])           \n",
    "cohort_demog['age_(yrs)'] = cohort_demog['age_(yrs)'].apply(lambda x: round(((30 + day - float(x[8:10])) % 30) / 365 + \n",
    "                          ((12 + month - float(x[5:7])) % 12) / 12 + year - float(x[:4]), 1))"
   ]
  },
  {
   "cell_type": "code",
   "execution_count": 37,
   "metadata": {
    "collapsed": true
   },
   "outputs": [],
   "source": [
    "# Replace database codes with the values they represent, shortened as appropriate\n",
    "gender = {'8532': 'F', 'F': 'F', '8507': 'M', 'M': 'M', '44814649': 'Other', '44814650': 'No info', '44814653': 'Unknown'}\n",
    "race = {'8515': 'Asian', '8516': 'Bl/AfrAm', '8527': 'White', '8557': 'Hawaii/PacIsl', '8657': 'AmInd/Alaska',\n",
    "       '44814649': 'Other', '44814650': 'No info', '44814653': 'Unknown', '44814659': 'Multiple', '44814660': 'Declined'}\n",
    "ethnicity = {'38003563': 'Hisp/Lat', '38003564': 'Not Hisp/Lat', '44814649': 'Other', '44814650': 'No info', '44814653': 'Unknown'}"
   ]
  },
  {
   "cell_type": "code",
   "execution_count": 38,
   "metadata": {
    "collapsed": true
   },
   "outputs": [],
   "source": [
    "cols = ['gender', 'ethnicity', 'race']\n",
    "decoders = [gender, ethnicity, race]\n",
    "for col, decode in zip(cols, decoders):\n",
    "    cohort_demog[col] = cohort_demog[col].apply(lambda x: decode[x])"
   ]
  },
  {
   "cell_type": "code",
   "execution_count": 39,
   "metadata": {},
   "outputs": [
    {
     "data": {
      "text/html": [
       "<div>\n",
       "<style>\n",
       "    .dataframe thead tr:only-child th {\n",
       "        text-align: right;\n",
       "    }\n",
       "\n",
       "    .dataframe thead th {\n",
       "        text-align: left;\n",
       "    }\n",
       "\n",
       "    .dataframe tbody tr th {\n",
       "        vertical-align: top;\n",
       "    }\n",
       "</style>\n",
       "<table border=\"1\" class=\"dataframe\">\n",
       "  <thead>\n",
       "    <tr style=\"text-align: right;\">\n",
       "      <th></th>\n",
       "      <th>person_id</th>\n",
       "      <th>age_(yrs)</th>\n",
       "      <th>gender</th>\n",
       "      <th>ethnicity</th>\n",
       "      <th>race</th>\n",
       "    </tr>\n",
       "  </thead>\n",
       "  <tbody>\n",
       "    <tr>\n",
       "      <th>0</th>\n",
       "      <td>1001</td>\n",
       "      <td>20.5</td>\n",
       "      <td>F</td>\n",
       "      <td>Not Hisp/Lat</td>\n",
       "      <td>Declined</td>\n",
       "    </tr>\n",
       "    <tr>\n",
       "      <th>1</th>\n",
       "      <td>1024</td>\n",
       "      <td>16.0</td>\n",
       "      <td>M</td>\n",
       "      <td>Not Hisp/Lat</td>\n",
       "      <td>White</td>\n",
       "    </tr>\n",
       "    <tr>\n",
       "      <th>2</th>\n",
       "      <td>1033</td>\n",
       "      <td>17.4</td>\n",
       "      <td>F</td>\n",
       "      <td>Not Hisp/Lat</td>\n",
       "      <td>White</td>\n",
       "    </tr>\n",
       "    <tr>\n",
       "      <th>3</th>\n",
       "      <td>1034</td>\n",
       "      <td>15.1</td>\n",
       "      <td>M</td>\n",
       "      <td>Unknown</td>\n",
       "      <td>Hawaii/PacIsl</td>\n",
       "    </tr>\n",
       "    <tr>\n",
       "      <th>4</th>\n",
       "      <td>1037</td>\n",
       "      <td>18.9</td>\n",
       "      <td>M</td>\n",
       "      <td>Not Hisp/Lat</td>\n",
       "      <td>Bl/AfrAm</td>\n",
       "    </tr>\n",
       "  </tbody>\n",
       "</table>\n",
       "</div>"
      ],
      "text/plain": [
       "  person_id  age_(yrs) gender     ethnicity           race\n",
       "0      1001       20.5      F  Not Hisp/Lat       Declined\n",
       "1      1024       16.0      M  Not Hisp/Lat          White\n",
       "2      1033       17.4      F  Not Hisp/Lat          White\n",
       "3      1034       15.1      M       Unknown  Hawaii/PacIsl\n",
       "4      1037       18.9      M  Not Hisp/Lat       Bl/AfrAm"
      ]
     },
     "execution_count": 39,
     "metadata": {},
     "output_type": "execute_result"
    }
   ],
   "source": [
    "cohort_demog.head()"
   ]
  },
  {
   "cell_type": "code",
   "execution_count": 40,
   "metadata": {},
   "outputs": [
    {
     "data": {
      "text/plain": [
       "13.1"
      ]
     },
     "execution_count": 40,
     "metadata": {},
     "output_type": "execute_result"
    }
   ],
   "source": [
    "cohort_demog['age_(yrs)'].min()"
   ]
  },
  {
   "cell_type": "code",
   "execution_count": 41,
   "metadata": {},
   "outputs": [
    {
     "data": {
      "text/plain": [
       "20.699999999999999"
      ]
     },
     "execution_count": 41,
     "metadata": {},
     "output_type": "execute_result"
    }
   ],
   "source": [
    "cohort_demog['age_(yrs)'].max()"
   ]
  },
  {
   "cell_type": "code",
   "execution_count": 42,
   "metadata": {
    "collapsed": true
   },
   "outputs": [],
   "source": [
    "cohort = cohort_demog.set_index('person_id').join(combined)"
   ]
  },
  {
   "cell_type": "code",
   "execution_count": 43,
   "metadata": {},
   "outputs": [
    {
     "data": {
      "text/html": [
       "<div>\n",
       "<style>\n",
       "    .dataframe thead tr:only-child th {\n",
       "        text-align: right;\n",
       "    }\n",
       "\n",
       "    .dataframe thead th {\n",
       "        text-align: left;\n",
       "    }\n",
       "\n",
       "    .dataframe tbody tr th {\n",
       "        vertical-align: top;\n",
       "    }\n",
       "</style>\n",
       "<table border=\"1\" class=\"dataframe\">\n",
       "  <thead>\n",
       "    <tr style=\"text-align: right;\">\n",
       "      <th></th>\n",
       "      <th>age_(yrs)</th>\n",
       "      <th>gender</th>\n",
       "      <th>ethnicity</th>\n",
       "      <th>race</th>\n",
       "      <th>first_diagnosis</th>\n",
       "      <th>asthma_visits</th>\n",
       "      <th>albut_start</th>\n",
       "      <th>days_between</th>\n",
       "      <th>age_first_d</th>\n",
       "      <th>first_obese</th>\n",
       "      <th>BMI_Z</th>\n",
       "      <th>num_obese</th>\n",
       "    </tr>\n",
       "    <tr>\n",
       "      <th>person_id</th>\n",
       "      <th></th>\n",
       "      <th></th>\n",
       "      <th></th>\n",
       "      <th></th>\n",
       "      <th></th>\n",
       "      <th></th>\n",
       "      <th></th>\n",
       "      <th></th>\n",
       "      <th></th>\n",
       "      <th></th>\n",
       "      <th></th>\n",
       "      <th></th>\n",
       "    </tr>\n",
       "  </thead>\n",
       "  <tbody>\n",
       "    <tr>\n",
       "      <th>1001</th>\n",
       "      <td>20.5</td>\n",
       "      <td>F</td>\n",
       "      <td>Not Hisp/Lat</td>\n",
       "      <td>Declined</td>\n",
       "      <td>2001-08-10</td>\n",
       "      <td>5</td>\n",
       "      <td>2009-10-04</td>\n",
       "      <td>2977</td>\n",
       "      <td>2.8</td>\n",
       "      <td>2017-07-25</td>\n",
       "      <td>1.694385</td>\n",
       "      <td>1</td>\n",
       "    </tr>\n",
       "    <tr>\n",
       "      <th>1024</th>\n",
       "      <td>16.0</td>\n",
       "      <td>M</td>\n",
       "      <td>Not Hisp/Lat</td>\n",
       "      <td>White</td>\n",
       "      <td>2004-01-03</td>\n",
       "      <td>19</td>\n",
       "      <td>2004-07-18</td>\n",
       "      <td>197</td>\n",
       "      <td>1.7</td>\n",
       "      <td>2002-07-04</td>\n",
       "      <td>1.937813</td>\n",
       "      <td>10</td>\n",
       "    </tr>\n",
       "    <tr>\n",
       "      <th>1033</th>\n",
       "      <td>17.4</td>\n",
       "      <td>F</td>\n",
       "      <td>Not Hisp/Lat</td>\n",
       "      <td>White</td>\n",
       "      <td>2003-11-07</td>\n",
       "      <td>14</td>\n",
       "      <td>2003-11-07</td>\n",
       "      <td>0</td>\n",
       "      <td>1.9</td>\n",
       "      <td>2002-02-26</td>\n",
       "      <td>1.706950</td>\n",
       "      <td>18</td>\n",
       "    </tr>\n",
       "    <tr>\n",
       "      <th>1034</th>\n",
       "      <td>15.1</td>\n",
       "      <td>M</td>\n",
       "      <td>Unknown</td>\n",
       "      <td>Hawaii/PacIsl</td>\n",
       "      <td>2005-07-07</td>\n",
       "      <td>3</td>\n",
       "      <td>2005-12-23</td>\n",
       "      <td>169</td>\n",
       "      <td>2.2</td>\n",
       "      <td>2005-10-05</td>\n",
       "      <td>2.139937</td>\n",
       "      <td>10</td>\n",
       "    </tr>\n",
       "    <tr>\n",
       "      <th>1037</th>\n",
       "      <td>18.9</td>\n",
       "      <td>M</td>\n",
       "      <td>Not Hisp/Lat</td>\n",
       "      <td>Bl/AfrAm</td>\n",
       "      <td>2002-01-03</td>\n",
       "      <td>10</td>\n",
       "      <td>2007-09-21</td>\n",
       "      <td>2087</td>\n",
       "      <td>1.6</td>\n",
       "      <td>2003-06-30</td>\n",
       "      <td>2.308346</td>\n",
       "      <td>14</td>\n",
       "    </tr>\n",
       "  </tbody>\n",
       "</table>\n",
       "</div>"
      ],
      "text/plain": [
       "           age_(yrs) gender     ethnicity           race first_diagnosis  \\\n",
       "person_id                                                                  \n",
       "1001            20.5      F  Not Hisp/Lat       Declined      2001-08-10   \n",
       "1024            16.0      M  Not Hisp/Lat          White      2004-01-03   \n",
       "1033            17.4      F  Not Hisp/Lat          White      2003-11-07   \n",
       "1034            15.1      M       Unknown  Hawaii/PacIsl      2005-07-07   \n",
       "1037            18.9      M  Not Hisp/Lat       Bl/AfrAm      2002-01-03   \n",
       "\n",
       "           asthma_visits albut_start  days_between  age_first_d first_obese  \\\n",
       "person_id                                                                     \n",
       "1001                   5  2009-10-04          2977          2.8  2017-07-25   \n",
       "1024                  19  2004-07-18           197          1.7  2002-07-04   \n",
       "1033                  14  2003-11-07             0          1.9  2002-02-26   \n",
       "1034                   3  2005-12-23           169          2.2  2005-10-05   \n",
       "1037                  10  2007-09-21          2087          1.6  2003-06-30   \n",
       "\n",
       "              BMI_Z  num_obese  \n",
       "person_id                       \n",
       "1001       1.694385          1  \n",
       "1024       1.937813         10  \n",
       "1033       1.706950         18  \n",
       "1034       2.139937         10  \n",
       "1037       2.308346         14  "
      ]
     },
     "execution_count": 43,
     "metadata": {},
     "output_type": "execute_result"
    }
   ],
   "source": [
    "cohort.head()"
   ]
  },
  {
   "cell_type": "code",
   "execution_count": 44,
   "metadata": {},
   "outputs": [
    {
     "data": {
      "text/html": [
       "<div>\n",
       "<style>\n",
       "    .dataframe thead tr:only-child th {\n",
       "        text-align: right;\n",
       "    }\n",
       "\n",
       "    .dataframe thead th {\n",
       "        text-align: left;\n",
       "    }\n",
       "\n",
       "    .dataframe tbody tr th {\n",
       "        vertical-align: top;\n",
       "    }\n",
       "</style>\n",
       "<table border=\"1\" class=\"dataframe\">\n",
       "  <thead>\n",
       "    <tr style=\"text-align: right;\">\n",
       "      <th></th>\n",
       "      <th>person_id</th>\n",
       "      <th>age_(yrs)</th>\n",
       "      <th>gender</th>\n",
       "      <th>ethnicity</th>\n",
       "      <th>race</th>\n",
       "      <th>first_diagnosis</th>\n",
       "      <th>albut_start</th>\n",
       "      <th>days_between</th>\n",
       "      <th>age_first_d</th>\n",
       "      <th>asthma_visits</th>\n",
       "      <th>first_obese</th>\n",
       "      <th>BMI_Z</th>\n",
       "      <th>num_obese</th>\n",
       "    </tr>\n",
       "  </thead>\n",
       "  <tbody>\n",
       "    <tr>\n",
       "      <th>0</th>\n",
       "      <td>1001</td>\n",
       "      <td>20.5</td>\n",
       "      <td>F</td>\n",
       "      <td>Not Hisp/Lat</td>\n",
       "      <td>Declined</td>\n",
       "      <td>2001-08-10</td>\n",
       "      <td>2009-10-04</td>\n",
       "      <td>2977</td>\n",
       "      <td>2.8</td>\n",
       "      <td>5</td>\n",
       "      <td>2017-07-25</td>\n",
       "      <td>1.694385</td>\n",
       "      <td>1</td>\n",
       "    </tr>\n",
       "    <tr>\n",
       "      <th>1</th>\n",
       "      <td>1024</td>\n",
       "      <td>16.0</td>\n",
       "      <td>M</td>\n",
       "      <td>Not Hisp/Lat</td>\n",
       "      <td>White</td>\n",
       "      <td>2004-01-03</td>\n",
       "      <td>2004-07-18</td>\n",
       "      <td>197</td>\n",
       "      <td>1.7</td>\n",
       "      <td>19</td>\n",
       "      <td>2002-07-04</td>\n",
       "      <td>1.937813</td>\n",
       "      <td>10</td>\n",
       "    </tr>\n",
       "    <tr>\n",
       "      <th>2</th>\n",
       "      <td>1033</td>\n",
       "      <td>17.4</td>\n",
       "      <td>F</td>\n",
       "      <td>Not Hisp/Lat</td>\n",
       "      <td>White</td>\n",
       "      <td>2003-11-07</td>\n",
       "      <td>2003-11-07</td>\n",
       "      <td>0</td>\n",
       "      <td>1.9</td>\n",
       "      <td>14</td>\n",
       "      <td>2002-02-26</td>\n",
       "      <td>1.706950</td>\n",
       "      <td>18</td>\n",
       "    </tr>\n",
       "    <tr>\n",
       "      <th>3</th>\n",
       "      <td>1034</td>\n",
       "      <td>15.1</td>\n",
       "      <td>M</td>\n",
       "      <td>Unknown</td>\n",
       "      <td>Hawaii/PacIsl</td>\n",
       "      <td>2005-07-07</td>\n",
       "      <td>2005-12-23</td>\n",
       "      <td>169</td>\n",
       "      <td>2.2</td>\n",
       "      <td>3</td>\n",
       "      <td>2005-10-05</td>\n",
       "      <td>2.139937</td>\n",
       "      <td>10</td>\n",
       "    </tr>\n",
       "    <tr>\n",
       "      <th>4</th>\n",
       "      <td>1037</td>\n",
       "      <td>18.9</td>\n",
       "      <td>M</td>\n",
       "      <td>Not Hisp/Lat</td>\n",
       "      <td>Bl/AfrAm</td>\n",
       "      <td>2002-01-03</td>\n",
       "      <td>2007-09-21</td>\n",
       "      <td>2087</td>\n",
       "      <td>1.6</td>\n",
       "      <td>10</td>\n",
       "      <td>2003-06-30</td>\n",
       "      <td>2.308346</td>\n",
       "      <td>14</td>\n",
       "    </tr>\n",
       "  </tbody>\n",
       "</table>\n",
       "</div>"
      ],
      "text/plain": [
       "  person_id  age_(yrs) gender     ethnicity           race first_diagnosis  \\\n",
       "0      1001       20.5      F  Not Hisp/Lat       Declined      2001-08-10   \n",
       "1      1024       16.0      M  Not Hisp/Lat          White      2004-01-03   \n",
       "2      1033       17.4      F  Not Hisp/Lat          White      2003-11-07   \n",
       "3      1034       15.1      M       Unknown  Hawaii/PacIsl      2005-07-07   \n",
       "4      1037       18.9      M  Not Hisp/Lat       Bl/AfrAm      2002-01-03   \n",
       "\n",
       "  albut_start  days_between  age_first_d  asthma_visits first_obese     BMI_Z  \\\n",
       "0  2009-10-04          2977          2.8              5  2017-07-25  1.694385   \n",
       "1  2004-07-18           197          1.7             19  2002-07-04  1.937813   \n",
       "2  2003-11-07             0          1.9             14  2002-02-26  1.706950   \n",
       "3  2005-12-23           169          2.2              3  2005-10-05  2.139937   \n",
       "4  2007-09-21          2087          1.6             10  2003-06-30  2.308346   \n",
       "\n",
       "   num_obese  \n",
       "0          1  \n",
       "1         10  \n",
       "2         18  \n",
       "3         10  \n",
       "4         14  "
      ]
     },
     "execution_count": 44,
     "metadata": {},
     "output_type": "execute_result"
    }
   ],
   "source": [
    "# Reformat table for more logical column order\n",
    "cohort = cohort.reset_index()\n",
    "cols = cohort.columns.tolist()\n",
    "new_cols = cols[:6] + cols[7:10] + [cols[6]] + cols[10:]\n",
    "cohort = cohort[new_cols]\n",
    "cohort.head()"
   ]
  },
  {
   "cell_type": "code",
   "execution_count": 45,
   "metadata": {},
   "outputs": [
    {
     "data": {
      "text/html": [
       "<div>\n",
       "<style>\n",
       "    .dataframe thead tr:only-child th {\n",
       "        text-align: right;\n",
       "    }\n",
       "\n",
       "    .dataframe thead th {\n",
       "        text-align: left;\n",
       "    }\n",
       "\n",
       "    .dataframe tbody tr th {\n",
       "        vertical-align: top;\n",
       "    }\n",
       "</style>\n",
       "<table border=\"1\" class=\"dataframe\">\n",
       "  <thead>\n",
       "    <tr style=\"text-align: right;\">\n",
       "      <th></th>\n",
       "      <th>age_(yrs)</th>\n",
       "      <th>days_between</th>\n",
       "      <th>age_first_d</th>\n",
       "      <th>asthma_visits</th>\n",
       "      <th>BMI_Z</th>\n",
       "      <th>num_obese</th>\n",
       "    </tr>\n",
       "  </thead>\n",
       "  <tbody>\n",
       "    <tr>\n",
       "      <th>count</th>\n",
       "      <td>380.000000</td>\n",
       "      <td>380.000000</td>\n",
       "      <td>380.000000</td>\n",
       "      <td>380.000000</td>\n",
       "      <td>380.000000</td>\n",
       "      <td>380.000000</td>\n",
       "    </tr>\n",
       "    <tr>\n",
       "      <th>mean</th>\n",
       "      <td>17.017105</td>\n",
       "      <td>663.650000</td>\n",
       "      <td>1.801842</td>\n",
       "      <td>11.465789</td>\n",
       "      <td>1.957259</td>\n",
       "      <td>9.189474</td>\n",
       "    </tr>\n",
       "    <tr>\n",
       "      <th>std</th>\n",
       "      <td>1.791683</td>\n",
       "      <td>852.712154</td>\n",
       "      <td>1.358768</td>\n",
       "      <td>5.520543</td>\n",
       "      <td>0.266723</td>\n",
       "      <td>6.876283</td>\n",
       "    </tr>\n",
       "    <tr>\n",
       "      <th>min</th>\n",
       "      <td>13.100000</td>\n",
       "      <td>0.000000</td>\n",
       "      <td>0.300000</td>\n",
       "      <td>2.000000</td>\n",
       "      <td>1.645027</td>\n",
       "      <td>1.000000</td>\n",
       "    </tr>\n",
       "    <tr>\n",
       "      <th>25%</th>\n",
       "      <td>15.575000</td>\n",
       "      <td>14.000000</td>\n",
       "      <td>0.900000</td>\n",
       "      <td>7.000000</td>\n",
       "      <td>1.731416</td>\n",
       "      <td>3.000000</td>\n",
       "    </tr>\n",
       "    <tr>\n",
       "      <th>50%</th>\n",
       "      <td>17.100000</td>\n",
       "      <td>350.000000</td>\n",
       "      <td>1.400000</td>\n",
       "      <td>11.000000</td>\n",
       "      <td>1.889878</td>\n",
       "      <td>8.000000</td>\n",
       "    </tr>\n",
       "    <tr>\n",
       "      <th>75%</th>\n",
       "      <td>18.525000</td>\n",
       "      <td>980.750000</td>\n",
       "      <td>2.200000</td>\n",
       "      <td>16.000000</td>\n",
       "      <td>2.130171</td>\n",
       "      <td>13.000000</td>\n",
       "    </tr>\n",
       "    <tr>\n",
       "      <th>max</th>\n",
       "      <td>20.700000</td>\n",
       "      <td>3923.000000</td>\n",
       "      <td>11.400000</td>\n",
       "      <td>25.000000</td>\n",
       "      <td>2.843094</td>\n",
       "      <td>30.000000</td>\n",
       "    </tr>\n",
       "  </tbody>\n",
       "</table>\n",
       "</div>"
      ],
      "text/plain": [
       "        age_(yrs)  days_between  age_first_d  asthma_visits       BMI_Z  \\\n",
       "count  380.000000    380.000000   380.000000     380.000000  380.000000   \n",
       "mean    17.017105    663.650000     1.801842      11.465789    1.957259   \n",
       "std      1.791683    852.712154     1.358768       5.520543    0.266723   \n",
       "min     13.100000      0.000000     0.300000       2.000000    1.645027   \n",
       "25%     15.575000     14.000000     0.900000       7.000000    1.731416   \n",
       "50%     17.100000    350.000000     1.400000      11.000000    1.889878   \n",
       "75%     18.525000    980.750000     2.200000      16.000000    2.130171   \n",
       "max     20.700000   3923.000000    11.400000      25.000000    2.843094   \n",
       "\n",
       "        num_obese  \n",
       "count  380.000000  \n",
       "mean     9.189474  \n",
       "std      6.876283  \n",
       "min      1.000000  \n",
       "25%      3.000000  \n",
       "50%      8.000000  \n",
       "75%     13.000000  \n",
       "max     30.000000  "
      ]
     },
     "execution_count": 45,
     "metadata": {},
     "output_type": "execute_result"
    }
   ],
   "source": [
    "cohort_stats = cohort.describe()\n",
    "cohort_stats"
   ]
  },
  {
   "cell_type": "code",
   "execution_count": 46,
   "metadata": {},
   "outputs": [
    {
     "data": {
      "text/plain": [
       "3492"
      ]
     },
     "execution_count": 46,
     "metadata": {},
     "output_type": "execute_result"
    }
   ],
   "source": [
    "# Total number of obese measurements for a reality check\n",
    "cohort['num_obese'].sum()"
   ]
  },
  {
   "cell_type": "code",
   "execution_count": 47,
   "metadata": {
    "collapsed": true
   },
   "outputs": [],
   "source": [
    "# Set up dicts to decode conditions and scripts\n",
    "keys = asthma['concept_id']\n",
    "values = asthma['concept_name']\n",
    "asthma_dict = dict(zip(keys, values))\n",
    "\n",
    "keys = albuterol['concept_id']\n",
    "values = albuterol['concept_name']\n",
    "albut_dict = dict(zip(keys, values))"
   ]
  },
  {
   "cell_type": "code",
   "execution_count": 48,
   "metadata": {
    "collapsed": true
   },
   "outputs": [],
   "source": [
    "# Select info for visits table; then post-process into readable form\n",
    "visits = pd.read_sql_query(\"SELECT v.person_id p_id, v.visit_start_date date, p.birth_datetime age, \\\n",
    "                                p.gender_concept_id gender, \\\n",
    "                                AVG(m.value_as_number) obese, \\\n",
    "                                GROUP_CONCAT(c.condition_concept_id) diagnoses, \\\n",
    "                                GROUP_CONCAT(d.drug_concept_id) scripts \\\n",
    "                            FROM visit v INNER JOIN person p ON v.person_id = p.person_id \\\n",
    "                            LEFT JOIN condition c on v.visit_occurrence_id = c.visit_occurrence_id \\\n",
    "                            LEFT JOIN drug d on v.visit_occurrence_id = d.visit_occurrence_id \\\n",
    "                            LEFT JOIN (SELECT visit_occurrence_id, value_as_number \\\n",
    "                                        FROM measurement \\\n",
    "                                        WHERE measurement_concept_id = '2000000043') m \\\n",
    "                            ON v.visit_occurrence_id = m.visit_occurrence_id \\\n",
    "                            WHERE v.person_id IN {}\".format(cohort_ids) + \" \\\n",
    "                                AND v.visit_start_date < '2018-04-02 17:44:00' \\\n",
    "                                AND v.visit_concept_id = '9201'\\\n",
    "                            GROUP BY v.person_id, v.visit_start_date \\\n",
    "                            ORDER BY v.person_id, v.visit_start_date\", conn)"
   ]
  },
  {
   "cell_type": "code",
   "execution_count": 49,
   "metadata": {
    "collapsed": true
   },
   "outputs": [],
   "source": [
    "visits['obese'] = visits['obese'].astype('float16')"
   ]
  },
  {
   "cell_type": "code",
   "execution_count": 50,
   "metadata": {
    "collapsed": true
   },
   "outputs": [],
   "source": [
    "age_list = []\n",
    "for row in visits.itertuples():\n",
    "    age_list.append(round(((30 + float(row.date[8:10]) - float(row.age[8:10])) % 30) / 365 + \n",
    "                          ((12 + float(row.date[5:7]) - float(row.age[5:7])) % 12) / 12 + \n",
    "                          float(row.date[:4]) - float(row.age[:4]), 1))\n",
    "visits.loc[:, 'age'] = age_list"
   ]
  },
  {
   "cell_type": "code",
   "execution_count": 51,
   "metadata": {
    "collapsed": true
   },
   "outputs": [],
   "source": [
    "visits['date'] = visits['date'].apply(lambda x: x[:10])\n",
    "visits['gender'] = visits['gender'].apply(lambda x: gender[x])\n",
    "visits['obese'] = visits['obese'].apply(lambda x: 'no' if np.isnan(x) or x < 1.645 else 'yes')\n",
    "cols = ['diagnoses', 'scripts']\n",
    "decoders = [asthma_dict, albut_dict]\n",
    "for col, decode in zip(cols, decoders):\n",
    "    visits.loc[:, col] = visits[col].apply(lambda x: '—' if not x else [decode.get(item, 'x') for item in \n",
    "                                                                [int(s) for s in (set(x.split(',')))]])"
   ]
  },
  {
   "cell_type": "code",
   "execution_count": 52,
   "metadata": {
    "collapsed": true
   },
   "outputs": [],
   "source": [
    "visits.columns = ['p_id', 'visit_date', 'age_(yrs)', 'gender', 'obese', 'diagnoses (asthma, x = other)', \n",
    "                  'scripts (albuterol, x = other)']"
   ]
  },
  {
   "cell_type": "code",
   "execution_count": 53,
   "metadata": {},
   "outputs": [
    {
     "data": {
      "text/html": [
       "<div>\n",
       "<style>\n",
       "    .dataframe thead tr:only-child th {\n",
       "        text-align: right;\n",
       "    }\n",
       "\n",
       "    .dataframe thead th {\n",
       "        text-align: left;\n",
       "    }\n",
       "\n",
       "    .dataframe tbody tr th {\n",
       "        vertical-align: top;\n",
       "    }\n",
       "</style>\n",
       "<table border=\"1\" class=\"dataframe\">\n",
       "  <thead>\n",
       "    <tr style=\"text-align: right;\">\n",
       "      <th></th>\n",
       "      <th>p_id</th>\n",
       "      <th>visit_date</th>\n",
       "      <th>age_(yrs)</th>\n",
       "      <th>gender</th>\n",
       "      <th>obese</th>\n",
       "      <th>diagnoses (asthma, x = other)</th>\n",
       "      <th>scripts (albuterol, x = other)</th>\n",
       "    </tr>\n",
       "  </thead>\n",
       "  <tbody>\n",
       "    <tr>\n",
       "      <th>0</th>\n",
       "      <td>1001</td>\n",
       "      <td>2007-12-14</td>\n",
       "      <td>9.1</td>\n",
       "      <td>F</td>\n",
       "      <td>no</td>\n",
       "      <td>[x]</td>\n",
       "      <td>[x]</td>\n",
       "    </tr>\n",
       "    <tr>\n",
       "      <th>1</th>\n",
       "      <td>1001</td>\n",
       "      <td>2017-07-25</td>\n",
       "      <td>19.7</td>\n",
       "      <td>F</td>\n",
       "      <td>yes</td>\n",
       "      <td>[Uncomplicated asthma, x]</td>\n",
       "      <td>—</td>\n",
       "    </tr>\n",
       "    <tr>\n",
       "      <th>2</th>\n",
       "      <td>1024</td>\n",
       "      <td>2011-10-24</td>\n",
       "      <td>9.6</td>\n",
       "      <td>M</td>\n",
       "      <td>no</td>\n",
       "      <td>—</td>\n",
       "      <td>[x]</td>\n",
       "    </tr>\n",
       "    <tr>\n",
       "      <th>3</th>\n",
       "      <td>1037</td>\n",
       "      <td>2012-10-22</td>\n",
       "      <td>12.5</td>\n",
       "      <td>M</td>\n",
       "      <td>no</td>\n",
       "      <td>[x, Asthma]</td>\n",
       "      <td>—</td>\n",
       "    </tr>\n",
       "    <tr>\n",
       "      <th>4</th>\n",
       "      <td>1049</td>\n",
       "      <td>2001-09-08</td>\n",
       "      <td>3.0</td>\n",
       "      <td>F</td>\n",
       "      <td>no</td>\n",
       "      <td>[x, x]</td>\n",
       "      <td>[200 ACTUAT Albuterol 0.09 MG/ACTUAT Metered D...</td>\n",
       "    </tr>\n",
       "  </tbody>\n",
       "</table>\n",
       "</div>"
      ],
      "text/plain": [
       "   p_id  visit_date  age_(yrs) gender obese diagnoses (asthma, x = other)  \\\n",
       "0  1001  2007-12-14        9.1      F    no                           [x]   \n",
       "1  1001  2017-07-25       19.7      F   yes     [Uncomplicated asthma, x]   \n",
       "2  1024  2011-10-24        9.6      M    no                             —   \n",
       "3  1037  2012-10-22       12.5      M    no                   [x, Asthma]   \n",
       "4  1049  2001-09-08        3.0      F    no                        [x, x]   \n",
       "\n",
       "                      scripts (albuterol, x = other)  \n",
       "0                                                [x]  \n",
       "1                                                  —  \n",
       "2                                                [x]  \n",
       "3                                                  —  \n",
       "4  [200 ACTUAT Albuterol 0.09 MG/ACTUAT Metered D...  "
      ]
     },
     "execution_count": 53,
     "metadata": {},
     "output_type": "execute_result"
    }
   ],
   "source": [
    "visits.head()"
   ]
  },
  {
   "cell_type": "code",
   "execution_count": 54,
   "metadata": {},
   "outputs": [
    {
     "data": {
      "text/html": [
       "<div>\n",
       "<style>\n",
       "    .dataframe thead tr:only-child th {\n",
       "        text-align: right;\n",
       "    }\n",
       "\n",
       "    .dataframe thead th {\n",
       "        text-align: left;\n",
       "    }\n",
       "\n",
       "    .dataframe tbody tr th {\n",
       "        vertical-align: top;\n",
       "    }\n",
       "</style>\n",
       "<table border=\"1\" class=\"dataframe\">\n",
       "  <thead>\n",
       "    <tr style=\"text-align: right;\">\n",
       "      <th></th>\n",
       "      <th>age_(yrs)</th>\n",
       "    </tr>\n",
       "  </thead>\n",
       "  <tbody>\n",
       "    <tr>\n",
       "      <th>count</th>\n",
       "      <td>428.000000</td>\n",
       "    </tr>\n",
       "    <tr>\n",
       "      <th>mean</th>\n",
       "      <td>6.835514</td>\n",
       "    </tr>\n",
       "    <tr>\n",
       "      <th>std</th>\n",
       "      <td>5.223492</td>\n",
       "    </tr>\n",
       "    <tr>\n",
       "      <th>min</th>\n",
       "      <td>0.000000</td>\n",
       "    </tr>\n",
       "    <tr>\n",
       "      <th>25%</th>\n",
       "      <td>2.300000</td>\n",
       "    </tr>\n",
       "    <tr>\n",
       "      <th>50%</th>\n",
       "      <td>5.550000</td>\n",
       "    </tr>\n",
       "    <tr>\n",
       "      <th>75%</th>\n",
       "      <td>11.000000</td>\n",
       "    </tr>\n",
       "    <tr>\n",
       "      <th>max</th>\n",
       "      <td>19.700000</td>\n",
       "    </tr>\n",
       "  </tbody>\n",
       "</table>\n",
       "</div>"
      ],
      "text/plain": [
       "        age_(yrs)\n",
       "count  428.000000\n",
       "mean     6.835514\n",
       "std      5.223492\n",
       "min      0.000000\n",
       "25%      2.300000\n",
       "50%      5.550000\n",
       "75%     11.000000\n",
       "max     19.700000"
      ]
     },
     "execution_count": 54,
     "metadata": {},
     "output_type": "execute_result"
    }
   ],
   "source": [
    "visits.describe()"
   ]
  },
  {
   "cell_type": "code",
   "execution_count": 55,
   "metadata": {},
   "outputs": [
    {
     "data": {
      "text/plain": [
       "'1999-05-17'"
      ]
     },
     "execution_count": 55,
     "metadata": {},
     "output_type": "execute_result"
    }
   ],
   "source": [
    "visits_stats = visits.describe()\n",
    "visits['visit_date'].min()"
   ]
  },
  {
   "cell_type": "markdown",
   "metadata": {},
   "source": [
    "Earliest visit date is later than earliest birth date."
   ]
  },
  {
   "cell_type": "code",
   "execution_count": 56,
   "metadata": {},
   "outputs": [
    {
     "data": {
      "text/plain": [
       "267"
      ]
     },
     "execution_count": 56,
     "metadata": {},
     "output_type": "execute_result"
    }
   ],
   "source": [
    "# How many of the cohort had in-patient visits\n",
    "len(np.unique(visits['p_id']))"
   ]
  },
  {
   "cell_type": "code",
   "execution_count": 57,
   "metadata": {
    "collapsed": true
   },
   "outputs": [],
   "source": [
    "# Select info for BMI table; post-process into readable form\n",
    "bmi = pd.read_sql_query(\"SELECT v.person_id p_id, v.visit_start_date date, p.birth_datetime age, \\\n",
    "                                p.gender_concept_id gender, \\\n",
    "                                AVG(m.value_as_number) BMI_Z, \\\n",
    "                                AVG(t.value_as_number) [body_temp_(C)], \\\n",
    "                                AVG(h.value_as_number) heart_rate, \\\n",
    "                                GROUP_CONCAT(c.condition_concept_id) asthma_diagnosis\\\n",
    "                            FROM visit v INNER JOIN person p ON v.person_id = p.person_id \\\n",
    "                                INNER JOIN measurement m ON v.visit_occurrence_id = m.visit_occurrence_id \\\n",
    "                                LEFT JOIN (SELECT value_as_number, visit_occurrence_id \\\n",
    "                                            FROM measurement \\\n",
    "                                            WHERE measurement_concept_id = '3020891') t\\\n",
    "                                ON v.visit_occurrence_id = t.visit_occurrence_id \\\n",
    "                                LEFT JOIN (SELECT value_as_number, visit_occurrence_id \\\n",
    "                                            FROM measurement \\\n",
    "                                            WHERE measurement_concept_id = '3027018') h \\\n",
    "                                ON v.visit_occurrence_id = h.visit_occurrence_id \\\n",
    "                                LEFT JOIN (SELECT condition_concept_id, visit_occurrence_id \\\n",
    "                                            FROM condition) c \\\n",
    "                                ON v.visit_occurrence_id = c.visit_occurrence_id\\\n",
    "                            WHERE v.person_id IN {}\".format(cohort_ids) + \" \\\n",
    "                                AND measurement_concept_id = '2000000043' \\\n",
    "                                AND v.visit_start_date < '2018-04-02 17:44:00' \\\n",
    "                            GROUP BY v.person_id, v.visit_start_date \\\n",
    "                            ORDER BY v.person_id, v.visit_start_date\", conn)"
   ]
  },
  {
   "cell_type": "code",
   "execution_count": 58,
   "metadata": {},
   "outputs": [
    {
     "data": {
      "text/html": [
       "<div>\n",
       "<style>\n",
       "    .dataframe thead tr:only-child th {\n",
       "        text-align: right;\n",
       "    }\n",
       "\n",
       "    .dataframe thead th {\n",
       "        text-align: left;\n",
       "    }\n",
       "\n",
       "    .dataframe tbody tr th {\n",
       "        vertical-align: top;\n",
       "    }\n",
       "</style>\n",
       "<table border=\"1\" class=\"dataframe\">\n",
       "  <thead>\n",
       "    <tr style=\"text-align: right;\">\n",
       "      <th></th>\n",
       "      <th>p_id</th>\n",
       "      <th>date</th>\n",
       "      <th>age</th>\n",
       "      <th>gender</th>\n",
       "      <th>BMI_Z</th>\n",
       "      <th>body_temp_(C)</th>\n",
       "      <th>heart_rate</th>\n",
       "      <th>asthma_diagnosis</th>\n",
       "    </tr>\n",
       "  </thead>\n",
       "  <tbody>\n",
       "    <tr>\n",
       "      <th>0</th>\n",
       "      <td>1001</td>\n",
       "      <td>2000-11-28 00:00:00</td>\n",
       "      <td>1998-11-08 14:51:52-05</td>\n",
       "      <td>8532</td>\n",
       "      <td>1.304754</td>\n",
       "      <td>37.876554</td>\n",
       "      <td>99.0</td>\n",
       "      <td>432526,432526,432526,432526,432526,432526,4325...</td>\n",
       "    </tr>\n",
       "    <tr>\n",
       "      <th>1</th>\n",
       "      <td>1001</td>\n",
       "      <td>2002-01-16 00:00:00</td>\n",
       "      <td>1998-11-08 14:51:52-05</td>\n",
       "      <td>8532</td>\n",
       "      <td>1.396109</td>\n",
       "      <td>NaN</td>\n",
       "      <td>NaN</td>\n",
       "      <td>None</td>\n",
       "    </tr>\n",
       "    <tr>\n",
       "      <th>2</th>\n",
       "      <td>1001</td>\n",
       "      <td>2002-12-17 00:00:00</td>\n",
       "      <td>1998-11-08 14:51:52-05</td>\n",
       "      <td>8532</td>\n",
       "      <td>0.952914</td>\n",
       "      <td>NaN</td>\n",
       "      <td>NaN</td>\n",
       "      <td>4061660</td>\n",
       "    </tr>\n",
       "    <tr>\n",
       "      <th>3</th>\n",
       "      <td>1001</td>\n",
       "      <td>2003-09-18 00:00:00</td>\n",
       "      <td>1998-11-08 14:51:52-05</td>\n",
       "      <td>8532</td>\n",
       "      <td>1.059959</td>\n",
       "      <td>NaN</td>\n",
       "      <td>NaN</td>\n",
       "      <td>None</td>\n",
       "    </tr>\n",
       "    <tr>\n",
       "      <th>4</th>\n",
       "      <td>1001</td>\n",
       "      <td>2003-09-23 00:00:00</td>\n",
       "      <td>1998-11-08 14:51:52-05</td>\n",
       "      <td>8532</td>\n",
       "      <td>1.472771</td>\n",
       "      <td>NaN</td>\n",
       "      <td>NaN</td>\n",
       "      <td>375415,375415</td>\n",
       "    </tr>\n",
       "    <tr>\n",
       "      <th>5</th>\n",
       "      <td>1001</td>\n",
       "      <td>2003-12-24 00:00:00</td>\n",
       "      <td>1998-11-08 14:51:52-05</td>\n",
       "      <td>8532</td>\n",
       "      <td>1.398924</td>\n",
       "      <td>NaN</td>\n",
       "      <td>NaN</td>\n",
       "      <td>None</td>\n",
       "    </tr>\n",
       "    <tr>\n",
       "      <th>6</th>\n",
       "      <td>1001</td>\n",
       "      <td>2006-02-25 00:00:00</td>\n",
       "      <td>1998-11-08 14:51:52-05</td>\n",
       "      <td>8532</td>\n",
       "      <td>1.357291</td>\n",
       "      <td>NaN</td>\n",
       "      <td>NaN</td>\n",
       "      <td>4143828,4203711</td>\n",
       "    </tr>\n",
       "    <tr>\n",
       "      <th>7</th>\n",
       "      <td>1001</td>\n",
       "      <td>2007-08-07 00:00:00</td>\n",
       "      <td>1998-11-08 14:51:52-05</td>\n",
       "      <td>8532</td>\n",
       "      <td>1.296440</td>\n",
       "      <td>NaN</td>\n",
       "      <td>NaN</td>\n",
       "      <td>None</td>\n",
       "    </tr>\n",
       "    <tr>\n",
       "      <th>8</th>\n",
       "      <td>1001</td>\n",
       "      <td>2008-11-12 00:00:00</td>\n",
       "      <td>1998-11-08 14:51:52-05</td>\n",
       "      <td>8532</td>\n",
       "      <td>1.555401</td>\n",
       "      <td>37.956883</td>\n",
       "      <td>NaN</td>\n",
       "      <td>45771045</td>\n",
       "    </tr>\n",
       "    <tr>\n",
       "      <th>9</th>\n",
       "      <td>1001</td>\n",
       "      <td>2009-10-04 00:00:00</td>\n",
       "      <td>1998-11-08 14:51:52-05</td>\n",
       "      <td>8532</td>\n",
       "      <td>1.529955</td>\n",
       "      <td>NaN</td>\n",
       "      <td>102.0</td>\n",
       "      <td>377889,443364</td>\n",
       "    </tr>\n",
       "  </tbody>\n",
       "</table>\n",
       "</div>"
      ],
      "text/plain": [
       "   p_id                 date                     age gender     BMI_Z  \\\n",
       "0  1001  2000-11-28 00:00:00  1998-11-08 14:51:52-05   8532  1.304754   \n",
       "1  1001  2002-01-16 00:00:00  1998-11-08 14:51:52-05   8532  1.396109   \n",
       "2  1001  2002-12-17 00:00:00  1998-11-08 14:51:52-05   8532  0.952914   \n",
       "3  1001  2003-09-18 00:00:00  1998-11-08 14:51:52-05   8532  1.059959   \n",
       "4  1001  2003-09-23 00:00:00  1998-11-08 14:51:52-05   8532  1.472771   \n",
       "5  1001  2003-12-24 00:00:00  1998-11-08 14:51:52-05   8532  1.398924   \n",
       "6  1001  2006-02-25 00:00:00  1998-11-08 14:51:52-05   8532  1.357291   \n",
       "7  1001  2007-08-07 00:00:00  1998-11-08 14:51:52-05   8532  1.296440   \n",
       "8  1001  2008-11-12 00:00:00  1998-11-08 14:51:52-05   8532  1.555401   \n",
       "9  1001  2009-10-04 00:00:00  1998-11-08 14:51:52-05   8532  1.529955   \n",
       "\n",
       "   body_temp_(C)  heart_rate  \\\n",
       "0      37.876554        99.0   \n",
       "1            NaN         NaN   \n",
       "2            NaN         NaN   \n",
       "3            NaN         NaN   \n",
       "4            NaN         NaN   \n",
       "5            NaN         NaN   \n",
       "6            NaN         NaN   \n",
       "7            NaN         NaN   \n",
       "8      37.956883         NaN   \n",
       "9            NaN       102.0   \n",
       "\n",
       "                                    asthma_diagnosis  \n",
       "0  432526,432526,432526,432526,432526,432526,4325...  \n",
       "1                                               None  \n",
       "2                                            4061660  \n",
       "3                                               None  \n",
       "4                                      375415,375415  \n",
       "5                                               None  \n",
       "6                                    4143828,4203711  \n",
       "7                                               None  \n",
       "8                                           45771045  \n",
       "9                                      377889,443364  "
      ]
     },
     "execution_count": 58,
     "metadata": {},
     "output_type": "execute_result"
    }
   ],
   "source": [
    "bmi.head(10)"
   ]
  },
  {
   "cell_type": "code",
   "execution_count": 59,
   "metadata": {},
   "outputs": [
    {
     "data": {
      "text/html": [
       "<div>\n",
       "<style>\n",
       "    .dataframe thead tr:only-child th {\n",
       "        text-align: right;\n",
       "    }\n",
       "\n",
       "    .dataframe thead th {\n",
       "        text-align: left;\n",
       "    }\n",
       "\n",
       "    .dataframe tbody tr th {\n",
       "        vertical-align: top;\n",
       "    }\n",
       "</style>\n",
       "<table border=\"1\" class=\"dataframe\">\n",
       "  <thead>\n",
       "    <tr style=\"text-align: right;\">\n",
       "      <th></th>\n",
       "      <th>BMI_Z</th>\n",
       "      <th>body_temp_(C)</th>\n",
       "      <th>heart_rate</th>\n",
       "    </tr>\n",
       "  </thead>\n",
       "  <tbody>\n",
       "    <tr>\n",
       "      <th>count</th>\n",
       "      <td>5656.000000</td>\n",
       "      <td>580.000000</td>\n",
       "      <td>711.000000</td>\n",
       "    </tr>\n",
       "    <tr>\n",
       "      <th>mean</th>\n",
       "      <td>1.802211</td>\n",
       "      <td>37.488201</td>\n",
       "      <td>87.158931</td>\n",
       "    </tr>\n",
       "    <tr>\n",
       "      <th>std</th>\n",
       "      <td>0.397917</td>\n",
       "      <td>0.818511</td>\n",
       "      <td>26.432136</td>\n",
       "    </tr>\n",
       "    <tr>\n",
       "      <th>min</th>\n",
       "      <td>0.712028</td>\n",
       "      <td>35.583251</td>\n",
       "      <td>22.000000</td>\n",
       "    </tr>\n",
       "    <tr>\n",
       "      <th>25%</th>\n",
       "      <td>1.501755</td>\n",
       "      <td>36.853343</td>\n",
       "      <td>69.000000</td>\n",
       "    </tr>\n",
       "    <tr>\n",
       "      <th>50%</th>\n",
       "      <td>1.768891</td>\n",
       "      <td>37.461323</td>\n",
       "      <td>85.000000</td>\n",
       "    </tr>\n",
       "    <tr>\n",
       "      <th>75%</th>\n",
       "      <td>2.097774</td>\n",
       "      <td>38.007019</td>\n",
       "      <td>102.000000</td>\n",
       "    </tr>\n",
       "    <tr>\n",
       "      <th>max</th>\n",
       "      <td>2.900822</td>\n",
       "      <td>40.113077</td>\n",
       "      <td>160.000000</td>\n",
       "    </tr>\n",
       "  </tbody>\n",
       "</table>\n",
       "</div>"
      ],
      "text/plain": [
       "             BMI_Z  body_temp_(C)  heart_rate\n",
       "count  5656.000000     580.000000  711.000000\n",
       "mean      1.802211      37.488201   87.158931\n",
       "std       0.397917       0.818511   26.432136\n",
       "min       0.712028      35.583251   22.000000\n",
       "25%       1.501755      36.853343   69.000000\n",
       "50%       1.768891      37.461323   85.000000\n",
       "75%       2.097774      38.007019  102.000000\n",
       "max       2.900822      40.113077  160.000000"
      ]
     },
     "execution_count": 59,
     "metadata": {},
     "output_type": "execute_result"
    }
   ],
   "source": [
    "bmi.describe()"
   ]
  },
  {
   "cell_type": "code",
   "execution_count": 60,
   "metadata": {},
   "outputs": [
    {
     "data": {
      "text/plain": [
       "'1999-02-22 00:00:00'"
      ]
     },
     "execution_count": 60,
     "metadata": {},
     "output_type": "execute_result"
    }
   ],
   "source": [
    "bmi_stats = bmi.describe()\n",
    "bmi['date'].min()"
   ]
  },
  {
   "cell_type": "markdown",
   "metadata": {},
   "source": [
    "Some heart rates seem very low, but not unimaginably so. All other values are reasonable, and the earliest measurement date is later than the earliest birth date."
   ]
  },
  {
   "cell_type": "code",
   "execution_count": 61,
   "metadata": {
    "collapsed": true
   },
   "outputs": [],
   "source": [
    "# For boolean column to indicate whether an asthma diagnosis was made during the same visit\n",
    "asthma_ids_2 = set([str(id) for id in asthma_ids])"
   ]
  },
  {
   "cell_type": "code",
   "execution_count": 62,
   "metadata": {
    "collapsed": true
   },
   "outputs": [],
   "source": [
    "age_list = []\n",
    "for row in bmi.itertuples():\n",
    "    age_list.append(round(((30 + float(row.date[8:10]) - float(row.age[8:10])) % 30) / 365 + \n",
    "                          ((12 + float(row.date[5:7]) - float(row.age[5:7])) % 12) / 12 + \n",
    "                          float(row.date[:4]) - float(row.age[:4]), 1))\n",
    "bmi.loc[:, 'age'] = age_list\n",
    "\n",
    "bmi['date'] = bmi['date'].apply(lambda x: x[:10])\n",
    "bmi['gender'] = bmi['gender'].apply(lambda x: gender[x])\n",
    "bmi['BMI_Z'] = bmi['BMI_Z'].apply(lambda x: round(x, 3))\n",
    "bmi['body_temp_(C)'] = bmi['body_temp_(C)'].apply(lambda x: '—' if np.isnan(x) else round(x, 1))\n",
    "bmi['heart_rate'] = bmi['heart_rate'].apply(lambda x: '—' if np.isnan(x) else int(x))\n",
    "bmi['asthma_diagnosis'] = bmi['asthma_diagnosis'].apply(lambda x: 'no' if not x or not (set(x.split(',')) & asthma_ids_2) else 'yes')"
   ]
  },
  {
   "cell_type": "code",
   "execution_count": 63,
   "metadata": {
    "collapsed": true
   },
   "outputs": [],
   "source": [
    "bmi.columns = ['age_(yrs)' if name == 'age' else name for name in bmi.columns]"
   ]
  },
  {
   "cell_type": "code",
   "execution_count": 64,
   "metadata": {},
   "outputs": [
    {
     "data": {
      "text/html": [
       "<div>\n",
       "<style>\n",
       "    .dataframe thead tr:only-child th {\n",
       "        text-align: right;\n",
       "    }\n",
       "\n",
       "    .dataframe thead th {\n",
       "        text-align: left;\n",
       "    }\n",
       "\n",
       "    .dataframe tbody tr th {\n",
       "        vertical-align: top;\n",
       "    }\n",
       "</style>\n",
       "<table border=\"1\" class=\"dataframe\">\n",
       "  <thead>\n",
       "    <tr style=\"text-align: right;\">\n",
       "      <th></th>\n",
       "      <th>p_id</th>\n",
       "      <th>date</th>\n",
       "      <th>age_(yrs)</th>\n",
       "      <th>gender</th>\n",
       "      <th>BMI_Z</th>\n",
       "      <th>body_temp_(C)</th>\n",
       "      <th>heart_rate</th>\n",
       "      <th>asthma_diagnosis</th>\n",
       "    </tr>\n",
       "  </thead>\n",
       "  <tbody>\n",
       "    <tr>\n",
       "      <th>0</th>\n",
       "      <td>1001</td>\n",
       "      <td>2000-11-28</td>\n",
       "      <td>2.1</td>\n",
       "      <td>F</td>\n",
       "      <td>1.305</td>\n",
       "      <td>37.9</td>\n",
       "      <td>99</td>\n",
       "      <td>no</td>\n",
       "    </tr>\n",
       "    <tr>\n",
       "      <th>1</th>\n",
       "      <td>1001</td>\n",
       "      <td>2002-01-16</td>\n",
       "      <td>4.2</td>\n",
       "      <td>F</td>\n",
       "      <td>1.396</td>\n",
       "      <td>—</td>\n",
       "      <td>—</td>\n",
       "      <td>no</td>\n",
       "    </tr>\n",
       "    <tr>\n",
       "      <th>2</th>\n",
       "      <td>1001</td>\n",
       "      <td>2002-12-17</td>\n",
       "      <td>4.1</td>\n",
       "      <td>F</td>\n",
       "      <td>0.953</td>\n",
       "      <td>—</td>\n",
       "      <td>—</td>\n",
       "      <td>no</td>\n",
       "    </tr>\n",
       "    <tr>\n",
       "      <th>3</th>\n",
       "      <td>1001</td>\n",
       "      <td>2003-09-18</td>\n",
       "      <td>5.9</td>\n",
       "      <td>F</td>\n",
       "      <td>1.060</td>\n",
       "      <td>—</td>\n",
       "      <td>—</td>\n",
       "      <td>no</td>\n",
       "    </tr>\n",
       "    <tr>\n",
       "      <th>4</th>\n",
       "      <td>1001</td>\n",
       "      <td>2003-09-23</td>\n",
       "      <td>5.9</td>\n",
       "      <td>F</td>\n",
       "      <td>1.473</td>\n",
       "      <td>—</td>\n",
       "      <td>—</td>\n",
       "      <td>no</td>\n",
       "    </tr>\n",
       "  </tbody>\n",
       "</table>\n",
       "</div>"
      ],
      "text/plain": [
       "   p_id        date  age_(yrs) gender  BMI_Z body_temp_(C) heart_rate  \\\n",
       "0  1001  2000-11-28        2.1      F  1.305          37.9         99   \n",
       "1  1001  2002-01-16        4.2      F  1.396             —          —   \n",
       "2  1001  2002-12-17        4.1      F  0.953             —          —   \n",
       "3  1001  2003-09-18        5.9      F  1.060             —          —   \n",
       "4  1001  2003-09-23        5.9      F  1.473             —          —   \n",
       "\n",
       "  asthma_diagnosis  \n",
       "0               no  \n",
       "1               no  \n",
       "2               no  \n",
       "3               no  \n",
       "4               no  "
      ]
     },
     "execution_count": 64,
     "metadata": {},
     "output_type": "execute_result"
    }
   ],
   "source": [
    "bmi.head()"
   ]
  },
  {
   "cell_type": "code",
   "execution_count": 65,
   "metadata": {},
   "outputs": [
    {
     "data": {
      "text/html": [
       "<div>\n",
       "<style>\n",
       "    .dataframe thead tr:only-child th {\n",
       "        text-align: right;\n",
       "    }\n",
       "\n",
       "    .dataframe thead th {\n",
       "        text-align: left;\n",
       "    }\n",
       "\n",
       "    .dataframe tbody tr th {\n",
       "        vertical-align: top;\n",
       "    }\n",
       "</style>\n",
       "<table border=\"1\" class=\"dataframe\">\n",
       "  <thead>\n",
       "    <tr style=\"text-align: right;\">\n",
       "      <th></th>\n",
       "      <th>age_(yrs)</th>\n",
       "      <th>BMI_Z</th>\n",
       "    </tr>\n",
       "  </thead>\n",
       "  <tbody>\n",
       "    <tr>\n",
       "      <th>count</th>\n",
       "      <td>5656.000000</td>\n",
       "      <td>5656.000000</td>\n",
       "    </tr>\n",
       "    <tr>\n",
       "      <th>mean</th>\n",
       "      <td>8.645138</td>\n",
       "      <td>1.802210</td>\n",
       "    </tr>\n",
       "    <tr>\n",
       "      <th>std</th>\n",
       "      <td>4.454759</td>\n",
       "      <td>0.397914</td>\n",
       "    </tr>\n",
       "    <tr>\n",
       "      <th>min</th>\n",
       "      <td>0.000000</td>\n",
       "      <td>0.712000</td>\n",
       "    </tr>\n",
       "    <tr>\n",
       "      <th>25%</th>\n",
       "      <td>4.900000</td>\n",
       "      <td>1.502000</td>\n",
       "    </tr>\n",
       "    <tr>\n",
       "      <th>50%</th>\n",
       "      <td>8.400000</td>\n",
       "      <td>1.769000</td>\n",
       "    </tr>\n",
       "    <tr>\n",
       "      <th>75%</th>\n",
       "      <td>12.200000</td>\n",
       "      <td>2.098000</td>\n",
       "    </tr>\n",
       "    <tr>\n",
       "      <th>max</th>\n",
       "      <td>20.300000</td>\n",
       "      <td>2.901000</td>\n",
       "    </tr>\n",
       "  </tbody>\n",
       "</table>\n",
       "</div>"
      ],
      "text/plain": [
       "         age_(yrs)        BMI_Z\n",
       "count  5656.000000  5656.000000\n",
       "mean      8.645138     1.802210\n",
       "std       4.454759     0.397914\n",
       "min       0.000000     0.712000\n",
       "25%       4.900000     1.502000\n",
       "50%       8.400000     1.769000\n",
       "75%      12.200000     2.098000\n",
       "max      20.300000     2.901000"
      ]
     },
     "execution_count": 65,
     "metadata": {},
     "output_type": "execute_result"
    }
   ],
   "source": [
    "bmi.describe()"
   ]
  },
  {
   "cell_type": "raw",
   "metadata": {},
   "source": [
    "Total measurements, 5656, is about 1.6 times the number of obese measurements, which is reasonable."
   ]
  },
  {
   "cell_type": "code",
   "execution_count": 66,
   "metadata": {},
   "outputs": [
    {
     "data": {
      "image/png": "[encoded data removed]",
      "text/plain": [
       "<matplotlib.figure.Figure at 0x107f30518>"
      ]
     },
     "metadata": {},
     "output_type": "display_data"
    }
   ],
   "source": [
    "fig, ax = plt.subplots(figsize=(10, 4))\n",
    "sns.catplot(ax=ax, x='race', y='age_(yrs)', hue='gender', kind='violin', split=True, data=cohort)\n",
    "plt.close(2)\n",
    "plt.title('Age distribution by race and gender', size=16)\n",
    "plt.xlabel('Race', size=12)\n",
    "plt.ylabel('Age in years', size=12)\n",
    "plt.show()\n",
    "#fig.savefig('age_race_gender.png')\n",
    "fig.savefig('age_race_gender.jpg')"
   ]
  },
  {
   "cell_type": "code",
   "execution_count": 67,
   "metadata": {},
   "outputs": [
    {
     "data": {
      "image/png": "[encoded data removed]",
      "text/plain": [
       "<matplotlib.figure.Figure at 0x10ab07b70>"
      ]
     },
     "metadata": {},
     "output_type": "display_data"
    }
   ],
   "source": [
    "fig, ax = plt.subplots(figsize=(8, 4))\n",
    "sns.relplot(ax=ax, x='age_(yrs)', y='BMI_Z', hue=\"gender\", data=bmi)\n",
    "plt.close(2)\n",
    "plt.title('BMI Z-scores by age and gender', size=16)\n",
    "plt.xlabel('Age in years', size=12)\n",
    "plt.ylabel('BMI Z-score', size=12)\n",
    "plt.show()\n",
    "#fig.savefig('bmi_age_gender.png')\n",
    "fig.savefig('bmi_age_gender.jpg')"
   ]
  },
  {
   "cell_type": "markdown",
   "metadata": {},
   "source": [
    "Calculate some general stats."
   ]
  },
  {
   "cell_type": "code",
   "execution_count": 68,
   "metadata": {},
   "outputs": [
    {
     "name": "stdout",
     "output_type": "stream",
     "text": [
      "Of the 86.8% of the cohort with known ethnicity, 15.2% identified as Hispanic or Latino.\n"
     ]
    }
   ],
   "source": [
    "total = len(cohort)\n",
    "HL = len(cohort[cohort['ethnicity'] == 'Hisp/Lat'])\n",
    "not_HL = len(cohort[cohort['ethnicity'] == 'Not Hisp/Lat'])\n",
    "tot_ethn = HL + not_HL\n",
    "\n",
    "print('Of the {}% of the cohort with known ethnicity, {}% identified as Hispanic or Latino.'.format(\n",
    "        round((tot_ethn/total)*100, 1), round((HL/tot_ethn)*100, 1)))"
   ]
  },
  {
   "cell_type": "code",
   "execution_count": 69,
   "metadata": {},
   "outputs": [
    {
     "name": "stdout",
     "output_type": "stream",
     "text": [
      "male: 193, female: 187\n"
     ]
    }
   ],
   "source": [
    "male = len(cohort[cohort['gender'] == 'M'])\n",
    "female = len(cohort[cohort['gender'] == 'F'])\n",
    "print('male: {}, female: {}'.format(male, female))"
   ]
  },
  {
   "cell_type": "code",
   "execution_count": 70,
   "metadata": {},
   "outputs": [
    {
     "name": "stdout",
     "output_type": "stream",
     "text": [
      "white: 70.4, bl/AfrAm: 16.8, other: 8.4, mult: 2.0, HP: 1.2, Asian: 1.2\n",
      "mult: 7, HP: 4, Asian: 4\n",
      "Known race: 90.8%\n",
      "total: 380\n"
     ]
    }
   ],
   "source": [
    "declined = len(cohort[cohort['race'] == 'Declined'])\n",
    "no_info = len(cohort[cohort['race'] == 'No info'])\n",
    "unknown = len(cohort[cohort['race'] == 'Unknown'])\n",
    "known = total - (declined + no_info + unknown)\n",
    "known_pct = round(100 * known / total, 1)\n",
    "\n",
    "white = round(100 * len(cohort[cohort['race'] == 'White']) / known, 1)\n",
    "bl_afram = round(100* len(cohort[cohort['race'] == 'Bl/AfrAm']) / known, 1)\n",
    "other = round(100 * len(cohort[cohort['race'] == 'Other']) / known, 1)\n",
    "mult_count = len(cohort[cohort['race'] == 'Multiple'])\n",
    "mult = round(100 * mult_count / known, 1)\n",
    "hp_count = len(cohort[cohort['race'] == 'Hawaii/PacIsl'])\n",
    "hp = round(100 * hp_count / known, 1)\n",
    "asian_count = len(cohort[cohort['race'] == 'Asian'])\n",
    "asian = round(100 * asian_count / known, 1)\n",
    "\n",
    "print('white: {}, bl/AfrAm: {}, other: {}, mult: {}, HP: {}, Asian: {}'.format(white, bl_afram, other, mult, hp, asian))\n",
    "print('mult: {}, HP: {}, Asian: {}'.format(mult_count, hp_count, asian_count))\n",
    "\n",
    "print('Known race: {}%'.format(known_pct))\n",
    "print('total: {}'.format(total))"
   ]
  },
  {
   "cell_type": "code",
   "execution_count": 71,
   "metadata": {},
   "outputs": [
    {
     "name": "stdout",
     "output_type": "stream",
     "text": [
      "Race information is available for almost all, 90.8%, of the cohort. Among known racial identities whites predominate at 70.4%, with blacks or African Americans next at 16.8%. People of multiple racial ancestry form 2.0% of the cohort. These percentages all are comparable to current Census Bureau figures for the US population as a whole. Of the other identified groups, both at 1.2%, Asians are represented at about one-fifth of their presence in the general population, while those of Hawaiian or other Pacific island ancestry are conversely represented at about five times the national average. Notably, the cohort contains no one identified as of American Indian or native Alaskan ancestry.\n"
     ]
    }
   ],
   "source": [
    "print('Race information is available for almost all, {}%, of the cohort. Among known racial identities whites \\\n",
    "predominate at {}%, with blacks or African Americans next at {}%. People of multiple racial ancestry \\\n",
    "form {}% of the cohort. These percentages all are comparable to current Census Bureau figures for the US \\\n",
    "population as a whole. Of the other identified groups, both at {}%, Asians are represented at about one-fifth of \\\n",
    "their presence in the general population, while those of Hawaiian or other Pacific island ancestry are conversely \\\n",
    "represented at about five times the national average. Notably, the cohort contains no one identified as of \\\n",
    "American Indian or native Alaskan ancestry.'.format(known_pct, white, bl_afram, mult, asian, hp))"
   ]
  },
  {
   "cell_type": "code",
   "execution_count": 72,
   "metadata": {
    "collapsed": true
   },
   "outputs": [],
   "source": [
    "#cohort.to_csv('cohort.csv')\n",
    "#visits.to_csv('inpatient_visits.csv')\n",
    "#bmi.to_csv('bmi.csv')"
   ]
  },
  {
   "cell_type": "code",
   "execution_count": 73,
   "metadata": {
    "scrolled": true
   },
   "outputs": [
    {
     "name": "stdout",
     "output_type": "stream",
     "text": [
      "['age_(yrs)', 'days_between', 'age_first_d', 'asthma_visits', 'BMI_Z', 'num_obese']\n",
      "['BMI_Z', 'body_temp_(C)', 'heart_rate']\n",
      "['age_(yrs)']\n"
     ]
    }
   ],
   "source": [
    "print(cohort_stats.columns.tolist())\n",
    "print(bmi_stats.columns.tolist())\n",
    "print(visits_stats.columns.tolist())"
   ]
  },
  {
   "cell_type": "code",
   "execution_count": 75,
   "metadata": {},
   "outputs": [
    {
     "data": {
      "text/html": [
       "<div>\n",
       "<style>\n",
       "    .dataframe thead tr:only-child th {\n",
       "        text-align: right;\n",
       "    }\n",
       "\n",
       "    .dataframe thead th {\n",
       "        text-align: left;\n",
       "    }\n",
       "\n",
       "    .dataframe tbody tr th {\n",
       "        vertical-align: top;\n",
       "    }\n",
       "</style>\n",
       "<table border=\"1\" class=\"dataframe\">\n",
       "  <thead>\n",
       "    <tr style=\"text-align: right;\">\n",
       "      <th></th>\n",
       "      <th>age_(yrs)1</th>\n",
       "      <th>days_between</th>\n",
       "      <th>age_first_d</th>\n",
       "      <th>asthma_visits</th>\n",
       "      <th>BMI_Z1</th>\n",
       "      <th>num_obese</th>\n",
       "      <th>BMI_Z</th>\n",
       "      <th>body_temp_(C)</th>\n",
       "      <th>heart_rate</th>\n",
       "      <th>age_(yrs)</th>\n",
       "    </tr>\n",
       "  </thead>\n",
       "  <tbody>\n",
       "    <tr>\n",
       "      <th>count</th>\n",
       "      <td>380.000000</td>\n",
       "      <td>380.000000</td>\n",
       "      <td>380.000000</td>\n",
       "      <td>380.000000</td>\n",
       "      <td>380.000000</td>\n",
       "      <td>380.000000</td>\n",
       "      <td>5656.000000</td>\n",
       "      <td>580.000000</td>\n",
       "      <td>711.000000</td>\n",
       "      <td>428.000000</td>\n",
       "    </tr>\n",
       "    <tr>\n",
       "      <th>mean</th>\n",
       "      <td>17.017105</td>\n",
       "      <td>663.650000</td>\n",
       "      <td>1.801842</td>\n",
       "      <td>11.465789</td>\n",
       "      <td>1.957259</td>\n",
       "      <td>9.189474</td>\n",
       "      <td>1.802211</td>\n",
       "      <td>37.488201</td>\n",
       "      <td>87.158931</td>\n",
       "      <td>6.835514</td>\n",
       "    </tr>\n",
       "    <tr>\n",
       "      <th>std</th>\n",
       "      <td>1.791683</td>\n",
       "      <td>852.712154</td>\n",
       "      <td>1.358768</td>\n",
       "      <td>5.520543</td>\n",
       "      <td>0.266723</td>\n",
       "      <td>6.876283</td>\n",
       "      <td>0.397917</td>\n",
       "      <td>0.818511</td>\n",
       "      <td>26.432136</td>\n",
       "      <td>5.223492</td>\n",
       "    </tr>\n",
       "    <tr>\n",
       "      <th>min</th>\n",
       "      <td>13.100000</td>\n",
       "      <td>0.000000</td>\n",
       "      <td>0.300000</td>\n",
       "      <td>2.000000</td>\n",
       "      <td>1.645027</td>\n",
       "      <td>1.000000</td>\n",
       "      <td>0.712028</td>\n",
       "      <td>35.583251</td>\n",
       "      <td>22.000000</td>\n",
       "      <td>0.000000</td>\n",
       "    </tr>\n",
       "    <tr>\n",
       "      <th>25%</th>\n",
       "      <td>15.575000</td>\n",
       "      <td>14.000000</td>\n",
       "      <td>0.900000</td>\n",
       "      <td>7.000000</td>\n",
       "      <td>1.731416</td>\n",
       "      <td>3.000000</td>\n",
       "      <td>1.501755</td>\n",
       "      <td>36.853343</td>\n",
       "      <td>69.000000</td>\n",
       "      <td>2.300000</td>\n",
       "    </tr>\n",
       "    <tr>\n",
       "      <th>50%</th>\n",
       "      <td>17.100000</td>\n",
       "      <td>350.000000</td>\n",
       "      <td>1.400000</td>\n",
       "      <td>11.000000</td>\n",
       "      <td>1.889878</td>\n",
       "      <td>8.000000</td>\n",
       "      <td>1.768891</td>\n",
       "      <td>37.461323</td>\n",
       "      <td>85.000000</td>\n",
       "      <td>5.550000</td>\n",
       "    </tr>\n",
       "    <tr>\n",
       "      <th>75%</th>\n",
       "      <td>18.525000</td>\n",
       "      <td>980.750000</td>\n",
       "      <td>2.200000</td>\n",
       "      <td>16.000000</td>\n",
       "      <td>2.130171</td>\n",
       "      <td>13.000000</td>\n",
       "      <td>2.097774</td>\n",
       "      <td>38.007019</td>\n",
       "      <td>102.000000</td>\n",
       "      <td>11.000000</td>\n",
       "    </tr>\n",
       "    <tr>\n",
       "      <th>max</th>\n",
       "      <td>20.700000</td>\n",
       "      <td>3923.000000</td>\n",
       "      <td>11.400000</td>\n",
       "      <td>25.000000</td>\n",
       "      <td>2.843094</td>\n",
       "      <td>30.000000</td>\n",
       "      <td>2.900822</td>\n",
       "      <td>40.113077</td>\n",
       "      <td>160.000000</td>\n",
       "      <td>19.700000</td>\n",
       "    </tr>\n",
       "  </tbody>\n",
       "</table>\n",
       "</div>"
      ],
      "text/plain": [
       "       age_(yrs)1  days_between  age_first_d  asthma_visits      BMI_Z1  \\\n",
       "count  380.000000    380.000000   380.000000     380.000000  380.000000   \n",
       "mean    17.017105    663.650000     1.801842      11.465789    1.957259   \n",
       "std      1.791683    852.712154     1.358768       5.520543    0.266723   \n",
       "min     13.100000      0.000000     0.300000       2.000000    1.645027   \n",
       "25%     15.575000     14.000000     0.900000       7.000000    1.731416   \n",
       "50%     17.100000    350.000000     1.400000      11.000000    1.889878   \n",
       "75%     18.525000    980.750000     2.200000      16.000000    2.130171   \n",
       "max     20.700000   3923.000000    11.400000      25.000000    2.843094   \n",
       "\n",
       "        num_obese        BMI_Z  body_temp_(C)  heart_rate   age_(yrs)  \n",
       "count  380.000000  5656.000000     580.000000  711.000000  428.000000  \n",
       "mean     9.189474     1.802211      37.488201   87.158931    6.835514  \n",
       "std      6.876283     0.397917       0.818511   26.432136    5.223492  \n",
       "min      1.000000     0.712028      35.583251   22.000000    0.000000  \n",
       "25%      3.000000     1.501755      36.853343   69.000000    2.300000  \n",
       "50%      8.000000     1.768891      37.461323   85.000000    5.550000  \n",
       "75%     13.000000     2.097774      38.007019  102.000000   11.000000  \n",
       "max     30.000000     2.900822      40.113077  160.000000   19.700000  "
      ]
     },
     "execution_count": 75,
     "metadata": {},
     "output_type": "execute_result"
    }
   ],
   "source": [
    "stats = cohort_stats.join(bmi_stats, lsuffix='1')\n",
    "stats = stats.join(visits_stats, lsuffix='1')\n",
    "stats"
   ]
  },
  {
   "cell_type": "code",
   "execution_count": 76,
   "metadata": {
    "collapsed": true
   },
   "outputs": [],
   "source": [
    "obese = asthma_obese[['person_id', 'first_obese']]\n",
    "obese.to_sql(\"obese\", conn, if_exists=\"replace\")"
   ]
  },
  {
   "cell_type": "code",
   "execution_count": 77,
   "metadata": {
    "collapsed": true
   },
   "outputs": [],
   "source": [
    "obese_1 = pd.read_sql_query(\"SELECT julianday(substr(p.birth_datetime, 1, 10)) birth, \\\n",
    "                                    julianday(o.first_obese) first\\\n",
    "                             FROM person p\\\n",
    "                             INNER JOIN obese o\\\n",
    "                             ON p.person_id = o.person_id\", conn)"
   ]
  },
  {
   "cell_type": "code",
   "execution_count": 78,
   "metadata": {
    "collapsed": true
   },
   "outputs": [],
   "source": [
    "obese_1['age'] = obese_1['first'] - obese_1['birth']\n",
    "obese_1['age'] = obese_1['age'] / 365.25"
   ]
  },
  {
   "cell_type": "code",
   "execution_count": 79,
   "metadata": {},
   "outputs": [
    {
     "data": {
      "text/html": [
       "<div>\n",
       "<style>\n",
       "    .dataframe thead tr:only-child th {\n",
       "        text-align: right;\n",
       "    }\n",
       "\n",
       "    .dataframe thead th {\n",
       "        text-align: left;\n",
       "    }\n",
       "\n",
       "    .dataframe tbody tr th {\n",
       "        vertical-align: top;\n",
       "    }\n",
       "</style>\n",
       "<table border=\"1\" class=\"dataframe\">\n",
       "  <thead>\n",
       "    <tr style=\"text-align: right;\">\n",
       "      <th></th>\n",
       "      <th>birth</th>\n",
       "      <th>first</th>\n",
       "      <th>age</th>\n",
       "    </tr>\n",
       "  </thead>\n",
       "  <tbody>\n",
       "    <tr>\n",
       "      <th>count</th>\n",
       "      <td>3.800000e+02</td>\n",
       "      <td>3.800000e+02</td>\n",
       "      <td>380.000000</td>\n",
       "    </tr>\n",
       "    <tr>\n",
       "      <th>mean</th>\n",
       "      <td>2.452254e+06</td>\n",
       "      <td>2.453483e+06</td>\n",
       "      <td>3.364105</td>\n",
       "    </tr>\n",
       "    <tr>\n",
       "      <th>std</th>\n",
       "      <td>6.275311e+02</td>\n",
       "      <td>1.331143e+03</td>\n",
       "      <td>3.177869</td>\n",
       "    </tr>\n",
       "    <tr>\n",
       "      <th>min</th>\n",
       "      <td>2.451046e+06</td>\n",
       "      <td>2.451240e+06</td>\n",
       "      <td>0.010951</td>\n",
       "    </tr>\n",
       "    <tr>\n",
       "      <th>25%</th>\n",
       "      <td>2.451720e+06</td>\n",
       "      <td>2.452557e+06</td>\n",
       "      <td>1.370294</td>\n",
       "    </tr>\n",
       "    <tr>\n",
       "      <th>50%</th>\n",
       "      <td>2.452256e+06</td>\n",
       "      <td>2.453222e+06</td>\n",
       "      <td>2.491444</td>\n",
       "    </tr>\n",
       "    <tr>\n",
       "      <th>75%</th>\n",
       "      <td>2.452794e+06</td>\n",
       "      <td>2.453988e+06</td>\n",
       "      <td>3.955510</td>\n",
       "    </tr>\n",
       "    <tr>\n",
       "      <th>max</th>\n",
       "      <td>2.453550e+06</td>\n",
       "      <td>2.458200e+06</td>\n",
       "      <td>18.710472</td>\n",
       "    </tr>\n",
       "  </tbody>\n",
       "</table>\n",
       "</div>"
      ],
      "text/plain": [
       "              birth         first         age\n",
       "count  3.800000e+02  3.800000e+02  380.000000\n",
       "mean   2.452254e+06  2.453483e+06    3.364105\n",
       "std    6.275311e+02  1.331143e+03    3.177869\n",
       "min    2.451046e+06  2.451240e+06    0.010951\n",
       "25%    2.451720e+06  2.452557e+06    1.370294\n",
       "50%    2.452256e+06  2.453222e+06    2.491444\n",
       "75%    2.452794e+06  2.453988e+06    3.955510\n",
       "max    2.453550e+06  2.458200e+06   18.710472"
      ]
     },
     "execution_count": 79,
     "metadata": {},
     "output_type": "execute_result"
    }
   ],
   "source": [
    "obese_1.describe()"
   ]
  }
 ],
 "metadata": {
  "kernelspec": {
   "display_name": "Python 3",
   "language": "python",
   "name": "python3"
  },
  "language_info": {
   "codemirror_mode": {
    "name": "ipython",
    "version": 3
   },
   "file_extension": ".py",
   "mimetype": "text/x-python",
   "name": "python",
   "nbconvert_exporter": "python",
   "pygments_lexer": "ipython3",
   "version": "3.6.2"
  }
 },
 "nbformat": 4,
 "nbformat_minor": 2
}
